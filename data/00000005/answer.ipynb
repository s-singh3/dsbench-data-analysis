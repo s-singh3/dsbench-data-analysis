{
 "cells": [
  {
   "cell_type": "code",
   "execution_count": 1,
   "id": "initial_id",
   "metadata": {
    "collapsed": true,
    "ExecuteTime": {
     "end_time": "2024-06-24T19:40:39.286311Z",
     "start_time": "2024-06-24T19:40:38.753680Z"
    }
   },
   "outputs": [],
   "source": [
    "import pandas as pd"
   ]
  },
  {
   "cell_type": "code",
   "outputs": [],
   "source": [
    "file = pd.read_excel(\"MO16-Round-1-Sec-3-Roll-The-Dice-1.xlsx\", sheet_name=\"Data\")"
   ],
   "metadata": {
    "collapsed": false,
    "ExecuteTime": {
     "end_time": "2024-06-24T19:43:12.892869Z",
     "start_time": "2024-06-24T19:43:12.382061Z"
    }
   },
   "id": "44e3e2755d85044b",
   "execution_count": 4
  },
  {
   "cell_type": "code",
   "outputs": [
    {
     "data": {
      "text/plain": "      ModelOff 2016 - Round 1 - Section 3  Unnamed: 1  \\\n0                                     NaN         NaN   \n1                                     NaN         NaN   \n2                                     NaN         NaN   \n3                                     NaN         NaN   \n4                                     NaN         NaN   \n...                                   ...         ...   \n6003                                  NaN         NaN   \n6004                                  NaN         NaN   \n6005                                  NaN         NaN   \n6006                                  NaN         NaN   \n6007                                  NaN         NaN   \n\n                          Unnamed: 2 Unnamed: 3 Unnamed: 4 Unnamed: 5  \\\n0                                NaN        NaN        NaN        NaN   \n1                               Data        NaN        NaN        NaN   \n2                                NaN        NaN        NaN        NaN   \n3                                NaN        NaN        NaN        NaN   \n4     List of All Turns To Be Scored        NaN        NaN        NaN   \n...                              ...        ...        ...        ...   \n6003                            5996       2998          1          2   \n6004                            5997       2999          4          3   \n6005                            5998       2999          2          2   \n6006                            5999       3000          5          6   \n6007                            6000       3000          2          5   \n\n     Unnamed: 6 Unnamed: 7 Unnamed: 8 Unnamed: 9  \n0           NaN        NaN        NaN        NaN  \n1           NaN        NaN        NaN        NaN  \n2           NaN        NaN        NaN        NaN  \n3           NaN        NaN        NaN        NaN  \n4           NaN        NaN        NaN        NaN  \n...         ...        ...        ...        ...  \n6003          4          2          1          3  \n6004          4          5          5          4  \n6005          2          5          6          1  \n6006          4          4          2          6  \n6007          4          3          2          5  \n\n[6008 rows x 10 columns]",
      "text/html": "<div>\n<style scoped>\n    .dataframe tbody tr th:only-of-type {\n        vertical-align: middle;\n    }\n\n    .dataframe tbody tr th {\n        vertical-align: top;\n    }\n\n    .dataframe thead th {\n        text-align: right;\n    }\n</style>\n<table border=\"1\" class=\"dataframe\">\n  <thead>\n    <tr style=\"text-align: right;\">\n      <th></th>\n      <th>ModelOff 2016 - Round 1 - Section 3</th>\n      <th>Unnamed: 1</th>\n      <th>Unnamed: 2</th>\n      <th>Unnamed: 3</th>\n      <th>Unnamed: 4</th>\n      <th>Unnamed: 5</th>\n      <th>Unnamed: 6</th>\n      <th>Unnamed: 7</th>\n      <th>Unnamed: 8</th>\n      <th>Unnamed: 9</th>\n    </tr>\n  </thead>\n  <tbody>\n    <tr>\n      <th>0</th>\n      <td>NaN</td>\n      <td>NaN</td>\n      <td>NaN</td>\n      <td>NaN</td>\n      <td>NaN</td>\n      <td>NaN</td>\n      <td>NaN</td>\n      <td>NaN</td>\n      <td>NaN</td>\n      <td>NaN</td>\n    </tr>\n    <tr>\n      <th>1</th>\n      <td>NaN</td>\n      <td>NaN</td>\n      <td>Data</td>\n      <td>NaN</td>\n      <td>NaN</td>\n      <td>NaN</td>\n      <td>NaN</td>\n      <td>NaN</td>\n      <td>NaN</td>\n      <td>NaN</td>\n    </tr>\n    <tr>\n      <th>2</th>\n      <td>NaN</td>\n      <td>NaN</td>\n      <td>NaN</td>\n      <td>NaN</td>\n      <td>NaN</td>\n      <td>NaN</td>\n      <td>NaN</td>\n      <td>NaN</td>\n      <td>NaN</td>\n      <td>NaN</td>\n    </tr>\n    <tr>\n      <th>3</th>\n      <td>NaN</td>\n      <td>NaN</td>\n      <td>NaN</td>\n      <td>NaN</td>\n      <td>NaN</td>\n      <td>NaN</td>\n      <td>NaN</td>\n      <td>NaN</td>\n      <td>NaN</td>\n      <td>NaN</td>\n    </tr>\n    <tr>\n      <th>4</th>\n      <td>NaN</td>\n      <td>NaN</td>\n      <td>List of All Turns To Be Scored</td>\n      <td>NaN</td>\n      <td>NaN</td>\n      <td>NaN</td>\n      <td>NaN</td>\n      <td>NaN</td>\n      <td>NaN</td>\n      <td>NaN</td>\n    </tr>\n    <tr>\n      <th>...</th>\n      <td>...</td>\n      <td>...</td>\n      <td>...</td>\n      <td>...</td>\n      <td>...</td>\n      <td>...</td>\n      <td>...</td>\n      <td>...</td>\n      <td>...</td>\n      <td>...</td>\n    </tr>\n    <tr>\n      <th>6003</th>\n      <td>NaN</td>\n      <td>NaN</td>\n      <td>5996</td>\n      <td>2998</td>\n      <td>1</td>\n      <td>2</td>\n      <td>4</td>\n      <td>2</td>\n      <td>1</td>\n      <td>3</td>\n    </tr>\n    <tr>\n      <th>6004</th>\n      <td>NaN</td>\n      <td>NaN</td>\n      <td>5997</td>\n      <td>2999</td>\n      <td>4</td>\n      <td>3</td>\n      <td>4</td>\n      <td>5</td>\n      <td>5</td>\n      <td>4</td>\n    </tr>\n    <tr>\n      <th>6005</th>\n      <td>NaN</td>\n      <td>NaN</td>\n      <td>5998</td>\n      <td>2999</td>\n      <td>2</td>\n      <td>2</td>\n      <td>2</td>\n      <td>5</td>\n      <td>6</td>\n      <td>1</td>\n    </tr>\n    <tr>\n      <th>6006</th>\n      <td>NaN</td>\n      <td>NaN</td>\n      <td>5999</td>\n      <td>3000</td>\n      <td>5</td>\n      <td>6</td>\n      <td>4</td>\n      <td>4</td>\n      <td>2</td>\n      <td>6</td>\n    </tr>\n    <tr>\n      <th>6007</th>\n      <td>NaN</td>\n      <td>NaN</td>\n      <td>6000</td>\n      <td>3000</td>\n      <td>2</td>\n      <td>5</td>\n      <td>4</td>\n      <td>3</td>\n      <td>2</td>\n      <td>5</td>\n    </tr>\n  </tbody>\n</table>\n<p>6008 rows × 10 columns</p>\n</div>"
     },
     "execution_count": 5,
     "metadata": {},
     "output_type": "execute_result"
    }
   ],
   "source": [
    "file"
   ],
   "metadata": {
    "collapsed": false,
    "ExecuteTime": {
     "end_time": "2024-06-24T19:43:13.949632Z",
     "start_time": "2024-06-24T19:43:13.758590Z"
    }
   },
   "id": "8aeb8e5416201c88",
   "execution_count": 5
  },
  {
   "cell_type": "code",
   "outputs": [
    {
     "data": {
      "text/plain": "0       NaN\n1       NaN\n2       NaN\n3       NaN\n4       NaN\n       ... \n6003      1\n6004      4\n6005      2\n6006      5\n6007      2\nName: Unnamed: 4, Length: 6008, dtype: object"
     },
     "execution_count": 6,
     "metadata": {},
     "output_type": "execute_result"
    }
   ],
   "source": [
    "file['Unnamed: 4']"
   ],
   "metadata": {
    "collapsed": false,
    "ExecuteTime": {
     "end_time": "2024-06-24T20:34:52.680689Z",
     "start_time": "2024-06-24T20:34:52.677117Z"
    }
   },
   "id": "9daa457c0ab69417",
   "execution_count": 6
  },
  {
   "cell_type": "code",
   "outputs": [],
   "source": [
    "turns = []\n",
    "for id, item in file.iterrows():\n",
    "    if isinstance(item['Unnamed: 4'], int):\n",
    "        # print(item['Unnamed: 4'])\n",
    "        turns.append([item['Unnamed: 4'], item['Unnamed: 5'], item['Unnamed: 6'], item['Unnamed: 7'],item['Unnamed: 8'], item['Unnamed: 9']])\n",
    "        # break"
   ],
   "metadata": {
    "collapsed": false,
    "ExecuteTime": {
     "end_time": "2024-06-24T20:41:38.996184Z",
     "start_time": "2024-06-24T20:41:38.620713Z"
    }
   },
   "id": "f6330335e31ac58f",
   "execution_count": 15
  },
  {
   "cell_type": "code",
   "outputs": [
    {
     "data": {
      "text/plain": "6000"
     },
     "execution_count": 16,
     "metadata": {},
     "output_type": "execute_result"
    }
   ],
   "source": [
    "len(turns)"
   ],
   "metadata": {
    "collapsed": false,
    "ExecuteTime": {
     "end_time": "2024-06-24T20:41:50.918345Z",
     "start_time": "2024-06-24T20:41:50.893234Z"
    }
   },
   "id": "c178de633ad01add",
   "execution_count": 16
  },
  {
   "cell_type": "code",
   "outputs": [],
   "source": [
    "## Question 20\n",
    "\n",
    "score = 0\n",
    "for turn in turns:\n",
    "    max_val = max(turn)\n",
    "    times = 0\n",
    "    for val in turn:\n",
    "        if val == max_val:\n",
    "            times += 1\n",
    "    score += max_val * times\n",
    "    # print(times)"
   ],
   "metadata": {
    "collapsed": false,
    "ExecuteTime": {
     "end_time": "2024-06-24T20:46:39.468948Z",
     "start_time": "2024-06-24T20:46:39.464859Z"
    }
   },
   "id": "26eae9653325af9d",
   "execution_count": 19
  },
  {
   "cell_type": "code",
   "outputs": [
    {
     "data": {
      "text/plain": "52246"
     },
     "execution_count": 20,
     "metadata": {},
     "output_type": "execute_result"
    }
   ],
   "source": [
    "score"
   ],
   "metadata": {
    "collapsed": false,
    "ExecuteTime": {
     "end_time": "2024-06-24T20:46:42.828692Z",
     "start_time": "2024-06-24T20:46:42.823112Z"
    }
   },
   "id": "a4713aaca40117d9",
   "execution_count": 20
  },
  {
   "cell_type": "code",
   "outputs": [],
   "source": [
    "##B"
   ],
   "metadata": {
    "collapsed": false
   },
   "id": "e7dae46dc49e9fc6"
  },
  {
   "cell_type": "code",
   "outputs": [
    {
     "data": {
      "text/plain": "21"
     },
     "execution_count": 22,
     "metadata": {},
     "output_type": "execute_result"
    }
   ],
   "source": [
    "scores = []\n",
    "for turn in turns:\n",
    "    scores.append(sum(turn))\n",
    "\n",
    "\n",
    "maxlabel = max(scores,key=scores.count)\n",
    "maxlabel"
   ],
   "metadata": {
    "collapsed": false,
    "ExecuteTime": {
     "end_time": "2024-06-24T20:51:57.374693Z",
     "start_time": "2024-06-24T20:51:57.366323Z"
    }
   },
   "id": "19bcf1d3f94924f9",
   "execution_count": 22
  },
  {
   "cell_type": "code",
   "outputs": [],
   "source": [
    "## 21 f"
   ],
   "metadata": {
    "collapsed": false,
    "ExecuteTime": {
     "end_time": "2024-06-24T20:52:11.983780Z",
     "start_time": "2024-06-24T20:52:11.978896Z"
    }
   },
   "id": "103fa506b1d7869",
   "execution_count": 23
  },
  {
   "cell_type": "code",
   "outputs": [
    {
     "data": {
      "text/plain": "54"
     },
     "execution_count": 25,
     "metadata": {},
     "output_type": "execute_result"
    }
   ],
   "source": [
    "## Question 22 I\n",
    "\n",
    "scores = []\n",
    "for turn in turns:\n",
    "    scores.append(max(turn) * min(turn)*(max(turn)-min(turn)))\n",
    "\n",
    "max(scores)"
   ],
   "metadata": {
    "collapsed": false,
    "ExecuteTime": {
     "end_time": "2024-06-24T20:54:08.887266Z",
     "start_time": "2024-06-24T20:54:08.882357Z"
    }
   },
   "id": "fde938ed495862b3",
   "execution_count": 25
  },
  {
   "cell_type": "code",
   "outputs": [
    {
     "name": "stdout",
     "output_type": "stream",
     "text": [
      "128\n"
     ]
    }
   ],
   "source": [
    "## Question 23 B\n",
    "\n",
    "scores = 0\n",
    "for turn in turns:\n",
    "    if len(set(turn)) == 2:\n",
    "        for val in turn:\n",
    "            if val ==3:\n",
    "                scores += 1\n",
    "\n",
    "print(scores)"
   ],
   "metadata": {
    "collapsed": false,
    "ExecuteTime": {
     "end_time": "2024-06-24T20:56:42.540053Z",
     "start_time": "2024-06-24T20:56:42.530843Z"
    }
   },
   "id": "b244b4f3c1b9112",
   "execution_count": 26
  },
  {
   "cell_type": "code",
   "outputs": [
    {
     "name": "stdout",
     "output_type": "stream",
     "text": [
      "3148\n"
     ]
    }
   ],
   "source": [
    "## Question 24 d\n",
    "\n",
    "scores = 0\n",
    "for id, turn in enumerate(turns):\n",
    "    if len(set(turn)) == 6:\n",
    "        scores += 1\n",
    "        if scores == 50:\n",
    "            print(id+1)\n",
    "            break\n",
    "\n"
   ],
   "metadata": {
    "collapsed": false,
    "ExecuteTime": {
     "end_time": "2024-06-24T20:59:49.762347Z",
     "start_time": "2024-06-24T20:59:49.758977Z"
    }
   },
   "id": "326c9631c22c3dc4",
   "execution_count": 28
  },
  {
   "cell_type": "code",
   "outputs": [
    {
     "name": "stdout",
     "output_type": "stream",
     "text": [
      "98\n"
     ]
    }
   ],
   "source": [
    "## Question 25 E\n",
    "\n",
    "\n",
    "def contu(Lis):\n",
    "    assert len(Lis) == 4, \"error\"\n",
    "    if Lis[0] + 1 == Lis[1] and Lis[1] + 1 ==Lis[2] and Lis[2] + 1 ==Lis[3]:\n",
    "        return True\n",
    "    if Lis[0] - 1 == Lis[1] and Lis[1] - 1 ==Lis[2] and Lis[2] - 1 ==Lis[3]:\n",
    "        return True\n",
    "    return False\n",
    "\n",
    "scores = 0\n",
    "for id, turn in enumerate(turns):\n",
    "    qualify = False\n",
    "    for i in [0,1,2]:\n",
    "        if contu(turn[i:i+4]):\n",
    "            qualify = True\n",
    "    if qualify:\n",
    "        scores += 1\n",
    "\n",
    "print(scores)\n"
   ],
   "metadata": {
    "collapsed": false,
    "ExecuteTime": {
     "end_time": "2024-06-24T21:10:54.555177Z",
     "start_time": "2024-06-24T21:10:54.551236Z"
    }
   },
   "id": "cbfe517084028ace",
   "execution_count": 29
  },
  {
   "cell_type": "code",
   "outputs": [
    {
     "name": "stdout",
     "output_type": "stream",
     "text": [
      "126789\n"
     ]
    }
   ],
   "source": [
    "## Question 26 G\n",
    "\n",
    "\n",
    "def contu(Lis):\n",
    "    assert len(Lis) == 4, \"error\"\n",
    "    if Lis[0] + 1 == Lis[1] and Lis[1] + 1 ==Lis[2] and Lis[2] + 1 ==Lis[3]:\n",
    "        return True\n",
    "    if Lis[0] - 1 == Lis[1] and Lis[1] - 1 ==Lis[2] and Lis[2] - 1 ==Lis[3]:\n",
    "        return True\n",
    "    return False\n",
    "\n",
    "scores = 0\n",
    "for id, turn in enumerate(turns):\n",
    "    score = []\n",
    "    max_val = max(turn)\n",
    "    times = 0\n",
    "    for val in turn:\n",
    "        if val == max_val:\n",
    "            times += 1    \n",
    "    \n",
    "    score.append(max_val * times)\n",
    "    score.append(sum(turn))\n",
    "    score.append(max(turn) * min(turn)*(max(turn)-min(turn)))\n",
    "    if len(set(turn)) == 2:\n",
    "        score.append(30)\n",
    "    else:\n",
    "        score.append(0)\n",
    "\n",
    "    if len(set(turn)) == 6:\n",
    "        score.append(40)\n",
    "    else:\n",
    "        score.append(0)\n",
    "        \n",
    "    qualify = False\n",
    "    for i in [0,1,2]:\n",
    "        if contu(turn[i:i+4]):\n",
    "            qualify = True\n",
    "    if qualify:\n",
    "        score.append(50)\n",
    "    else:\n",
    "        score.append(0)\n",
    "    \n",
    "    score.sort(reverse=True)\n",
    "    scores += score[1]\n",
    "print(scores)"
   ],
   "metadata": {
    "collapsed": false,
    "ExecuteTime": {
     "end_time": "2024-06-24T21:21:51.096316Z",
     "start_time": "2024-06-24T21:21:51.056458Z"
    }
   },
   "id": "2e26e9d9f640b36c",
   "execution_count": 33
  },
  {
   "cell_type": "code",
   "outputs": [
    {
     "name": "stdout",
     "output_type": "stream",
     "text": [
      "54\n",
      "339\n"
     ]
    }
   ],
   "source": [
    "## Question 27 I\n",
    "\n",
    "\n",
    "def contu(Lis):\n",
    "    assert len(Lis) == 4, \"error\"\n",
    "    if Lis[0] + 1 == Lis[1] and Lis[1] + 1 ==Lis[2] and Lis[2] + 1 ==Lis[3]:\n",
    "        return True\n",
    "    if Lis[0] - 1 == Lis[1] and Lis[1] - 1 ==Lis[2] and Lis[2] - 1 ==Lis[3]:\n",
    "        return True\n",
    "    return False\n",
    "\n",
    "scores = []\n",
    "for id, turn in enumerate(turns):\n",
    "    score = []\n",
    "    max_val = max(turn)\n",
    "    times = 0\n",
    "    for val in turn:\n",
    "        if val == max_val:\n",
    "            times += 1    \n",
    "    \n",
    "    score.append(max_val * times)\n",
    "    score.append(sum(turn))\n",
    "    score.append(max(turn) * min(turn)*(max(turn)-min(turn)))\n",
    "    if len(set(turn)) == 2:\n",
    "        score.append(30)\n",
    "    else:\n",
    "        score.append(0)\n",
    "\n",
    "    if len(set(turn)) == 6:\n",
    "        score.append(40)\n",
    "    else:\n",
    "        score.append(0)\n",
    "        \n",
    "    qualify = False\n",
    "    for i in [0,1,2]:\n",
    "        if contu(turn[i:i+4]):\n",
    "            qualify = True\n",
    "    if qualify:\n",
    "        score.append(50)\n",
    "    else:\n",
    "        score.append(0)\n",
    "    \n",
    "    score.sort(reverse=True)\n",
    "    scores += score\n",
    "maxm = max(scores)\n",
    "print(maxm)\n",
    "\n",
    "manys = 0\n",
    "for i in range(int(len(scores)/10)):\n",
    "    mm = max(scores[10*i : 10 * (i+1)])\n",
    "    if mm == maxm:\n",
    "        manys += 1\n",
    "print(manys)"
   ],
   "metadata": {
    "collapsed": false,
    "ExecuteTime": {
     "end_time": "2024-06-24T21:28:41.335524Z",
     "start_time": "2024-06-24T21:28:41.327797Z"
    }
   },
   "id": "6071fbc72f8b5b79",
   "execution_count": 38
  },
  {
   "cell_type": "code",
   "outputs": [
    {
     "name": "stdout",
     "output_type": "stream",
     "text": [
      "54\n",
      "131434\n"
     ]
    }
   ],
   "source": [
    "## Question 28 131434\n",
    "\n",
    "\n",
    "def contu(Lis):\n",
    "    assert len(Lis) == 4, \"error\"\n",
    "    if Lis[0] + 1 == Lis[1] and Lis[1] + 1 ==Lis[2] and Lis[2] + 1 ==Lis[3]:\n",
    "        return True\n",
    "    if Lis[0] - 1 == Lis[1] and Lis[1] - 1 ==Lis[2] and Lis[2] - 1 ==Lis[3]:\n",
    "        return True\n",
    "    return False\n",
    "\n",
    "scores = []\n",
    "for id, turn in enumerate(turns):\n",
    "    score = []\n",
    "    max_val = max(turn)\n",
    "    times = 0\n",
    "    for val in turn:\n",
    "        if val == max_val:\n",
    "            times += 1    \n",
    "    \n",
    "    score.append(max_val * times)\n",
    "    score.append(sum(turn))\n",
    "    score.append(max(turn) * min(turn)*(max(turn)-min(turn)))\n",
    "    if len(set(turn)) == 2:\n",
    "        score.append(30)\n",
    "    else:\n",
    "        score.append(0)\n",
    "\n",
    "    if len(set(turn)) == 6:\n",
    "        score.append(40)\n",
    "    else:\n",
    "        score.append(0)\n",
    "        \n",
    "    qualify = False\n",
    "    for i in [0,1,2]:\n",
    "        if contu(turn[i:i+4]):\n",
    "            qualify = True\n",
    "    if qualify:\n",
    "        score.append(50)\n",
    "    else:\n",
    "        score.append(0)\n",
    "    \n",
    "    score.sort(reverse=True)\n",
    "    scores += score\n",
    "maxm = max(scores)\n",
    "print(maxm)\n",
    "\n",
    "final_score = 0\n",
    "manys = 0\n",
    "for i in range(int(len(scores)/10)):\n",
    "    mm = max(scores[10*i : 10 * (i+1)])\n",
    "    final_score += mm\n",
    "print(final_score)"
   ],
   "metadata": {
    "collapsed": false,
    "ExecuteTime": {
     "end_time": "2024-06-24T21:32:54.829630Z",
     "start_time": "2024-06-24T21:32:54.801262Z"
    }
   },
   "id": "f7aa7b3086b9c2f9",
   "execution_count": 39
  },
  {
   "cell_type": "code",
   "outputs": [
    {
     "name": "stdout",
     "output_type": "stream",
     "text": [
      "54\n",
      "78\n"
     ]
    }
   ],
   "source": [
    "## Question 29 78\n",
    "\n",
    "\n",
    "def contu(Lis):\n",
    "    assert len(Lis) == 4, \"error\"\n",
    "    if Lis[0] + 1 == Lis[1] and Lis[1] + 1 ==Lis[2] and Lis[2] + 1 ==Lis[3]:\n",
    "        return True\n",
    "    if Lis[0] - 1 == Lis[1] and Lis[1] - 1 ==Lis[2] and Lis[2] - 1 ==Lis[3]:\n",
    "        return True\n",
    "    return False\n",
    "\n",
    "scores = []\n",
    "for id, turn in enumerate(turns):\n",
    "    score = []\n",
    "    max_val = max(turn)\n",
    "    times = 0\n",
    "    for val in turn:\n",
    "        if val == max_val:\n",
    "            times += 1    \n",
    "    \n",
    "    score.append(max_val * times)\n",
    "    score.append(sum(turn))\n",
    "    score.append(max(turn) * min(turn)*(max(turn)-min(turn)))\n",
    "    if len(set(turn)) == 2:\n",
    "        score.append(30)\n",
    "    else:\n",
    "        score.append(0)\n",
    "\n",
    "    if len(set(turn)) == 6:\n",
    "        score.append(40)\n",
    "    else:\n",
    "        score.append(0)\n",
    "        \n",
    "    qualify = False\n",
    "    for i in [0,1,2]:\n",
    "        if contu(turn[i:i+4]):\n",
    "            qualify = True\n",
    "    if qualify:\n",
    "        score.append(50)\n",
    "    else:\n",
    "        score.append(0)\n",
    "    \n",
    "    score.sort(reverse=True)\n",
    "    scores += score\n",
    "maxm = max(scores)\n",
    "print(maxm)\n",
    "\n",
    "win_a = 0\n",
    "win_b = 0\n",
    "for i in range(0, int(len(scores)/10), 2):\n",
    "    mm1 = max(scores[10*i : 10 * (i+1)])\n",
    "    mm2 = max(scores[10*(i+1) : 10 * (i+2)])\n",
    "    if mm1 > mm2:\n",
    "        win_a += 1\n",
    "    if mm2 > mm1:\n",
    "        win_b +=1\n",
    "print(win_a - win_b)"
   ],
   "metadata": {
    "collapsed": false,
    "ExecuteTime": {
     "end_time": "2024-06-24T21:36:00.406782Z",
     "start_time": "2024-06-24T21:36:00.403885Z"
    }
   },
   "id": "62768d86f82739e1",
   "execution_count": 43
  },
  {
   "cell_type": "code",
   "outputs": [],
   "source": [],
   "metadata": {
    "collapsed": false
   },
   "id": "fd30476b628e0583"
  }
 ],
 "metadata": {
  "kernelspec": {
   "display_name": "Python 3",
   "language": "python",
   "name": "python3"
  },
  "language_info": {
   "codemirror_mode": {
    "name": "ipython",
    "version": 2
   },
   "file_extension": ".py",
   "mimetype": "text/x-python",
   "name": "python",
   "nbconvert_exporter": "python",
   "pygments_lexer": "ipython2",
   "version": "2.7.6"
  }
 },
 "nbformat": 4,
 "nbformat_minor": 5
}
