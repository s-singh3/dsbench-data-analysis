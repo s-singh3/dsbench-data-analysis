{
 "cells": [
  {
   "cell_type": "code",
   "execution_count": 46,
   "id": "initial_id",
   "metadata": {
    "collapsed": true,
    "ExecuteTime": {
     "end_time": "2024-06-25T19:16:33.017559Z",
     "start_time": "2024-06-25T19:16:33.010144Z"
    }
   },
   "outputs": [],
   "source": [
    "import pandas as pd\n",
    "import string"
   ]
  },
  {
   "cell_type": "code",
   "outputs": [],
   "source": [
    "data = pd.read_excel('MO2017-Finals-Sec-3-Word-Play (1).xlsb', sheet_name='SOWPODS', header=None, dtype=str)"
   ],
   "metadata": {
    "collapsed": false,
    "ExecuteTime": {
     "end_time": "2024-06-25T18:54:03.028444Z",
     "start_time": "2024-06-25T18:53:55.819591Z"
    }
   },
   "id": "87d555866c154bea",
   "execution_count": 25
  },
  {
   "cell_type": "code",
   "outputs": [
    {
     "name": "stdout",
     "output_type": "stream",
     "text": [
      "{'a': 1, 'b': 3, 'c': 3, 'd': 2, 'e': 1, 'f': 4, 'g': 2, 'h': 4, 'i': 1, 'j': 8, 'k': 5, 'l': 1, 'm': 3, 'n': 1, 'o': 1, 'p': 3, 'q': 10, 'r': 1, 's': 1, 't': 1, 'u': 1, 'v': 4, 'w': 4, 'x': 8, 'y': 4, 'z': 10}\n"
     ]
    }
   ],
   "source": [
    "multiplier = [1, 1, 2, 1, 1, 1, 3, 1,1 ,1,2,1,1]\n",
    "scores4alpha = [1, 3, 3, 2, 1, 4, 2, 4, 1, 8, 5, 1, 3, 1, 1, 3, 10, 1, 1, 1, 1, 4, 4, 8, 4, 10]\n",
    "# 获取字母表中的前n个小写字母，n是点数列表的长度\n",
    "letters = list(string.ascii_lowercase)[:len(scores4alpha)]\n",
    "\n",
    "# 创建字典，键是字母，值是对应的点数\n",
    "points_dict = dict(zip(letters, scores4alpha))\n",
    "print(points_dict)"
   ],
   "metadata": {
    "collapsed": false,
    "ExecuteTime": {
     "end_time": "2024-06-25T19:17:57.832898Z",
     "start_time": "2024-06-25T19:17:57.816766Z"
    }
   },
   "id": "54b2576e0c7eada7",
   "execution_count": 48
  },
  {
   "cell_type": "code",
   "outputs": [
    {
     "data": {
      "text/plain": "267752"
     },
     "execution_count": 8,
     "metadata": {},
     "output_type": "execute_result"
    }
   ],
   "source": [
    "len(data)"
   ],
   "metadata": {
    "collapsed": false,
    "ExecuteTime": {
     "end_time": "2024-06-25T18:17:17.414030Z",
     "start_time": "2024-06-25T18:17:17.387407Z"
    }
   },
   "id": "e7b8cd8810e702d",
   "execution_count": 8
  },
  {
   "cell_type": "code",
   "outputs": [],
   "source": [
    "# alpha4word = {}\n"
   ],
   "metadata": {
    "collapsed": false
   },
   "id": "30a96a77946f7b5b"
  },
  {
   "cell_type": "code",
   "outputs": [
    {
     "name": "stdout",
     "output_type": "stream",
     "text": [
      "{'m': 1, 'o': 2, 'd': 1, 'e': 1, 'l': 1, 'f': 2}\n"
     ]
    }
   ],
   "source": [
    "\n",
    "def get_all_alpha4word(word):\n",
    "    alpha4word = {}\n",
    "    input_alpha = list(word.lower())\n",
    "    for alpha in input_alpha:\n",
    "        if alpha in alpha4word:\n",
    "            alpha4word[alpha] += 1\n",
    "        else:\n",
    "            alpha4word[alpha] = 1\n",
    "    return alpha4word\n",
    "            \n",
    "\n"
   ],
   "metadata": {
    "collapsed": false,
    "ExecuteTime": {
     "end_time": "2024-06-25T18:40:34.413022Z",
     "start_time": "2024-06-25T18:40:34.406784Z"
    }
   },
   "id": "8adb28d42116e14c",
   "execution_count": 14
  },
  {
   "cell_type": "code",
   "outputs": [
    {
     "name": "stdout",
     "output_type": "stream",
     "text": [
      "{'f': 1, 'i': 1, 'n': 2, 'a': 1, 'c': 1, 'e': 1}\n"
     ]
    }
   ],
   "source": [
    "input_string = 'finance'\n",
    "alpha4word_input = get_all_alpha4word(input_string)\n",
    "\n",
    "print(alpha4word_input)"
   ],
   "metadata": {
    "collapsed": false,
    "ExecuteTime": {
     "end_time": "2024-06-25T18:45:15.905015Z",
     "start_time": "2024-06-25T18:45:15.376591Z"
    }
   },
   "id": "7d22c4bfedb46031",
   "execution_count": 17
  },
  {
   "cell_type": "code",
   "outputs": [
    {
     "data": {
      "text/plain": "{'a', 'c', 'e', 'f', 'i', 'n'}"
     },
     "execution_count": 18,
     "metadata": {},
     "output_type": "execute_result"
    }
   ],
   "source": [
    "set(input_string)"
   ],
   "metadata": {
    "collapsed": false,
    "ExecuteTime": {
     "end_time": "2024-06-25T18:45:29.916426Z",
     "start_time": "2024-06-25T18:45:29.475852Z"
    }
   },
   "id": "a45d31123f21fb4c",
   "execution_count": 18
  },
  {
   "cell_type": "code",
   "outputs": [],
   "source": [
    "data[0][153522] = 'NULL'\n",
    "data[0][147737] = 'NA'\n"
   ],
   "metadata": {
    "collapsed": false,
    "ExecuteTime": {
     "end_time": "2024-06-25T18:57:24.133264Z",
     "start_time": "2024-06-25T18:57:24.126735Z"
    }
   },
   "id": "54af63b42bc80cf6",
   "execution_count": 29
  },
  {
   "cell_type": "code",
   "outputs": [],
   "source": [
    "input_string = 'finance'\n"
   ],
   "metadata": {
    "collapsed": false,
    "ExecuteTime": {
     "end_time": "2024-06-25T18:58:46.968609Z",
     "start_time": "2024-06-25T18:58:46.925501Z"
    }
   },
   "id": "e75577273bc57943",
   "execution_count": 33
  },
  {
   "cell_type": "code",
   "outputs": [],
   "source": [
    "def contains_all_letters(str1, str2):\n",
    "    # 将两个字符串转换为集合\n",
    "    set1 = set(str1)\n",
    "    set2 = set(str2)\n",
    "    # 判断str1的集合是否是str2集合的子集\n",
    "    return set1.issubset(set2)"
   ],
   "metadata": {
    "collapsed": false,
    "ExecuteTime": {
     "end_time": "2024-06-25T18:58:47.545376Z",
     "start_time": "2024-06-25T18:58:47.535393Z"
    }
   },
   "id": "27b039ac01edfdf2",
   "execution_count": 34
  },
  {
   "cell_type": "code",
   "outputs": [],
   "source": [
    "def find_max_index(lst):\n",
    "    # 使用max函数找到列表中的最大值\n",
    "    max_value = max(lst)\n",
    "    # 使用index方法找到这个最大值的第一个出现的索引\n",
    "    max_index = lst.index(max_value)\n",
    "    return max_index"
   ],
   "metadata": {
    "collapsed": false,
    "ExecuteTime": {
     "end_time": "2024-06-25T20:35:24.738353Z",
     "start_time": "2024-06-25T20:35:24.732953Z"
    }
   },
   "id": "3d4582dbf6cc8791",
   "execution_count": 53
  },
  {
   "cell_type": "code",
   "outputs": [
    {
     "name": "stdout",
     "output_type": "stream",
     "text": [
      "True\n",
      "True\n",
      "False\n"
     ]
    }
   ],
   "source": [
    "print(contains_all_letters('hello', 'helloas'))\n",
    "print(contains_all_letters('hello', 'hello'))\n",
    "print(contains_all_letters('helloas', 'hello'))\n"
   ],
   "metadata": {
    "collapsed": false,
    "ExecuteTime": {
     "end_time": "2024-06-25T19:02:06.581762Z",
     "start_time": "2024-06-25T19:02:06.572443Z"
    }
   },
   "id": "a1396085e46ceb49",
   "execution_count": 41
  },
  {
   "cell_type": "code",
   "outputs": [
    {
     "name": "stdout",
     "output_type": "stream",
     "text": [
      "number of words 7\n",
      "1-th word in list ALIBI\n",
      "highest scoring word BIALY\n",
      "highest score 21\n"
     ]
    }
   ],
   "source": [
    "input_string = 'ability'\n",
    "N = 5\n",
    "X = 1\n",
    "\n",
    "\n",
    "id = 0\n",
    "results = []\n",
    "alpha4word_input = get_all_alpha4word(input_string)\n",
    "for word in data[0]:\n",
    "    flag = True\n",
    "    # print(word)\n",
    "    id += 1\n",
    "    if len(word) == N and contains_all_letters(word.lower(), input_string.lower()):\n",
    "        alpha4word_list = get_all_alpha4word(word.lower())\n",
    "        for alpha in alpha4word_list:\n",
    "            if alpha4word_input[alpha] >= alpha4word_list[alpha]:\n",
    "                continue\n",
    "            else:\n",
    "                flag = False\n",
    "        if flag:\n",
    "            results.append(word)\n",
    "            # print(word)\n",
    "print(f\"number of words {len(results)}\")\n",
    "print(f\"{X}-th word in list {results[X-1]}\")\n",
    "\n",
    "scores_rel = []\n",
    "for result in results:\n",
    "    score_item = []\n",
    "    for j in range(0, 14-len(result)):\n",
    "        score_pos = 0\n",
    "        for k in range(j, j+len(result)):\n",
    "            # print(k)\n",
    "            \n",
    "            score_pos += points_dict[result[k-j].lower()] * multiplier[k]\n",
    "        score_item.append(score_pos)\n",
    "\n",
    "    scores_rel.append(max(score_item))\n",
    "    \n",
    "print(f\"highest scoring word {results[find_max_index(scores_rel)]}\")\n",
    "print(f\"highest score {max(scores_rel)}\")"
   ],
   "metadata": {
    "collapsed": false,
    "ExecuteTime": {
     "end_time": "2024-06-25T22:47:36.019356Z",
     "start_time": "2024-06-25T22:47:35.994876Z"
    }
   },
   "id": "9e30951e0d19cc85",
   "execution_count": 78
  },
  {
   "cell_type": "code",
   "outputs": [
    {
     "name": "stdout",
     "output_type": "stream",
     "text": [
      "number of words 8\n",
      "7-th word in list RARER\n",
      "highest scoring word BARER\n",
      "highest score 14\n"
     ]
    }
   ],
   "source": [
    "input_string = 'barrier'\n",
    "N = 5\n",
    "X = 7\n",
    "\n",
    "\n",
    "id = 0\n",
    "results = []\n",
    "alpha4word_input = get_all_alpha4word(input_string)\n",
    "for word in data[0]:\n",
    "    flag = True\n",
    "    # print(word)\n",
    "    id += 1\n",
    "    if len(word) == N and contains_all_letters(word.lower(), input_string.lower()):\n",
    "        alpha4word_list = get_all_alpha4word(word.lower())\n",
    "        for alpha in alpha4word_list:\n",
    "            if alpha4word_input[alpha] >= alpha4word_list[alpha]:\n",
    "                continue\n",
    "            else:\n",
    "                flag = False\n",
    "        if flag:\n",
    "            results.append(word)\n",
    "            # print(word)\n",
    "print(f\"number of words {len(results)}\")\n",
    "print(f\"{X}-th word in list {results[X-1]}\")\n",
    "\n",
    "scores_rel = []\n",
    "for result in results:\n",
    "    score_item = []\n",
    "    for j in range(0, 14-len(result)):\n",
    "        score_pos = 0\n",
    "        for k in range(j, j+len(result)):\n",
    "            # print(k)\n",
    "            \n",
    "            score_pos += points_dict[result[k-j].lower()] * multiplier[k]\n",
    "        score_item.append(score_pos)\n",
    "\n",
    "    scores_rel.append(max(score_item))\n",
    "    \n",
    "print(f\"highest scoring word {results[find_max_index(scores_rel)]}\")\n",
    "print(f\"highest score {max(scores_rel)}\")"
   ],
   "metadata": {
    "collapsed": false,
    "ExecuteTime": {
     "end_time": "2024-06-25T22:47:46.991601Z",
     "start_time": "2024-06-25T22:47:46.882994Z"
    }
   },
   "id": "895db9cb08af4633",
   "execution_count": 79
  },
  {
   "cell_type": "code",
   "outputs": [
    {
     "name": "stdout",
     "output_type": "stream",
     "text": [
      "number of words 20\n",
      "2-th word in list ASSERT\n",
      "highest scoring word MARSES\n",
      "highest score 15\n"
     ]
    }
   ],
   "source": [
    "input_string = 'masters'\n",
    "N = 6\n",
    "X = 2\n",
    "\n",
    "\n",
    "id = 0\n",
    "results = []\n",
    "alpha4word_input = get_all_alpha4word(input_string)\n",
    "for word in data[0]:\n",
    "    flag = True\n",
    "    # print(word)\n",
    "    id += 1\n",
    "    if len(word) == N and contains_all_letters(word.lower(), input_string.lower()):\n",
    "        alpha4word_list = get_all_alpha4word(word.lower())\n",
    "        for alpha in alpha4word_list:\n",
    "            if alpha4word_input[alpha] >= alpha4word_list[alpha]:\n",
    "                continue\n",
    "            else:\n",
    "                flag = False\n",
    "        if flag:\n",
    "            results.append(word)\n",
    "            # print(word)\n",
    "print(f\"number of words {len(results)}\")\n",
    "print(f\"{X}-th word in list {results[X-1]}\")\n",
    "\n",
    "scores_rel = []\n",
    "for result in results:\n",
    "    score_item = []\n",
    "    for j in range(0, 14-len(result)):\n",
    "        score_pos = 0\n",
    "        for k in range(j, j+len(result)):\n",
    "            # print(k)\n",
    "            \n",
    "            score_pos += points_dict[result[k-j].lower()] * multiplier[k]\n",
    "        score_item.append(score_pos)\n",
    "\n",
    "    scores_rel.append(max(score_item))\n",
    "    \n",
    "print(f\"highest scoring word {results[find_max_index(scores_rel)]}\")\n",
    "print(f\"highest score {max(scores_rel)}\")"
   ],
   "metadata": {
    "collapsed": false,
    "ExecuteTime": {
     "end_time": "2024-06-25T22:47:57.323711Z",
     "start_time": "2024-06-25T22:47:57.254946Z"
    }
   },
   "id": "7b73a640717b0eed",
   "execution_count": 80
  },
  {
   "cell_type": "code",
   "outputs": [
    {
     "name": "stdout",
     "output_type": "stream",
     "text": [
      "number of words 7\n",
      "3-th word in list LANNER\n",
      "highest scoring word ALTERN\n",
      "highest score 9\n"
     ]
    }
   ],
   "source": [
    "input_string = 'lantern'\n",
    "N = 6\n",
    "X = 3\n",
    "\n",
    "\n",
    "id = 0\n",
    "results = []\n",
    "alpha4word_input = get_all_alpha4word(input_string)\n",
    "for word in data[0]:\n",
    "    flag = True\n",
    "    # print(word)\n",
    "    id += 1\n",
    "    if len(word) == N and contains_all_letters(word.lower(), input_string.lower()):\n",
    "        alpha4word_list = get_all_alpha4word(word.lower())\n",
    "        for alpha in alpha4word_list:\n",
    "            if alpha4word_input[alpha] >= alpha4word_list[alpha]:\n",
    "                continue\n",
    "            else:\n",
    "                flag = False\n",
    "        if flag:\n",
    "            results.append(word)\n",
    "            # print(word)\n",
    "print(f\"number of words {len(results)}\")\n",
    "print(f\"{X}-th word in list {results[X-1]}\")\n",
    "\n",
    "scores_rel = []\n",
    "for result in results:\n",
    "    score_item = []\n",
    "    for j in range(0, 14-len(result)):\n",
    "        score_pos = 0\n",
    "        for k in range(j, j+len(result)):\n",
    "            # print(k)\n",
    "            \n",
    "            score_pos += points_dict[result[k-j].lower()] * multiplier[k]\n",
    "        score_item.append(score_pos)\n",
    "\n",
    "    scores_rel.append(max(score_item))\n",
    "    \n",
    "print(f\"highest scoring word {results[find_max_index(scores_rel)]}\")\n",
    "print(f\"highest score {max(scores_rel)}\")"
   ],
   "metadata": {
    "collapsed": false,
    "ExecuteTime": {
     "end_time": "2024-06-25T22:48:08.064202Z",
     "start_time": "2024-06-25T22:48:08.031480Z"
    }
   },
   "id": "ae59d0224716a55b",
   "execution_count": 81
  },
  {
   "cell_type": "code",
   "outputs": [
    {
     "name": "stdout",
     "output_type": "stream",
     "text": [
      "number of words 3\n",
      "3-th word in list RIBAND\n",
      "highest scoring word MINBAR\n",
      "highest score 17\n"
     ]
    }
   ],
   "source": [
    "input_string = 'birdman'\n",
    "N = 6\n",
    "X = 3\n",
    "\n",
    "\n",
    "id = 0\n",
    "results = []\n",
    "alpha4word_input = get_all_alpha4word(input_string)\n",
    "for word in data[0]:\n",
    "    flag = True\n",
    "    # print(word)\n",
    "    id += 1\n",
    "    if len(word) == N and contains_all_letters(word.lower(), input_string.lower()):\n",
    "        alpha4word_list = get_all_alpha4word(word.lower())\n",
    "        for alpha in alpha4word_list:\n",
    "            if alpha4word_input[alpha] >= alpha4word_list[alpha]:\n",
    "                continue\n",
    "            else:\n",
    "                flag = False\n",
    "        if flag:\n",
    "            results.append(word)\n",
    "            # print(word)\n",
    "print(f\"number of words {len(results)}\")\n",
    "print(f\"{X}-th word in list {results[X-1]}\")\n",
    "\n",
    "scores_rel = []\n",
    "for result in results:\n",
    "    score_item = []\n",
    "    for j in range(0, 14-len(result)):\n",
    "        score_pos = 0\n",
    "        for k in range(j, j+len(result)):\n",
    "            # print(k)\n",
    "            \n",
    "            score_pos += points_dict[result[k-j].lower()] * multiplier[k]\n",
    "        score_item.append(score_pos)\n",
    "\n",
    "    scores_rel.append(max(score_item))\n",
    "    \n",
    "print(f\"highest scoring word {results[find_max_index(scores_rel)]}\")\n",
    "print(f\"highest score {max(scores_rel)}\")"
   ],
   "metadata": {
    "collapsed": false,
    "ExecuteTime": {
     "end_time": "2024-06-25T22:48:22.829819Z",
     "start_time": "2024-06-25T22:48:22.800617Z"
    }
   },
   "id": "7e5153c46a529f10",
   "execution_count": 82
  },
  {
   "cell_type": "code",
   "outputs": [
    {
     "name": "stdout",
     "output_type": "stream",
     "text": [
      "number of words 14\n",
      "9-th word in list INARM\n",
      "highest scoring word ABRIM\n",
      "highest score 16\n"
     ]
    }
   ],
   "source": [
    "input_string = 'minibar'\n",
    "N = 5\n",
    "X = 9\n",
    "\n",
    "\n",
    "id = 0\n",
    "results = []\n",
    "alpha4word_input = get_all_alpha4word(input_string)\n",
    "for word in data[0]:\n",
    "    flag = True\n",
    "    # print(word)\n",
    "    id += 1\n",
    "    if len(word) == N and contains_all_letters(word.lower(), input_string.lower()):\n",
    "        alpha4word_list = get_all_alpha4word(word.lower())\n",
    "        for alpha in alpha4word_list:\n",
    "            if alpha4word_input[alpha] >= alpha4word_list[alpha]:\n",
    "                continue\n",
    "            else:\n",
    "                flag = False\n",
    "        if flag:\n",
    "            results.append(word)\n",
    "            # print(word)\n",
    "print(f\"number of words {len(results)}\")\n",
    "print(f\"{X}-th word in list {results[X-1]}\")\n",
    "\n",
    "scores_rel = []\n",
    "for result in results:\n",
    "    score_item = []\n",
    "    for j in range(0, 14-len(result)):\n",
    "        score_pos = 0\n",
    "        for k in range(j, j+len(result)):\n",
    "            # print(k)\n",
    "            \n",
    "            score_pos += points_dict[result[k-j].lower()] * multiplier[k]\n",
    "        score_item.append(score_pos)\n",
    "\n",
    "    scores_rel.append(max(score_item))\n",
    "    \n",
    "print(f\"highest scoring word {results[find_max_index(scores_rel)]}\")\n",
    "print(f\"highest score {max(scores_rel)}\")"
   ],
   "metadata": {
    "collapsed": false,
    "ExecuteTime": {
     "end_time": "2024-06-25T22:13:28.964588Z",
     "start_time": "2024-06-25T22:13:28.938328Z"
    }
   },
   "id": "1e66581c5c3d8a01",
   "execution_count": 61
  },
  {
   "cell_type": "code",
   "outputs": [
    {
     "name": "stdout",
     "output_type": "stream",
     "text": [
      "number of words 7\n",
      "4-th word in list RECANTS\n",
      "highest scoring word CANTERS\n",
      "highest score 16\n"
     ]
    }
   ],
   "source": [
    "input_string = 'scanter'\n",
    "N = 7\n",
    "X = 4\n",
    "\n",
    "\n",
    "id = 0\n",
    "results = []\n",
    "alpha4word_input = get_all_alpha4word(input_string)\n",
    "for word in data[0]:\n",
    "    flag = True\n",
    "    # print(word)\n",
    "    id += 1\n",
    "    if len(word) == N and contains_all_letters(word.lower(), input_string.lower()):\n",
    "        alpha4word_list = get_all_alpha4word(word.lower())\n",
    "        for alpha in alpha4word_list:\n",
    "            if alpha4word_input[alpha] >= alpha4word_list[alpha]:\n",
    "                continue\n",
    "            else:\n",
    "                flag = False\n",
    "        if flag:\n",
    "            results.append(word)\n",
    "            # print(word)\n",
    "print(f\"number of words {len(results)}\")\n",
    "print(f\"{X}-th word in list {results[X-1]}\")\n",
    "\n",
    "scores_rel = []\n",
    "for result in results:\n",
    "    score_item = []\n",
    "    for j in range(0, 14-len(result)):\n",
    "        score_pos = 0\n",
    "        for k in range(j, j+len(result)):\n",
    "            # print(k)\n",
    "            \n",
    "            score_pos += points_dict[result[k-j].lower()] * multiplier[k]\n",
    "        score_item.append(score_pos)\n",
    "\n",
    "    scores_rel.append(max(score_item))\n",
    "    \n",
    "print(f\"highest scoring word {results[find_max_index(scores_rel)]}\")\n",
    "print(f\"highest score {max(scores_rel)}\")\n"
   ],
   "metadata": {
    "collapsed": false,
    "ExecuteTime": {
     "end_time": "2024-06-25T22:14:13.933407Z",
     "start_time": "2024-06-25T22:14:13.882578Z"
    }
   },
   "id": "13eabb867d8ab0f8",
   "execution_count": 62
  },
  {
   "cell_type": "code",
   "outputs": [
    {
     "name": "stdout",
     "output_type": "stream",
     "text": [
      "number of words 9\n",
      "3-th word in list CANERS\n",
      "highest scoring word ARCSEC\n",
      "highest score 17\n"
     ]
    }
   ],
   "source": [
    "input_string = 'arcsecn'\n",
    "N = 6\n",
    "X = 3\n",
    "\n",
    "\n",
    "id = 0\n",
    "results = []\n",
    "alpha4word_input = get_all_alpha4word(input_string)\n",
    "for word in data[0]:\n",
    "    flag = True\n",
    "    # print(word)\n",
    "    id += 1\n",
    "    if len(word) == N and contains_all_letters(word.lower(), input_string.lower()):\n",
    "        alpha4word_list = get_all_alpha4word(word.lower())\n",
    "        for alpha in alpha4word_list:\n",
    "            if alpha4word_input[alpha] >= alpha4word_list[alpha]:\n",
    "                continue\n",
    "            else:\n",
    "                flag = False\n",
    "        if flag:\n",
    "            results.append(word)\n",
    "            # print(word)\n",
    "print(f\"number of words {len(results)}\")\n",
    "print(f\"{X}-th word in list {results[X-1]}\")\n",
    "\n",
    "scores_rel = []\n",
    "for result in results:\n",
    "    score_item = []\n",
    "    for j in range(0, 14-len(result)):\n",
    "        score_pos = 0\n",
    "        for k in range(j, j+len(result)):\n",
    "            # print(k)\n",
    "            \n",
    "            score_pos += points_dict[result[k-j].lower()] * multiplier[k]\n",
    "        score_item.append(score_pos)\n",
    "\n",
    "    scores_rel.append(max(score_item))\n",
    "    \n",
    "print(f\"highest scoring word {results[find_max_index(scores_rel)]}\")\n",
    "print(f\"highest score {max(scores_rel)}\")"
   ],
   "metadata": {
    "collapsed": false,
    "ExecuteTime": {
     "end_time": "2024-06-25T22:14:42.962906Z",
     "start_time": "2024-06-25T22:14:42.852191Z"
    }
   },
   "id": "7681f874d1a0c19c",
   "execution_count": 63
  },
  {
   "cell_type": "code",
   "outputs": [
    {
     "name": "stdout",
     "output_type": "stream",
     "text": [
      "number of words 14\n",
      "12-th word in list TANGI\n",
      "highest scoring word AGING\n",
      "highest score 12\n"
     ]
    }
   ],
   "source": [
    "input_string = 'grating'\n",
    "N = 5\n",
    "X = 12\n",
    "\n",
    "\n",
    "id = 0\n",
    "results = []\n",
    "alpha4word_input = get_all_alpha4word(input_string)\n",
    "for word in data[0]:\n",
    "    flag = True\n",
    "    # print(word)\n",
    "    id += 1\n",
    "    if len(word) == N and contains_all_letters(word.lower(), input_string.lower()):\n",
    "        alpha4word_list = get_all_alpha4word(word.lower())\n",
    "        for alpha in alpha4word_list:\n",
    "            if alpha4word_input[alpha] >= alpha4word_list[alpha]:\n",
    "                continue\n",
    "            else:\n",
    "                flag = False\n",
    "        if flag:\n",
    "            results.append(word)\n",
    "            # print(word)\n",
    "print(f\"number of words {len(results)}\")\n",
    "print(f\"{X}-th word in list {results[X-1]}\")\n",
    "\n",
    "scores_rel = []\n",
    "for result in results:\n",
    "    score_item = []\n",
    "    for j in range(0, 14-len(result)):\n",
    "        score_pos = 0\n",
    "        for k in range(j, j+len(result)):\n",
    "            # print(k)\n",
    "            \n",
    "            score_pos += points_dict[result[k-j].lower()] * multiplier[k]\n",
    "        score_item.append(score_pos)\n",
    "\n",
    "    scores_rel.append(max(score_item))\n",
    "    \n",
    "print(f\"highest scoring word {results[find_max_index(scores_rel)]}\")\n",
    "print(f\"highest score {max(scores_rel)}\")"
   ],
   "metadata": {
    "collapsed": false,
    "ExecuteTime": {
     "end_time": "2024-06-25T22:15:18.869135Z",
     "start_time": "2024-06-25T22:15:18.812983Z"
    }
   },
   "id": "7def73e89f648329",
   "execution_count": 64
  },
  {
   "cell_type": "code",
   "outputs": [
    {
     "name": "stdout",
     "output_type": "stream",
     "text": [
      "number of words 6\n",
      "4-th word in list DECLAIM\n",
      "highest scoring word CLAIMED\n",
      "highest score 21\n"
     ]
    }
   ],
   "source": [
    "input_string = 'decimal'\n",
    "N = 7\n",
    "X = 4\n",
    "\n",
    "\n",
    "id = 0\n",
    "results = []\n",
    "alpha4word_input = get_all_alpha4word(input_string)\n",
    "for word in data[0]:\n",
    "    flag = True\n",
    "    # print(word)\n",
    "    id += 1\n",
    "    if len(word) == N and contains_all_letters(word.lower(), input_string.lower()):\n",
    "        alpha4word_list = get_all_alpha4word(word.lower())\n",
    "        for alpha in alpha4word_list:\n",
    "            if alpha4word_input[alpha] >= alpha4word_list[alpha]:\n",
    "                continue\n",
    "            else:\n",
    "                flag = False\n",
    "        if flag:\n",
    "            results.append(word)\n",
    "            # print(word)\n",
    "print(f\"number of words {len(results)}\")\n",
    "print(f\"{X}-th word in list {results[X-1]}\")\n",
    "\n",
    "scores_rel = []\n",
    "for result in results:\n",
    "    score_item = []\n",
    "    for j in range(0, 14-len(result)):\n",
    "        score_pos = 0\n",
    "        for k in range(j, j+len(result)):\n",
    "            # print(k)\n",
    "            \n",
    "            score_pos += points_dict[result[k-j].lower()] * multiplier[k]\n",
    "        score_item.append(score_pos)\n",
    "\n",
    "    scores_rel.append(max(score_item))\n",
    "    \n",
    "print(f\"highest scoring word {results[find_max_index(scores_rel)]}\")\n",
    "print(f\"highest score {max(scores_rel)}\")"
   ],
   "metadata": {
    "collapsed": false,
    "ExecuteTime": {
     "end_time": "2024-06-25T22:15:36.730989Z",
     "start_time": "2024-06-25T22:15:36.629374Z"
    }
   },
   "id": "68517ab7267ef23f",
   "execution_count": 65
  },
  {
   "cell_type": "code",
   "outputs": [
    {
     "name": "stdout",
     "output_type": "stream",
     "text": [
      "number of words 183\n",
      "38-th word in list BAFFS\n",
      "highest scoring word ABUZZ\n",
      "highest score 46\n"
     ]
    }
   ],
   "source": [
    "input_string = 'ABACUS'\n",
    "N = 5\n",
    "X = 38\n",
    "\n",
    "\n",
    "id = 0\n",
    "results = []\n",
    "alpha4word_input = get_all_alpha4word(input_string)\n",
    "for word in data[0]:\n",
    "    flag = True\n",
    "    missing_albet = 0\n",
    "    # print(word)\n",
    "    id += 1\n",
    "    if len(word) == N and (contains_all_letters(word.lower(), input_string.lower()) or len(set(word)-set(input_string))==1):\n",
    "        alpha4word_list = get_all_alpha4word(word.lower())\n",
    "        for alpha in alpha4word_list:\n",
    "            \n",
    "            if alpha in alpha4word_input and alpha4word_input[alpha] >= alpha4word_list[alpha]:\n",
    "                continue\n",
    "            else:\n",
    "                missing_albet += 1\n",
    "        if missing_albet <= 1:\n",
    "            results.append(word)\n",
    "            # print(word)\n",
    "print(f\"number of words {len(results)}\")\n",
    "print(f\"{X}-th word in list {results[X-1]}\")\n",
    "\n",
    "scores_rel = []\n",
    "for result in results:\n",
    "    score_item = []\n",
    "    for j in range(0, 14-len(result)):\n",
    "        score_pos = 0\n",
    "        for k in range(j, j+len(result)):\n",
    "            # print(k)\n",
    "            \n",
    "            score_pos += points_dict[result[k-j].lower()] * multiplier[k]\n",
    "        score_item.append(score_pos)\n",
    "\n",
    "    scores_rel.append(max(score_item))\n",
    "    \n",
    "print(f\"highest scoring word {results[find_max_index(scores_rel)]}\")\n",
    "print(f\"highest score {max(scores_rel)}\")"
   ],
   "metadata": {
    "collapsed": false,
    "ExecuteTime": {
     "end_time": "2024-06-25T22:39:43.589300Z",
     "start_time": "2024-06-25T22:39:43.498712Z"
    }
   },
   "id": "223442995f2c052b",
   "execution_count": 67
  },
  {
   "cell_type": "code",
   "outputs": [
    {
     "name": "stdout",
     "output_type": "stream",
     "text": [
      "number of words 350\n",
      "192-th word in list PRAISE\n",
      "highest scoring word RAZZED\n",
      "highest score 45\n"
     ]
    }
   ],
   "source": [
    "input_string = 'SPREAD'\n",
    "N = 6\n",
    "X = 192\n",
    "\n",
    "\n",
    "id = 0\n",
    "results = []\n",
    "alpha4word_input = get_all_alpha4word(input_string)\n",
    "for word in data[0]:\n",
    "    flag = True\n",
    "    missing_albet = 0\n",
    "    # print(word)\n",
    "    id += 1\n",
    "    if len(word) == N and (contains_all_letters(word.lower(), input_string.lower()) or len(set(word)-set(input_string))==1):\n",
    "        alpha4word_list = get_all_alpha4word(word.lower())\n",
    "        for alpha in alpha4word_list:\n",
    "            \n",
    "            if alpha in alpha4word_input and alpha4word_input[alpha] >= alpha4word_list[alpha]:\n",
    "                continue\n",
    "            else:\n",
    "                missing_albet += 1\n",
    "        if missing_albet <= 1:\n",
    "            results.append(word)\n",
    "            # print(word)\n",
    "print(f\"number of words {len(results)}\")\n",
    "print(f\"{X}-th word in list {results[X-1]}\")\n",
    "\n",
    "scores_rel = []\n",
    "for result in results:\n",
    "    score_item = []\n",
    "    for j in range(0, 14-len(result)):\n",
    "        score_pos = 0\n",
    "        for k in range(j, j+len(result)):\n",
    "            # print(k)\n",
    "            \n",
    "            score_pos += points_dict[result[k-j].lower()] * multiplier[k]\n",
    "        score_item.append(score_pos)\n",
    "\n",
    "    scores_rel.append(max(score_item))\n",
    "    \n",
    "print(f\"highest scoring word {results[find_max_index(scores_rel)]}\")\n",
    "print(f\"highest score {max(scores_rel)}\")"
   ],
   "metadata": {
    "collapsed": false,
    "ExecuteTime": {
     "end_time": "2024-06-25T22:40:11.238490Z",
     "start_time": "2024-06-25T22:40:11.108984Z"
    }
   },
   "id": "a9c88e71d05345a4",
   "execution_count": 68
  },
  {
   "cell_type": "code",
   "outputs": [
    {
     "name": "stdout",
     "output_type": "stream",
     "text": [
      "number of words 106\n",
      "50-th word in list SHOTES\n",
      "highest scoring word EMMESH\n",
      "highest score 24\n"
     ]
    }
   ],
   "source": [
    "input_string = 'SHEETS'\n",
    "N = 6\n",
    "X = 50\n",
    "\n",
    "\n",
    "id = 0\n",
    "results = []\n",
    "alpha4word_input = get_all_alpha4word(input_string)\n",
    "for word in data[0]:\n",
    "    flag = True\n",
    "    missing_albet = 0\n",
    "    # print(word)\n",
    "    id += 1\n",
    "    if len(word) == N and (contains_all_letters(word.lower(), input_string.lower()) or len(set(word)-set(input_string))==1):\n",
    "        alpha4word_list = get_all_alpha4word(word.lower())\n",
    "        for alpha in alpha4word_list:\n",
    "            if alpha in alpha4word_input and alpha4word_input[alpha] >= alpha4word_list[alpha]:\n",
    "                continue\n",
    "            else:\n",
    "                missing_albet += 1\n",
    "        if missing_albet <= 1:\n",
    "            results.append(word)\n",
    "            # print(word)\n",
    "print(f\"number of words {len(results)}\")\n",
    "print(f\"{X}-th word in list {results[X-1]}\")\n",
    "\n",
    "scores_rel = []\n",
    "for result in results:\n",
    "    score_item = []\n",
    "    for j in range(0, 14-len(result)):\n",
    "        score_pos = 0\n",
    "        for k in range(j, j+len(result)):\n",
    "            # print(k)\n",
    "            \n",
    "            score_pos += points_dict[result[k-j].lower()] * multiplier[k]\n",
    "        score_item.append(score_pos)\n",
    "\n",
    "    scores_rel.append(max(score_item))\n",
    "    \n",
    "print(f\"highest scoring word {results[find_max_index(scores_rel)]}\")\n",
    "print(f\"highest score {max(scores_rel)}\")"
   ],
   "metadata": {
    "collapsed": false,
    "ExecuteTime": {
     "end_time": "2024-06-25T22:43:40.227181Z",
     "start_time": "2024-06-25T22:43:40.141932Z"
    }
   },
   "id": "e716834da8f3a24f",
   "execution_count": 75
  },
  {
   "cell_type": "code",
   "outputs": [
    {
     "name": "stdout",
     "output_type": "stream",
     "text": [
      "number of words 179\n",
      "29-th word in list CAMEL\n",
      "highest scoring word PZAZZ\n",
      "highest score 57\n"
     ]
    }
   ],
   "source": [
    "input_string = 'EXAMPL'\n",
    "N = 5\n",
    "X = 29\n",
    "\n",
    "\n",
    "id = 0\n",
    "results = []\n",
    "alpha4word_input = get_all_alpha4word(input_string)\n",
    "for word in data[0]:\n",
    "    flag = True\n",
    "    missing_albet = 0\n",
    "    # print(word)\n",
    "    id += 1\n",
    "    if len(word) == N and (contains_all_letters(word.lower(), input_string.lower()) or len(set(word)-set(input_string))==1):\n",
    "        alpha4word_list = get_all_alpha4word(word.lower())\n",
    "        for alpha in alpha4word_list:\n",
    "            if alpha in alpha4word_input and alpha4word_input[alpha] >= alpha4word_list[alpha]:\n",
    "                continue\n",
    "            else:\n",
    "                missing_albet += 1\n",
    "        if missing_albet <= 1:\n",
    "            results.append(word)\n",
    "            # print(word)\n",
    "print(f\"number of words {len(results)}\")\n",
    "print(f\"{X}-th word in list {results[X-1]}\")\n",
    "\n",
    "scores_rel = []\n",
    "for result in results:\n",
    "    score_item = []\n",
    "    for j in range(0, 14-len(result)):\n",
    "        score_pos = 0\n",
    "        for k in range(j, j+len(result)):\n",
    "            # print(k)\n",
    "            \n",
    "            score_pos += points_dict[result[k-j].lower()] * multiplier[k]\n",
    "        score_item.append(score_pos)\n",
    "\n",
    "    scores_rel.append(max(score_item))\n",
    "    \n",
    "print(f\"highest scoring word {results[find_max_index(scores_rel)]}\")\n",
    "print(f\"highest score {max(scores_rel)}\")"
   ],
   "metadata": {
    "collapsed": false,
    "ExecuteTime": {
     "end_time": "2024-06-25T22:43:30.759444Z",
     "start_time": "2024-06-25T22:43:30.694309Z"
    }
   },
   "id": "64cabde613031c6e",
   "execution_count": 74
  },
  {
   "cell_type": "code",
   "outputs": [
    {
     "name": "stdout",
     "output_type": "stream",
     "text": [
      "number of words 77\n",
      "18-th word in list FIRNS\n",
      "highest scoring word INFIX\n",
      "highest score 32\n"
     ]
    }
   ],
   "source": [
    "input_string = 'FINISH'\n",
    "N = 5\n",
    "X = 18\n",
    "\n",
    "\n",
    "id = 0\n",
    "results = []\n",
    "alpha4word_input = get_all_alpha4word(input_string)\n",
    "for word in data[0]:\n",
    "    flag = True\n",
    "    missing_albet = 0\n",
    "    # print(word)\n",
    "    id += 1\n",
    "    if len(word) == N and (contains_all_letters(word.lower(), input_string.lower()) or len(set(word)-set(input_string))==1):\n",
    "        alpha4word_list = get_all_alpha4word(word.lower())\n",
    "        for alpha in alpha4word_list:\n",
    "            if alpha in alpha4word_input and alpha4word_input[alpha] >= alpha4word_list[alpha]:\n",
    "                continue\n",
    "            else:\n",
    "                missing_albet += 1\n",
    "        if missing_albet <= 1:\n",
    "            results.append(word)\n",
    "            # print(word)\n",
    "print(f\"number of words {len(results)}\")\n",
    "print(f\"{X}-th word in list {results[X-1]}\")\n",
    "\n",
    "scores_rel = []\n",
    "for result in results:\n",
    "    score_item = []\n",
    "    for j in range(0, 14-len(result)):\n",
    "        score_pos = 0\n",
    "        for k in range(j, j+len(result)):\n",
    "            # print(k)\n",
    "            \n",
    "            score_pos += points_dict[result[k-j].lower()] * multiplier[k]\n",
    "        score_item.append(score_pos)\n",
    "\n",
    "    scores_rel.append(max(score_item))\n",
    "    \n",
    "print(f\"highest scoring word {results[find_max_index(scores_rel)]}\")\n",
    "print(f\"highest score {max(scores_rel)}\")"
   ],
   "metadata": {
    "collapsed": false,
    "ExecuteTime": {
     "end_time": "2024-06-25T22:43:18.686895Z",
     "start_time": "2024-06-25T22:43:18.603536Z"
    }
   },
   "id": "2efeaee6247b4c68",
   "execution_count": 73
  },
  {
   "cell_type": "code",
   "outputs": [],
   "source": [],
   "metadata": {
    "collapsed": false
   },
   "id": "a0de0e42833ec811"
  }
 ],
 "metadata": {
  "kernelspec": {
   "display_name": "Python 3",
   "language": "python",
   "name": "python3"
  },
  "language_info": {
   "codemirror_mode": {
    "name": "ipython",
    "version": 2
   },
   "file_extension": ".py",
   "mimetype": "text/x-python",
   "name": "python",
   "nbconvert_exporter": "python",
   "pygments_lexer": "ipython2",
   "version": "2.7.6"
  }
 },
 "nbformat": 4,
 "nbformat_minor": 5
}
