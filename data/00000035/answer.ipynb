{
 "cells": [
  {
   "cell_type": "code",
   "outputs": [],
   "source": [
    "## d a a d d a c a c"
   ],
   "metadata": {
    "collapsed": false
   },
   "id": "3da40edeacec1d7e"
  },
  {
   "cell_type": "code",
   "outputs": [],
   "source": [
    "## Q3\n",
    "q3 = 1200000 * 1.04 + 1200000 * 1.04 * 1.04 + 1200000 * 1.04 * 1.04 * 1.04"
   ],
   "metadata": {
    "collapsed": false
   },
   "id": "149aee3c613dd7e9"
  },
  {
   "cell_type": "code",
   "outputs": [
    {
     "data": {
      "text/plain": "3895756.8"
     },
     "execution_count": 2,
     "metadata": {},
     "output_type": "execute_result"
    }
   ],
   "source": [
    "q3"
   ],
   "metadata": {
    "collapsed": false,
    "ExecuteTime": {
     "end_time": "2024-06-24T18:03:06.769921Z",
     "start_time": "2024-06-24T18:03:06.761801Z"
    }
   },
   "id": "d48613d1a9f7ab28",
   "execution_count": 2
  },
  {
   "cell_type": "code",
   "outputs": [],
   "source": [],
   "metadata": {
    "collapsed": false
   },
   "id": "8a87f9b64bdbdb70"
  }
 ],
 "metadata": {
  "kernelspec": {
   "display_name": "Python 3",
   "language": "python",
   "name": "python3"
  },
  "language_info": {
   "codemirror_mode": {
    "name": "ipython",
    "version": 2
   },
   "file_extension": ".py",
   "mimetype": "text/x-python",
   "name": "python",
   "nbconvert_exporter": "python",
   "pygments_lexer": "ipython2",
   "version": "2.7.6"
  }
 },
 "nbformat": 4,
 "nbformat_minor": 5
}
