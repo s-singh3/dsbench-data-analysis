{
 "cells": [
  {
   "cell_type": "code",
   "execution_count": 11,
   "id": "initial_id",
   "metadata": {
    "collapsed": true,
    "ExecuteTime": {
     "end_time": "2024-06-18T03:51:58.149219Z",
     "start_time": "2024-06-18T03:51:58.141269Z"
    }
   },
   "outputs": [],
   "source": [
    "import pandas as pd\n",
    "import math"
   ]
  },
  {
   "cell_type": "code",
   "outputs": [],
   "source": [
    "data_excel = pd.read_excel('./MO16-Round-2-Sec-3-Tally-Up-1.xlsx', sheet_name=\"Data\")"
   ],
   "metadata": {
    "collapsed": false,
    "ExecuteTime": {
     "end_time": "2024-06-18T00:38:06.272021Z",
     "start_time": "2024-06-18T00:38:06.114849Z"
    }
   },
   "id": "426f0d043ab2c62",
   "execution_count": 4
  },
  {
   "cell_type": "code",
   "outputs": [
    {
     "data": {
      "text/plain": "      ModelOff 2016 - Round 2 - Section 3  Unnamed: 1 Unnamed: 2 Unnamed: 3  \\\n0                                     NaN         NaN        NaN        NaN   \n1                                     NaN         NaN        NaN        NaN   \n2                                     NaN         NaN        NaN        NaN   \n3                                     NaN         NaN        NaN        NaN   \n4                                     NaN         NaN        NaN        NaN   \n...                                   ...         ...        ...        ...   \n1002                                  NaN         NaN        NaN        NaN   \n1003                                  NaN         NaN        NaN        NaN   \n1004                                  NaN         NaN        NaN        NaN   \n1005                                  NaN         NaN        NaN        NaN   \n1006                                  NaN         NaN        NaN        NaN   \n\n     Unnamed: 4  Unnamed: 5 Unnamed: 6 Unnamed: 7 Unnamed: 8  Unnamed: 9  \\\n0           NaN         NaN        NaN        NaN        NaN         NaN   \n1           NaN         NaN        NaN        NaN        NaN         NaN   \n2           NaN         NaN        NaN        NaN        NaN         NaN   \n3           NaN         NaN        NaN        NaN        NaN         NaN   \n4           NaN         NaN        NaN        NaN        NaN         NaN   \n...         ...         ...        ...        ...        ...         ...   \n1002        NaN         NaN     989389         68        107         NaN   \n1003        NaN         NaN     989459         51        137         NaN   \n1004        NaN         NaN     991687         52        128         NaN   \n1005        NaN         NaN     992377         44        144         NaN   \n1006        NaN         NaN     997305         39        147         NaN   \n\n     Unnamed: 10 Unnamed: 11 Unnamed: 12 Unnamed: 13 Unnamed: 14 Unnamed: 15  \\\n0            NaN         NaN         NaN         NaN         NaN         NaN   \n1            NaN         NaN         NaN         NaN         NaN         NaN   \n2            NaN         NaN         NaN         NaN         NaN         NaN   \n3            NaN         NaN         NaN         NaN         NaN         NaN   \n4            NaN         NaN         NaN         NaN         NaN         NaN   \n...          ...         ...         ...         ...         ...         ...   \n1002           4           8           6           5           2           7   \n1003           5           0           4           3           7           2   \n1004           2           4           3           1           0           6   \n1005           4           2           1           6           0           5   \n1006           0           4           3           2           1           0   \n\n     Unnamed: 16 Unnamed: 17  \n0            NaN         NaN  \n1            NaN         NaN  \n2            NaN         NaN  \n3            NaN         NaN  \n4            NaN         NaN  \n...          ...         ...  \n1002           3           1  \n1003           6           1  \n1004           0           5  \n1005           3           0  \n1006           6           5  \n\n[1007 rows x 18 columns]",
      "text/html": "<div>\n<style scoped>\n    .dataframe tbody tr th:only-of-type {\n        vertical-align: middle;\n    }\n\n    .dataframe tbody tr th {\n        vertical-align: top;\n    }\n\n    .dataframe thead th {\n        text-align: right;\n    }\n</style>\n<table border=\"1\" class=\"dataframe\">\n  <thead>\n    <tr style=\"text-align: right;\">\n      <th></th>\n      <th>ModelOff 2016 - Round 2 - Section 3</th>\n      <th>Unnamed: 1</th>\n      <th>Unnamed: 2</th>\n      <th>Unnamed: 3</th>\n      <th>Unnamed: 4</th>\n      <th>Unnamed: 5</th>\n      <th>Unnamed: 6</th>\n      <th>Unnamed: 7</th>\n      <th>Unnamed: 8</th>\n      <th>Unnamed: 9</th>\n      <th>Unnamed: 10</th>\n      <th>Unnamed: 11</th>\n      <th>Unnamed: 12</th>\n      <th>Unnamed: 13</th>\n      <th>Unnamed: 14</th>\n      <th>Unnamed: 15</th>\n      <th>Unnamed: 16</th>\n      <th>Unnamed: 17</th>\n    </tr>\n  </thead>\n  <tbody>\n    <tr>\n      <th>0</th>\n      <td>NaN</td>\n      <td>NaN</td>\n      <td>NaN</td>\n      <td>NaN</td>\n      <td>NaN</td>\n      <td>NaN</td>\n      <td>NaN</td>\n      <td>NaN</td>\n      <td>NaN</td>\n      <td>NaN</td>\n      <td>NaN</td>\n      <td>NaN</td>\n      <td>NaN</td>\n      <td>NaN</td>\n      <td>NaN</td>\n      <td>NaN</td>\n      <td>NaN</td>\n      <td>NaN</td>\n    </tr>\n    <tr>\n      <th>1</th>\n      <td>NaN</td>\n      <td>NaN</td>\n      <td>NaN</td>\n      <td>NaN</td>\n      <td>NaN</td>\n      <td>NaN</td>\n      <td>NaN</td>\n      <td>NaN</td>\n      <td>NaN</td>\n      <td>NaN</td>\n      <td>NaN</td>\n      <td>NaN</td>\n      <td>NaN</td>\n      <td>NaN</td>\n      <td>NaN</td>\n      <td>NaN</td>\n      <td>NaN</td>\n      <td>NaN</td>\n    </tr>\n    <tr>\n      <th>2</th>\n      <td>NaN</td>\n      <td>NaN</td>\n      <td>NaN</td>\n      <td>NaN</td>\n      <td>NaN</td>\n      <td>NaN</td>\n      <td>NaN</td>\n      <td>NaN</td>\n      <td>NaN</td>\n      <td>NaN</td>\n      <td>NaN</td>\n      <td>NaN</td>\n      <td>NaN</td>\n      <td>NaN</td>\n      <td>NaN</td>\n      <td>NaN</td>\n      <td>NaN</td>\n      <td>NaN</td>\n    </tr>\n    <tr>\n      <th>3</th>\n      <td>NaN</td>\n      <td>NaN</td>\n      <td>NaN</td>\n      <td>NaN</td>\n      <td>NaN</td>\n      <td>NaN</td>\n      <td>NaN</td>\n      <td>NaN</td>\n      <td>NaN</td>\n      <td>NaN</td>\n      <td>NaN</td>\n      <td>NaN</td>\n      <td>NaN</td>\n      <td>NaN</td>\n      <td>NaN</td>\n      <td>NaN</td>\n      <td>NaN</td>\n      <td>NaN</td>\n    </tr>\n    <tr>\n      <th>4</th>\n      <td>NaN</td>\n      <td>NaN</td>\n      <td>NaN</td>\n      <td>NaN</td>\n      <td>NaN</td>\n      <td>NaN</td>\n      <td>NaN</td>\n      <td>NaN</td>\n      <td>NaN</td>\n      <td>NaN</td>\n      <td>NaN</td>\n      <td>NaN</td>\n      <td>NaN</td>\n      <td>NaN</td>\n      <td>NaN</td>\n      <td>NaN</td>\n      <td>NaN</td>\n      <td>NaN</td>\n    </tr>\n    <tr>\n      <th>...</th>\n      <td>...</td>\n      <td>...</td>\n      <td>...</td>\n      <td>...</td>\n      <td>...</td>\n      <td>...</td>\n      <td>...</td>\n      <td>...</td>\n      <td>...</td>\n      <td>...</td>\n      <td>...</td>\n      <td>...</td>\n      <td>...</td>\n      <td>...</td>\n      <td>...</td>\n      <td>...</td>\n      <td>...</td>\n      <td>...</td>\n    </tr>\n    <tr>\n      <th>1002</th>\n      <td>NaN</td>\n      <td>NaN</td>\n      <td>NaN</td>\n      <td>NaN</td>\n      <td>NaN</td>\n      <td>NaN</td>\n      <td>989389</td>\n      <td>68</td>\n      <td>107</td>\n      <td>NaN</td>\n      <td>4</td>\n      <td>8</td>\n      <td>6</td>\n      <td>5</td>\n      <td>2</td>\n      <td>7</td>\n      <td>3</td>\n      <td>1</td>\n    </tr>\n    <tr>\n      <th>1003</th>\n      <td>NaN</td>\n      <td>NaN</td>\n      <td>NaN</td>\n      <td>NaN</td>\n      <td>NaN</td>\n      <td>NaN</td>\n      <td>989459</td>\n      <td>51</td>\n      <td>137</td>\n      <td>NaN</td>\n      <td>5</td>\n      <td>0</td>\n      <td>4</td>\n      <td>3</td>\n      <td>7</td>\n      <td>2</td>\n      <td>6</td>\n      <td>1</td>\n    </tr>\n    <tr>\n      <th>1004</th>\n      <td>NaN</td>\n      <td>NaN</td>\n      <td>NaN</td>\n      <td>NaN</td>\n      <td>NaN</td>\n      <td>NaN</td>\n      <td>991687</td>\n      <td>52</td>\n      <td>128</td>\n      <td>NaN</td>\n      <td>2</td>\n      <td>4</td>\n      <td>3</td>\n      <td>1</td>\n      <td>0</td>\n      <td>6</td>\n      <td>0</td>\n      <td>5</td>\n    </tr>\n    <tr>\n      <th>1005</th>\n      <td>NaN</td>\n      <td>NaN</td>\n      <td>NaN</td>\n      <td>NaN</td>\n      <td>NaN</td>\n      <td>NaN</td>\n      <td>992377</td>\n      <td>44</td>\n      <td>144</td>\n      <td>NaN</td>\n      <td>4</td>\n      <td>2</td>\n      <td>1</td>\n      <td>6</td>\n      <td>0</td>\n      <td>5</td>\n      <td>3</td>\n      <td>0</td>\n    </tr>\n    <tr>\n      <th>1006</th>\n      <td>NaN</td>\n      <td>NaN</td>\n      <td>NaN</td>\n      <td>NaN</td>\n      <td>NaN</td>\n      <td>NaN</td>\n      <td>997305</td>\n      <td>39</td>\n      <td>147</td>\n      <td>NaN</td>\n      <td>0</td>\n      <td>4</td>\n      <td>3</td>\n      <td>2</td>\n      <td>1</td>\n      <td>0</td>\n      <td>6</td>\n      <td>5</td>\n    </tr>\n  </tbody>\n</table>\n<p>1007 rows × 18 columns</p>\n</div>"
     },
     "execution_count": 19,
     "metadata": {},
     "output_type": "execute_result"
    }
   ],
   "source": [
    "data_excel"
   ],
   "metadata": {
    "collapsed": false,
    "ExecuteTime": {
     "end_time": "2024-06-18T04:04:16.950302Z",
     "start_time": "2024-06-18T04:04:16.937576Z"
    }
   },
   "id": "f305ff7aad3bb15a",
   "execution_count": 19
  },
  {
   "cell_type": "code",
   "outputs": [
    {
     "data": {
      "text/plain": "0       NaN\n1       NaN\n2       NaN\n3       NaN\n4       NaN\n       ... \n1002    107\n1003    137\n1004    128\n1005    144\n1006    147\nName: Unnamed: 8, Length: 1007, dtype: object"
     },
     "execution_count": 6,
     "metadata": {},
     "output_type": "execute_result"
    }
   ],
   "source": [
    "data_excel['Unnamed: 8']"
   ],
   "metadata": {
    "collapsed": false,
    "ExecuteTime": {
     "end_time": "2024-06-18T00:38:55.997002Z",
     "start_time": "2024-06-18T00:38:55.982990Z"
    }
   },
   "id": "d08eb2dcf5da3ac5",
   "execution_count": 6
  },
  {
   "cell_type": "code",
   "outputs": [
    {
     "name": "stdout",
     "output_type": "stream",
     "text": [
      "error\n",
      "115\n"
     ]
    }
   ],
   "source": [
    "## Question 17\n",
    "res = 0\n",
    "for item in data_excel['Unnamed: 8']:\n",
    "    # print(type(item))\n",
    "    # print(item)\n",
    "    try:\n",
    "        if not math.isnan(item):\n",
    "            # print(item)\n",
    "            if int(item) >= 135 and int(item) <= 144:\n",
    "                res += 1\n",
    "            \n",
    "    except:\n",
    "        print(\"error\")\n",
    "print(res)"
   ],
   "metadata": {
    "collapsed": false,
    "ExecuteTime": {
     "end_time": "2024-06-18T03:54:21.699908Z",
     "start_time": "2024-06-18T03:54:21.689043Z"
    }
   },
   "id": "bb52a55dd1a6c408",
   "execution_count": 17
  },
  {
   "cell_type": "code",
   "outputs": [
    {
     "name": "stdout",
     "output_type": "stream",
     "text": [
      "error\n",
      "120\n",
      "82\n",
      "115\n",
      "115\n",
      "108\n",
      "122\n",
      "105\n",
      "121\n",
      "112\n"
     ]
    }
   ],
   "source": [
    "## Question 18\n",
    "res1 = 0\n",
    "res2 = 0\n",
    "res3 = 0\n",
    "res4 = 0\n",
    "res5 = 0\n",
    "res6 = 0\n",
    "res7 = 0\n",
    "res8 = 0\n",
    "res9 = 0\n",
    "\n",
    "for item in data_excel['Unnamed: 8']:\n",
    "    # print(type(item))\n",
    "    # print(item)\n",
    "    try:\n",
    "        if not math.isnan(item):\n",
    "            # print(item)\n",
    "            if int(item) >= 105 and int(item) <= 114:\n",
    "                res1 += 1\n",
    "            if int(item) >= 115 and int(item) <= 124:\n",
    "                res2 += 1\n",
    "            if int(item) >= 125 and int(item) <= 134:\n",
    "                res3 += 1\n",
    "            if int(item) >= 135 and int(item) <= 144:\n",
    "                res4 += 1\n",
    "            if int(item) >= 145 and int(item) <= 154:\n",
    "                res5 += 1\n",
    "            if int(item) >= 155 and int(item) <= 164:\n",
    "                res6 += 1\n",
    "            if int(item) >= 165 and int(item) <= 174:\n",
    "                res7 += 1\n",
    "            if int(item) >= 175 and int(item) <= 184:\n",
    "                res8 += 1\n",
    "            if int(item) >= 185 and int(item) <= 194:\n",
    "                res9 += 1\n",
    "            \n",
    "    except:\n",
    "        print(\"error\")\n",
    "print(res1)\n",
    "print(res2)\n",
    "print(res3)\n",
    "print(res4)\n",
    "print(res5)\n",
    "print(res6)\n",
    "print(res7)\n",
    "print(res8)\n",
    "print(res9)\n"
   ],
   "metadata": {
    "collapsed": false,
    "ExecuteTime": {
     "end_time": "2024-06-18T03:59:06.543772Z",
     "start_time": "2024-06-18T03:59:06.540053Z"
    }
   },
   "id": "dc4185fcffe43ceb",
   "execution_count": 18
  },
  {
   "cell_type": "code",
   "outputs": [
    {
     "name": "stdout",
     "output_type": "stream",
     "text": [
      "error\n",
      "17\n",
      "10\n",
      "9\n",
      "11\n",
      "4\n",
      "9\n",
      "7\n",
      "15\n"
     ]
    }
   ],
   "source": [
    "## Question 20\n",
    "Red = 0\n",
    "Orange = 0\n",
    "Yellow = 0\n",
    "Green = 0\n",
    "Blue = 0\n",
    "Purple = 0\n",
    "Brown = 0\n",
    "Black = 0\n",
    "\n",
    "for i, item in enumerate(data_excel['Unnamed: 8']):\n",
    "    try:\n",
    "        if not math.isnan(item):\n",
    "            if int(item) >= 115 and int(item) <= 124:\n",
    "                if data_excel['Unnamed: 10'][i] == 1:\n",
    "                    Red += 1\n",
    "                if data_excel['Unnamed: 11'][i] == 1:\n",
    "                    Orange += 1\n",
    "                if data_excel['Unnamed: 12'][i] == 1:\n",
    "                    Yellow += 1\n",
    "                if data_excel['Unnamed: 13'][i] == 1:\n",
    "                    Green += 1\n",
    "                if data_excel['Unnamed: 14'][i] == 1:\n",
    "                    Blue += 1\n",
    "                if data_excel['Unnamed: 15'][i] == 1:\n",
    "                    Purple += 1\n",
    "                if data_excel['Unnamed: 16'][i] == 1:\n",
    "                    Brown += 1\n",
    "                if data_excel['Unnamed: 17'][i] == 1:\n",
    "                    Black += 1\n",
    "                \n",
    "    except:\n",
    "        print(\"error\")\n",
    "print(Red)\n",
    "print(Orange)\n",
    "print(Yellow)\n",
    "print(Green)\n",
    "print(Blue)\n",
    "print(Purple)\n",
    "print(Brown)\n",
    "print(Black)\n"
   ],
   "metadata": {
    "collapsed": false,
    "ExecuteTime": {
     "end_time": "2024-06-18T04:15:54.498867Z",
     "start_time": "2024-06-18T04:15:54.487038Z"
    }
   },
   "id": "9f6ae59ca8d3261d",
   "execution_count": 23
  },
  {
   "cell_type": "code",
   "outputs": [],
   "source": [
    "## Question 19\n",
    "res1 = 0\n",
    "res2 = 0\n",
    "res3 = 0\n",
    "res4 = 0\n",
    "res5 = 0\n",
    "res6 = 0\n",
    "res7 = 0\n",
    "res8 = 0\n",
    "res9 = 0\n",
    "\n",
    "for i, item in enumerate(data_excel['Unnamed: 8']):\n",
    "    try:\n",
    "        if not math.isnan(item):\n",
    "            # print(item)\n",
    "            if int(item) >= 105 and int(item) <= 114:\n",
    "                if data_excel['Unnamed: 11'][i] == 1:\n",
    "                    res1 += 1\n",
    "            if int(item) >= 115 and int(item) <= 124 and data_excel['Unnamed: 11'][i] == 1:\n",
    "                res2 += 1\n",
    "            if int(item) >= 125 and int(item) <= 134 and data_excel['Unnamed: 11'][i] == 1:\n",
    "                res3 += 1\n",
    "            if int(item) >= 135 and int(item) <= 144 and data_excel['Unnamed: 11'][i] == 1:\n",
    "                res4 += 1\n",
    "            if int(item) >= 145 and int(item) <= 154 and data_excel['Unnamed: 11'][i] == 1:\n",
    "                res5 += 1\n",
    "            if int(item) >= 155 and int(item) <= 164 and data_excel['Unnamed: 11'][i] == 1:\n",
    "                res6 += 1\n",
    "            if int(item) >= 165 and int(item) <= 174 and data_excel['Unnamed: 11'][i] == 1:\n",
    "                res7 += 1\n",
    "            if int(item) >= 175 and int(item) <= 184 and data_excel['Unnamed: 11'][i] == 1:\n",
    "                res8 += 1\n",
    "            if int(item) >= 185 and int(item) <= 194 and data_excel['Unnamed: 11'][i] == 1:\n",
    "                res9 += 1\n",
    "            \n",
    "    except:\n",
    "        print(\"error\")\n",
    "print(res1)\n",
    "print(res2)\n",
    "print(res3)\n",
    "print(res4)\n",
    "print(res5)\n",
    "print(res6)\n",
    "print(res7)\n",
    "print(res8)\n",
    "print(res9)\n"
   ],
   "metadata": {
    "collapsed": false
   },
   "id": "5ca74ac6197521dc"
  },
  {
   "cell_type": "code",
   "outputs": [
    {
     "name": "stdout",
     "output_type": "stream",
     "text": [
      "error\n",
      "13\n",
      "10\n",
      "18\n",
      "22\n",
      "11\n",
      "20\n",
      "12\n",
      "14\n"
     ]
    }
   ],
   "source": [
    "## Question 21\n",
    "Red = 0\n",
    "Orange = 0\n",
    "Yellow = 0\n",
    "Green = 0\n",
    "Blue = 0\n",
    "Purple = 0\n",
    "Brown = 0\n",
    "Black = 0\n",
    "\n",
    "advance = 2\n",
    "for i, item in enumerate(data_excel['Unnamed: 8']):\n",
    "    try:\n",
    "        if not math.isnan(item):\n",
    "            if int(item) >= 105 and int(item) <= 114:\n",
    "                if data_excel['Unnamed: 10'][i] == advance:\n",
    "                    Red += 1\n",
    "                if data_excel['Unnamed: 11'][i] == advance:\n",
    "                    Orange += 1\n",
    "                if data_excel['Unnamed: 12'][i] == advance:\n",
    "                    Yellow += 1\n",
    "                if data_excel['Unnamed: 13'][i] == advance:\n",
    "                    Green += 1\n",
    "                if data_excel['Unnamed: 14'][i] == advance:\n",
    "                    Blue += 1\n",
    "                if data_excel['Unnamed: 15'][i] == advance:\n",
    "                    Purple += 1\n",
    "                if data_excel['Unnamed: 16'][i] == advance:\n",
    "                    Brown += 1\n",
    "                if data_excel['Unnamed: 17'][i] == advance:\n",
    "                    Black += 1\n",
    "                \n",
    "    except:\n",
    "        print(\"error\")\n",
    "print(Red)\n",
    "print(Orange)\n",
    "print(Yellow)\n",
    "print(Green)\n",
    "print(Blue)\n",
    "print(Purple)\n",
    "print(Brown)\n",
    "print(Black)\n"
   ],
   "metadata": {
    "collapsed": false,
    "ExecuteTime": {
     "end_time": "2024-06-18T04:18:50.659205Z",
     "start_time": "2024-06-18T04:18:50.646072Z"
    }
   },
   "id": "3074e8768807e8b2",
   "execution_count": 26
  },
  {
   "cell_type": "code",
   "outputs": [
    {
     "name": "stdout",
     "output_type": "stream",
     "text": [
      "error\n",
      "17\n",
      "14\n",
      "14\n",
      "14\n",
      "15\n",
      "11\n",
      "9\n",
      "18\n"
     ]
    }
   ],
   "source": [
    "## Question 22\n",
    "Red = 0\n",
    "Orange = 0\n",
    "Yellow = 0\n",
    "Green = 0\n",
    "Blue = 0\n",
    "Purple = 0\n",
    "Brown = 0\n",
    "Black = 0\n",
    "\n",
    "advance = 1\n",
    "for i, item in enumerate(data_excel['Unnamed: 8']):\n",
    "    try:\n",
    "        if not math.isnan(item):\n",
    "            if int(item) >= 185 and int(item) <= 194:\n",
    "                if data_excel['Unnamed: 10'][i] == advance:\n",
    "                    Red += 1\n",
    "                if data_excel['Unnamed: 11'][i] == advance:\n",
    "                    Orange += 1\n",
    "                if data_excel['Unnamed: 12'][i] == advance:\n",
    "                    Yellow += 1\n",
    "                if data_excel['Unnamed: 13'][i] == advance:\n",
    "                    Green += 1\n",
    "                if data_excel['Unnamed: 14'][i] == advance:\n",
    "                    Blue += 1\n",
    "                if data_excel['Unnamed: 15'][i] == advance:\n",
    "                    Purple += 1\n",
    "                if data_excel['Unnamed: 16'][i] == advance:\n",
    "                    Brown += 1\n",
    "                if data_excel['Unnamed: 17'][i] == advance:\n",
    "                    Black += 1\n",
    "                \n",
    "    except:\n",
    "        print(\"error\")\n",
    "print(Red)\n",
    "print(Orange)\n",
    "print(Yellow)\n",
    "print(Green)\n",
    "print(Blue)\n",
    "print(Purple)\n",
    "print(Brown)\n",
    "print(Black)\n"
   ],
   "metadata": {
    "collapsed": false,
    "ExecuteTime": {
     "end_time": "2024-06-18T04:32:23.296469Z",
     "start_time": "2024-06-18T04:32:23.289241Z"
    }
   },
   "id": "66565ef41b86c9b5",
   "execution_count": 36
  },
  {
   "cell_type": "code",
   "outputs": [
    {
     "name": "stdout",
     "output_type": "stream",
     "text": [
      "error\n",
      "168\n",
      "120\n",
      "132\n",
      "204\n",
      "96\n",
      "168\n",
      "240\n",
      "168\n"
     ]
    }
   ],
   "source": [
    "## Question 23\n",
    "Red = 0\n",
    "Orange = 0\n",
    "Yellow = 0\n",
    "Green = 0\n",
    "Blue = 0\n",
    "Purple = 0\n",
    "Brown = 0\n",
    "Black = 0\n",
    "\n",
    "scores = [12, 10, 8, 6, 4, 2, 1]\n",
    "\n",
    "advance = 1\n",
    "for i, item in enumerate(data_excel['Unnamed: 8']):\n",
    "    try:\n",
    "        if not math.isnan(item):\n",
    "            if int(item) >= 145 and int(item) <= 154:\n",
    "                if data_excel['Unnamed: 10'][i] == advance:\n",
    "                    Red += scores[data_excel['Unnamed: 10'][i]-1]\n",
    "                if data_excel['Unnamed: 11'][i] == advance:\n",
    "                    Orange += scores[data_excel['Unnamed: 11'][i]-1]\n",
    "                if data_excel['Unnamed: 12'][i] == advance:\n",
    "                    Yellow += scores[data_excel['Unnamed: 12'][i]-1]\n",
    "                if data_excel['Unnamed: 13'][i] == advance:\n",
    "                    Green += scores[data_excel['Unnamed: 13'][i]-1]\n",
    "                if data_excel['Unnamed: 14'][i] == advance:\n",
    "                    Blue += scores[data_excel['Unnamed: 14'][i]-1]\n",
    "                if data_excel['Unnamed: 15'][i] == advance:\n",
    "                    Purple += scores[data_excel['Unnamed: 15'][i]-1]\n",
    "                if data_excel['Unnamed: 16'][i] == advance:\n",
    "                    Brown += scores[data_excel['Unnamed: 16'][i]-1]\n",
    "                if data_excel['Unnamed: 17'][i] == advance:\n",
    "                    Black += scores[data_excel['Unnamed: 17'][i]-1]\n",
    "                \n",
    "    except:\n",
    "        print(\"error\")\n",
    "print(Red)\n",
    "print(Orange)\n",
    "print(Yellow)\n",
    "print(Green)\n",
    "print(Blue)\n",
    "print(Purple)\n",
    "print(Brown)\n",
    "print(Black)\n"
   ],
   "metadata": {
    "collapsed": false,
    "ExecuteTime": {
     "end_time": "2024-06-18T04:39:27.384500Z",
     "start_time": "2024-06-18T04:39:27.380395Z"
    }
   },
   "id": "305cc9105b9f109e",
   "execution_count": 37
  },
  {
   "cell_type": "code",
   "outputs": [
    {
     "name": "stdout",
     "output_type": "stream",
     "text": [
      "error\n",
      "204\n",
      "168\n",
      "168\n",
      "168\n",
      "180\n",
      "132\n",
      "108\n",
      "216\n"
     ]
    }
   ],
   "source": [
    "\n",
    "## Question 24\n",
    "Red = 0\n",
    "Orange = 0\n",
    "Yellow = 0\n",
    "Green = 0\n",
    "Blue = 0\n",
    "Purple = 0\n",
    "Brown = 0\n",
    "Black = 0\n",
    "\n",
    "scores = [12, 10, 8, 6, 4, 2, 1]\n",
    "\n",
    "advance = 1\n",
    "for i, item in enumerate(data_excel['Unnamed: 8']):\n",
    "    try:\n",
    "        if not math.isnan(item):\n",
    "            if int(item) >= 185 and int(item) <= 194:\n",
    "                if data_excel['Unnamed: 10'][i] == advance:\n",
    "                    Red += scores[data_excel['Unnamed: 10'][i]-1]\n",
    "                if data_excel['Unnamed: 11'][i] == advance:\n",
    "                    Orange += scores[data_excel['Unnamed: 11'][i]-1]\n",
    "                if data_excel['Unnamed: 12'][i] == advance:\n",
    "                    Yellow += scores[data_excel['Unnamed: 12'][i]-1]\n",
    "                if data_excel['Unnamed: 13'][i] == advance:\n",
    "                    Green += scores[data_excel['Unnamed: 13'][i]-1]\n",
    "                if data_excel['Unnamed: 14'][i] == advance:\n",
    "                    Blue += scores[data_excel['Unnamed: 14'][i]-1]\n",
    "                if data_excel['Unnamed: 15'][i] == advance:\n",
    "                    Purple += scores[data_excel['Unnamed: 15'][i]-1]\n",
    "                if data_excel['Unnamed: 16'][i] == advance:\n",
    "                    Brown += scores[data_excel['Unnamed: 16'][i]-1]\n",
    "                if data_excel['Unnamed: 17'][i] == advance:\n",
    "                    Black += scores[data_excel['Unnamed: 17'][i]-1]\n",
    "                \n",
    "    except:\n",
    "        print(\"error\")\n",
    "print(Red)\n",
    "print(Orange)\n",
    "print(Yellow)\n",
    "print(Green)\n",
    "print(Blue)\n",
    "print(Purple)\n",
    "print(Brown)\n",
    "print(Black)\n"
   ],
   "metadata": {
    "collapsed": false,
    "ExecuteTime": {
     "end_time": "2024-06-18T04:44:25.542076Z",
     "start_time": "2024-06-18T04:44:25.536799Z"
    }
   },
   "id": "5e43eb19e3d34f50",
   "execution_count": 46
  },
  {
   "cell_type": "code",
   "outputs": [],
   "source": [],
   "metadata": {
    "collapsed": false
   },
   "id": "335e0a82044942f4"
  }
 ],
 "metadata": {
  "kernelspec": {
   "display_name": "Python 3",
   "language": "python",
   "name": "python3"
  },
  "language_info": {
   "codemirror_mode": {
    "name": "ipython",
    "version": 2
   },
   "file_extension": ".py",
   "mimetype": "text/x-python",
   "name": "python",
   "nbconvert_exporter": "python",
   "pygments_lexer": "ipython2",
   "version": "2.7.6"
  }
 },
 "nbformat": 4,
 "nbformat_minor": 5
}
