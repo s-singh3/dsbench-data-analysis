{
 "cells": [
  {
   "cell_type": "code",
   "execution_count": 1,
   "id": "initial_id",
   "metadata": {
    "collapsed": true,
    "ExecuteTime": {
     "end_time": "2024-06-24T22:58:23.630612Z",
     "start_time": "2024-06-24T22:58:23.608601Z"
    }
   },
   "outputs": [
    {
     "data": {
      "text/plain": "357.14285714285717"
     },
     "execution_count": 1,
     "metadata": {},
     "output_type": "execute_result"
    }
   ],
   "source": [
    "500 / 1.4"
   ]
  },
  {
   "cell_type": "code",
   "outputs": [],
   "source": [
    "import pandas as pd\n",
    "import math"
   ],
   "metadata": {
    "collapsed": false,
    "ExecuteTime": {
     "end_time": "2024-06-24T23:05:15.908228Z",
     "start_time": "2024-06-24T23:05:15.901130Z"
    }
   },
   "id": "b011ad252a7ff864",
   "execution_count": 21
  },
  {
   "cell_type": "code",
   "outputs": [],
   "source": [
    "data = pd.read_excel(\"MO17-Round-2-Section-3-System-Allocation-Workbook.xlsx\", sheet_name=\"Assumptions\")"
   ],
   "metadata": {
    "collapsed": false,
    "ExecuteTime": {
     "end_time": "2024-06-24T23:00:36.144474Z",
     "start_time": "2024-06-24T23:00:36.040316Z"
    }
   },
   "id": "66722f553a497522",
   "execution_count": 5
  },
  {
   "cell_type": "code",
   "outputs": [
    {
     "data": {
      "text/plain": "    ModelOff 2017 - Round 2 - Section 3  Unnamed: 1  \\\n0                                   NaN         NaN   \n1                                  1.00         NaN   \n2                                   NaN         NaN   \n3                                   NaN         NaN   \n4                                   NaN         NaN   \n5                                   NaN         NaN   \n6                                   NaN         NaN   \n7                                   NaN         NaN   \n8                                   NaN         NaN   \n9                                  1.01         NaN   \n10                                  NaN         NaN   \n11                                  NaN         NaN   \n12                                  NaN         NaN   \n13                                  NaN         NaN   \n14                                  NaN         NaN   \n15                                  NaN         NaN   \n16                                  NaN         NaN   \n17                                  NaN         NaN   \n18                                  NaN         NaN   \n19                                  NaN         NaN   \n20                                  NaN         NaN   \n21                                  NaN         NaN   \n22                                  NaN         NaN   \n23                                  NaN         NaN   \n24                                  NaN         NaN   \n25                                  NaN         NaN   \n26                                  NaN         NaN   \n27                                  NaN         NaN   \n28                                 1.02         NaN   \n29                                  NaN         NaN   \n30                                  NaN         NaN   \n31                                  NaN         NaN   \n32                                  NaN         NaN   \n33                                  NaN         NaN   \n34                                  NaN         NaN   \n35                                  NaN         NaN   \n36                                  NaN         NaN   \n37                                  NaN         NaN   \n38                                  NaN         NaN   \n39                                  NaN         NaN   \n40                                  NaN         NaN   \n41                                  NaN         NaN   \n42                                 1.03         NaN   \n43                                  NaN         NaN   \n44                                  NaN         NaN   \n45                                  NaN         NaN   \n46                                  NaN         NaN   \n47                                  NaN         NaN   \n48                                  NaN         NaN   \n49                                  NaN         NaN   \n50                                  NaN         NaN   \n\n                                           Unnamed: 2  \\\n0                                                 NaN   \n1                                         Assumptions   \n2                                                 NaN   \n3                                                 NaN   \n4                                                 NaN   \n5                                                 NaN   \n6                                                 NaN   \n7                                                 NaN   \n8                                                 NaN   \n9                 Vehicle location and depot capacity   \n10                                                NaN   \n11             Vehicles for service and hub groupings   \n12                                                NaN   \n13                                                NaN   \n14                                                NaN   \n15                                                NaN   \n16                                                NaN   \n17                                                NaN   \n18                                                NaN   \n19                                                NaN   \n20                                                NaN   \n21                                                NaN   \n22                                                NaN   \n23                                                NaN   \n24                                     Depot capacity   \n25                                                NaN   \n26                                                NaN   \n27                                                NaN   \n28                                    Depot distances   \n29                                                NaN   \n30  Driving distance between each pair of depots (...   \n31                                                NaN   \n32                                                NaN   \n33                                                NaN   \n34                                                NaN   \n35                                                NaN   \n36                                                NaN   \n37                                                NaN   \n38                                                NaN   \n39                                                NaN   \n40                                                NaN   \n41                                                NaN   \n42                                 Other asssumptions   \n43                                                NaN   \n44                 Other revenue and cost assumptions   \n45                                                NaN   \n46                                                NaN   \n47                                                NaN   \n48                                                NaN   \n49                                                NaN   \n50                                          End Sheet   \n\n                            Unnamed: 3 Unnamed: 4       Unnamed: 5  \\\n0                                  NaN        NaN              NaN   \n1                                  NaN        NaN              NaN   \n2                                  NaN        NaN              NaN   \n3                                  NaN        NaN              NaN   \n4                                  NaN        NaN              NaN   \n5                                  NaN        NaN            Units   \n6                                  NaN        NaN              NaN   \n7                                  NaN        NaN              NaN   \n8                                  NaN        NaN              NaN   \n9                                  NaN        NaN              NaN   \n10                                 NaN        NaN              NaN   \n11                                 NaN        NaN              NaN   \n12  Scenario 1a - vehicles for service        NaN     [# vehicles]   \n13        Scenario 1a - hub allocation        NaN            [hub]   \n14                                 NaN        NaN              NaN   \n15  Scenario 1b - vehicles for service        NaN     [# vehicles]   \n16        Scenario 1b - hub allocation        NaN            [hub]   \n17                                 NaN        NaN              NaN   \n18  Scenario 2a - vehicles for service        NaN     [# vehicles]   \n19        Scenario 2a - hub allocation        NaN            [hub]   \n20                                 NaN        NaN              NaN   \n21  Scenario 2b - vehicles for service        NaN     [# vehicles]   \n22        Scenario 2b - hub allocation        NaN            [hub]   \n23                                 NaN        NaN              NaN   \n24                                 NaN        NaN              NaN   \n25        Total capacity of each depot        NaN     [# vehicles]   \n26                                 NaN        NaN              NaN   \n27                                 NaN        NaN              NaN   \n28                                 NaN        NaN              NaN   \n29                                 NaN        NaN              NaN   \n30                                 NaN        NaN              NaN   \n31                                 NaN    Depot A          [miles]   \n32                                 NaN    Depot B          [miles]   \n33                                 NaN    Depot C          [miles]   \n34                                 NaN    Depot D          [miles]   \n35                                 NaN    Depot E          [miles]   \n36                                 NaN    Depot F          [miles]   \n37                                 NaN    Depot G          [miles]   \n38                                 NaN    Depot H          [miles]   \n39                                 NaN    Depot I          [miles]   \n40                                 NaN        NaN              NaN   \n41                                 NaN        NaN              NaN   \n42                                 NaN        NaN              NaN   \n43                                 NaN        NaN              NaN   \n44                                 NaN        NaN              NaN   \n45                 Revenue per vehicle        NaN  [$ per vehicle]   \n46      Penalty for unserviced vehicle        NaN  [$ per vehicle]   \n47                     Transport costs        NaN     [$ per mile]   \n48                                 NaN        NaN              NaN   \n49                                 NaN        NaN              NaN   \n50                                 NaN        NaN              NaN   \n\n    Unnamed: 6 Unnamed: 7 Unnamed: 8 Unnamed: 9 Unnamed: 10 Unnamed: 11  \\\n0          NaN        NaN        NaN        NaN         NaN         NaN   \n1          NaN        NaN        NaN        NaN         NaN         NaN   \n2          NaN        NaN        NaN        NaN         NaN         NaN   \n3          NaN        NaN        NaN        NaN         NaN         NaN   \n4          NaN        NaN        NaN        NaN         NaN         NaN   \n5          NaN        NaN        NaN        NaN         NaN         NaN   \n6          NaN        NaN        NaN        NaN         NaN         NaN   \n7          NaN        NaN        NaN        NaN         NaN         NaN   \n8          NaN        NaN        NaN        NaN         NaN         NaN   \n9          NaN        NaN        NaN        NaN         NaN         NaN   \n10         NaN        NaN        NaN        NaN         NaN         NaN   \n11         NaN    Depot A    Depot B    Depot C     Depot D     Depot E   \n12         NaN       2438        544        121         553         103   \n13         NaN      Hub 1      Hub 1      Hub 1       Hub 2       Hub 2   \n14         NaN        NaN        NaN        NaN         NaN         NaN   \n15         NaN       2438        544        121         553         103   \n16         NaN      Hub 1      Hub 1      Hub 1       Hub 1       Hub 2   \n17         NaN        NaN        NaN        NaN         NaN         NaN   \n18         NaN       2099        519        107         333          88   \n19         NaN      Hub 1      Hub 1      Hub 1       Hub 2       Hub 2   \n20         NaN        NaN        NaN        NaN         NaN         NaN   \n21         NaN       2099        519        107         333          88   \n22         NaN      Hub 1      Hub 1      Hub 1       Hub 1       Hub 1   \n23         NaN        NaN        NaN        NaN         NaN         NaN   \n24         NaN    Depot A    Depot B    Depot C     Depot D     Depot E   \n25         NaN       2700        400        100         400         100   \n26         NaN        NaN        NaN        NaN         NaN         NaN   \n27         NaN        NaN        NaN        NaN         NaN         NaN   \n28         NaN        NaN        NaN        NaN         NaN         NaN   \n29         NaN        NaN        NaN        NaN         NaN         NaN   \n30         NaN    Depot A    Depot B    Depot C     Depot D     Depot E   \n31         NaN        NaN        NaN        NaN         NaN         NaN   \n32         NaN        482        NaN        NaN         NaN         NaN   \n33         NaN        417     381.49        NaN         NaN         NaN   \n34         NaN        297     681.69        340         NaN         NaN   \n35         NaN        576    1096.43     790.23      362.22         NaN   \n36         NaN        285     853.92      683.4         330         290   \n37         NaN        613    1150.65    1095.05      759.71         577   \n38         NaN        521     791.91     976.13      882.81      993.16   \n39         NaN     529.43     477.25      819.7      908.42     1133.92   \n40         NaN        NaN        NaN        NaN         NaN         NaN   \n41         NaN        NaN        NaN        NaN         NaN         NaN   \n42         NaN        NaN        NaN        NaN         NaN         NaN   \n43         NaN        NaN        NaN        NaN         NaN         NaN   \n44         NaN        NaN        NaN        NaN         NaN         NaN   \n45         NaN       2000        NaN        NaN         NaN         NaN   \n46         NaN       -500        NaN        NaN         NaN         NaN   \n47         NaN        1.4        NaN        NaN         NaN         NaN   \n48         NaN        NaN        NaN        NaN         NaN         NaN   \n49         NaN        NaN        NaN        NaN         NaN         NaN   \n50         NaN        NaN        NaN        NaN         NaN         NaN   \n\n   Unnamed: 12 Unnamed: 13 Unnamed: 14 Unnamed: 15  \n0          NaN         NaN         NaN         NaN  \n1          NaN         NaN         NaN         NaN  \n2          NaN         NaN         NaN         NaN  \n3          NaN         NaN         NaN         NaN  \n4          NaN         NaN         NaN         NaN  \n5          NaN         NaN         NaN         NaN  \n6          NaN         NaN         NaN         NaN  \n7          NaN         NaN         NaN         NaN  \n8          NaN         NaN         NaN         NaN  \n9          NaN         NaN         NaN         NaN  \n10         NaN         NaN         NaN         NaN  \n11     Depot F     Depot G     Depot H     Depot I  \n12         300         501         579        1138  \n13       Hub 2       Hub 3       Hub 3       Hub 3  \n14         NaN         NaN         NaN         NaN  \n15         300         501         579        1138  \n16       Hub 2       Hub 2       Hub 2       Hub 2  \n17         NaN         NaN         NaN         NaN  \n18         280         567         898        1087  \n19       Hub 2       Hub 3       Hub 3       Hub 3  \n20         NaN         NaN         NaN         NaN  \n21         280         567         898        1087  \n22       Hub 1       Hub 1       Hub 1       Hub 1  \n23         NaN         NaN         NaN         NaN  \n24     Depot F     Depot G     Depot H     Depot I  \n25         400         600         700         900  \n26         NaN         NaN         NaN         NaN  \n27         NaN         NaN         NaN         NaN  \n28         NaN         NaN         NaN         NaN  \n29         NaN         NaN         NaN         NaN  \n30     Depot F     Depot G     Depot H     Depot I  \n31         NaN         NaN         NaN         NaN  \n32         NaN         NaN         NaN         NaN  \n33         NaN         NaN         NaN         NaN  \n34         NaN         NaN         NaN         NaN  \n35         NaN         NaN         NaN         NaN  \n36         NaN         NaN         NaN         NaN  \n37         341         NaN         NaN         NaN  \n38         620      557.82         NaN         NaN  \n39      804.87      913.33      319.66         NaN  \n40         NaN         NaN         NaN         NaN  \n41         NaN         NaN         NaN         NaN  \n42         NaN         NaN         NaN         NaN  \n43         NaN         NaN         NaN         NaN  \n44         NaN         NaN         NaN         NaN  \n45         NaN         NaN         NaN         NaN  \n46         NaN         NaN         NaN         NaN  \n47         NaN         NaN         NaN         NaN  \n48         NaN         NaN         NaN         NaN  \n49         NaN         NaN         NaN         NaN  \n50         NaN         NaN         NaN         NaN  ",
      "text/html": "<div>\n<style scoped>\n    .dataframe tbody tr th:only-of-type {\n        vertical-align: middle;\n    }\n\n    .dataframe tbody tr th {\n        vertical-align: top;\n    }\n\n    .dataframe thead th {\n        text-align: right;\n    }\n</style>\n<table border=\"1\" class=\"dataframe\">\n  <thead>\n    <tr style=\"text-align: right;\">\n      <th></th>\n      <th>ModelOff 2017 - Round 2 - Section 3</th>\n      <th>Unnamed: 1</th>\n      <th>Unnamed: 2</th>\n      <th>Unnamed: 3</th>\n      <th>Unnamed: 4</th>\n      <th>Unnamed: 5</th>\n      <th>Unnamed: 6</th>\n      <th>Unnamed: 7</th>\n      <th>Unnamed: 8</th>\n      <th>Unnamed: 9</th>\n      <th>Unnamed: 10</th>\n      <th>Unnamed: 11</th>\n      <th>Unnamed: 12</th>\n      <th>Unnamed: 13</th>\n      <th>Unnamed: 14</th>\n      <th>Unnamed: 15</th>\n    </tr>\n  </thead>\n  <tbody>\n    <tr>\n      <th>0</th>\n      <td>NaN</td>\n      <td>NaN</td>\n      <td>NaN</td>\n      <td>NaN</td>\n      <td>NaN</td>\n      <td>NaN</td>\n      <td>NaN</td>\n      <td>NaN</td>\n      <td>NaN</td>\n      <td>NaN</td>\n      <td>NaN</td>\n      <td>NaN</td>\n      <td>NaN</td>\n      <td>NaN</td>\n      <td>NaN</td>\n      <td>NaN</td>\n    </tr>\n    <tr>\n      <th>1</th>\n      <td>1.00</td>\n      <td>NaN</td>\n      <td>Assumptions</td>\n      <td>NaN</td>\n      <td>NaN</td>\n      <td>NaN</td>\n      <td>NaN</td>\n      <td>NaN</td>\n      <td>NaN</td>\n      <td>NaN</td>\n      <td>NaN</td>\n      <td>NaN</td>\n      <td>NaN</td>\n      <td>NaN</td>\n      <td>NaN</td>\n      <td>NaN</td>\n    </tr>\n    <tr>\n      <th>2</th>\n      <td>NaN</td>\n      <td>NaN</td>\n      <td>NaN</td>\n      <td>NaN</td>\n      <td>NaN</td>\n      <td>NaN</td>\n      <td>NaN</td>\n      <td>NaN</td>\n      <td>NaN</td>\n      <td>NaN</td>\n      <td>NaN</td>\n      <td>NaN</td>\n      <td>NaN</td>\n      <td>NaN</td>\n      <td>NaN</td>\n      <td>NaN</td>\n    </tr>\n    <tr>\n      <th>3</th>\n      <td>NaN</td>\n      <td>NaN</td>\n      <td>NaN</td>\n      <td>NaN</td>\n      <td>NaN</td>\n      <td>NaN</td>\n      <td>NaN</td>\n      <td>NaN</td>\n      <td>NaN</td>\n      <td>NaN</td>\n      <td>NaN</td>\n      <td>NaN</td>\n      <td>NaN</td>\n      <td>NaN</td>\n      <td>NaN</td>\n      <td>NaN</td>\n    </tr>\n    <tr>\n      <th>4</th>\n      <td>NaN</td>\n      <td>NaN</td>\n      <td>NaN</td>\n      <td>NaN</td>\n      <td>NaN</td>\n      <td>NaN</td>\n      <td>NaN</td>\n      <td>NaN</td>\n      <td>NaN</td>\n      <td>NaN</td>\n      <td>NaN</td>\n      <td>NaN</td>\n      <td>NaN</td>\n      <td>NaN</td>\n      <td>NaN</td>\n      <td>NaN</td>\n    </tr>\n    <tr>\n      <th>5</th>\n      <td>NaN</td>\n      <td>NaN</td>\n      <td>NaN</td>\n      <td>NaN</td>\n      <td>NaN</td>\n      <td>Units</td>\n      <td>NaN</td>\n      <td>NaN</td>\n      <td>NaN</td>\n      <td>NaN</td>\n      <td>NaN</td>\n      <td>NaN</td>\n      <td>NaN</td>\n      <td>NaN</td>\n      <td>NaN</td>\n      <td>NaN</td>\n    </tr>\n    <tr>\n      <th>6</th>\n      <td>NaN</td>\n      <td>NaN</td>\n      <td>NaN</td>\n      <td>NaN</td>\n      <td>NaN</td>\n      <td>NaN</td>\n      <td>NaN</td>\n      <td>NaN</td>\n      <td>NaN</td>\n      <td>NaN</td>\n      <td>NaN</td>\n      <td>NaN</td>\n      <td>NaN</td>\n      <td>NaN</td>\n      <td>NaN</td>\n      <td>NaN</td>\n    </tr>\n    <tr>\n      <th>7</th>\n      <td>NaN</td>\n      <td>NaN</td>\n      <td>NaN</td>\n      <td>NaN</td>\n      <td>NaN</td>\n      <td>NaN</td>\n      <td>NaN</td>\n      <td>NaN</td>\n      <td>NaN</td>\n      <td>NaN</td>\n      <td>NaN</td>\n      <td>NaN</td>\n      <td>NaN</td>\n      <td>NaN</td>\n      <td>NaN</td>\n      <td>NaN</td>\n    </tr>\n    <tr>\n      <th>8</th>\n      <td>NaN</td>\n      <td>NaN</td>\n      <td>NaN</td>\n      <td>NaN</td>\n      <td>NaN</td>\n      <td>NaN</td>\n      <td>NaN</td>\n      <td>NaN</td>\n      <td>NaN</td>\n      <td>NaN</td>\n      <td>NaN</td>\n      <td>NaN</td>\n      <td>NaN</td>\n      <td>NaN</td>\n      <td>NaN</td>\n      <td>NaN</td>\n    </tr>\n    <tr>\n      <th>9</th>\n      <td>1.01</td>\n      <td>NaN</td>\n      <td>Vehicle location and depot capacity</td>\n      <td>NaN</td>\n      <td>NaN</td>\n      <td>NaN</td>\n      <td>NaN</td>\n      <td>NaN</td>\n      <td>NaN</td>\n      <td>NaN</td>\n      <td>NaN</td>\n      <td>NaN</td>\n      <td>NaN</td>\n      <td>NaN</td>\n      <td>NaN</td>\n      <td>NaN</td>\n    </tr>\n    <tr>\n      <th>10</th>\n      <td>NaN</td>\n      <td>NaN</td>\n      <td>NaN</td>\n      <td>NaN</td>\n      <td>NaN</td>\n      <td>NaN</td>\n      <td>NaN</td>\n      <td>NaN</td>\n      <td>NaN</td>\n      <td>NaN</td>\n      <td>NaN</td>\n      <td>NaN</td>\n      <td>NaN</td>\n      <td>NaN</td>\n      <td>NaN</td>\n      <td>NaN</td>\n    </tr>\n    <tr>\n      <th>11</th>\n      <td>NaN</td>\n      <td>NaN</td>\n      <td>Vehicles for service and hub groupings</td>\n      <td>NaN</td>\n      <td>NaN</td>\n      <td>NaN</td>\n      <td>NaN</td>\n      <td>Depot A</td>\n      <td>Depot B</td>\n      <td>Depot C</td>\n      <td>Depot D</td>\n      <td>Depot E</td>\n      <td>Depot F</td>\n      <td>Depot G</td>\n      <td>Depot H</td>\n      <td>Depot I</td>\n    </tr>\n    <tr>\n      <th>12</th>\n      <td>NaN</td>\n      <td>NaN</td>\n      <td>NaN</td>\n      <td>Scenario 1a - vehicles for service</td>\n      <td>NaN</td>\n      <td>[# vehicles]</td>\n      <td>NaN</td>\n      <td>2438</td>\n      <td>544</td>\n      <td>121</td>\n      <td>553</td>\n      <td>103</td>\n      <td>300</td>\n      <td>501</td>\n      <td>579</td>\n      <td>1138</td>\n    </tr>\n    <tr>\n      <th>13</th>\n      <td>NaN</td>\n      <td>NaN</td>\n      <td>NaN</td>\n      <td>Scenario 1a - hub allocation</td>\n      <td>NaN</td>\n      <td>[hub]</td>\n      <td>NaN</td>\n      <td>Hub 1</td>\n      <td>Hub 1</td>\n      <td>Hub 1</td>\n      <td>Hub 2</td>\n      <td>Hub 2</td>\n      <td>Hub 2</td>\n      <td>Hub 3</td>\n      <td>Hub 3</td>\n      <td>Hub 3</td>\n    </tr>\n    <tr>\n      <th>14</th>\n      <td>NaN</td>\n      <td>NaN</td>\n      <td>NaN</td>\n      <td>NaN</td>\n      <td>NaN</td>\n      <td>NaN</td>\n      <td>NaN</td>\n      <td>NaN</td>\n      <td>NaN</td>\n      <td>NaN</td>\n      <td>NaN</td>\n      <td>NaN</td>\n      <td>NaN</td>\n      <td>NaN</td>\n      <td>NaN</td>\n      <td>NaN</td>\n    </tr>\n    <tr>\n      <th>15</th>\n      <td>NaN</td>\n      <td>NaN</td>\n      <td>NaN</td>\n      <td>Scenario 1b - vehicles for service</td>\n      <td>NaN</td>\n      <td>[# vehicles]</td>\n      <td>NaN</td>\n      <td>2438</td>\n      <td>544</td>\n      <td>121</td>\n      <td>553</td>\n      <td>103</td>\n      <td>300</td>\n      <td>501</td>\n      <td>579</td>\n      <td>1138</td>\n    </tr>\n    <tr>\n      <th>16</th>\n      <td>NaN</td>\n      <td>NaN</td>\n      <td>NaN</td>\n      <td>Scenario 1b - hub allocation</td>\n      <td>NaN</td>\n      <td>[hub]</td>\n      <td>NaN</td>\n      <td>Hub 1</td>\n      <td>Hub 1</td>\n      <td>Hub 1</td>\n      <td>Hub 1</td>\n      <td>Hub 2</td>\n      <td>Hub 2</td>\n      <td>Hub 2</td>\n      <td>Hub 2</td>\n      <td>Hub 2</td>\n    </tr>\n    <tr>\n      <th>17</th>\n      <td>NaN</td>\n      <td>NaN</td>\n      <td>NaN</td>\n      <td>NaN</td>\n      <td>NaN</td>\n      <td>NaN</td>\n      <td>NaN</td>\n      <td>NaN</td>\n      <td>NaN</td>\n      <td>NaN</td>\n      <td>NaN</td>\n      <td>NaN</td>\n      <td>NaN</td>\n      <td>NaN</td>\n      <td>NaN</td>\n      <td>NaN</td>\n    </tr>\n    <tr>\n      <th>18</th>\n      <td>NaN</td>\n      <td>NaN</td>\n      <td>NaN</td>\n      <td>Scenario 2a - vehicles for service</td>\n      <td>NaN</td>\n      <td>[# vehicles]</td>\n      <td>NaN</td>\n      <td>2099</td>\n      <td>519</td>\n      <td>107</td>\n      <td>333</td>\n      <td>88</td>\n      <td>280</td>\n      <td>567</td>\n      <td>898</td>\n      <td>1087</td>\n    </tr>\n    <tr>\n      <th>19</th>\n      <td>NaN</td>\n      <td>NaN</td>\n      <td>NaN</td>\n      <td>Scenario 2a - hub allocation</td>\n      <td>NaN</td>\n      <td>[hub]</td>\n      <td>NaN</td>\n      <td>Hub 1</td>\n      <td>Hub 1</td>\n      <td>Hub 1</td>\n      <td>Hub 2</td>\n      <td>Hub 2</td>\n      <td>Hub 2</td>\n      <td>Hub 3</td>\n      <td>Hub 3</td>\n      <td>Hub 3</td>\n    </tr>\n    <tr>\n      <th>20</th>\n      <td>NaN</td>\n      <td>NaN</td>\n      <td>NaN</td>\n      <td>NaN</td>\n      <td>NaN</td>\n      <td>NaN</td>\n      <td>NaN</td>\n      <td>NaN</td>\n      <td>NaN</td>\n      <td>NaN</td>\n      <td>NaN</td>\n      <td>NaN</td>\n      <td>NaN</td>\n      <td>NaN</td>\n      <td>NaN</td>\n      <td>NaN</td>\n    </tr>\n    <tr>\n      <th>21</th>\n      <td>NaN</td>\n      <td>NaN</td>\n      <td>NaN</td>\n      <td>Scenario 2b - vehicles for service</td>\n      <td>NaN</td>\n      <td>[# vehicles]</td>\n      <td>NaN</td>\n      <td>2099</td>\n      <td>519</td>\n      <td>107</td>\n      <td>333</td>\n      <td>88</td>\n      <td>280</td>\n      <td>567</td>\n      <td>898</td>\n      <td>1087</td>\n    </tr>\n    <tr>\n      <th>22</th>\n      <td>NaN</td>\n      <td>NaN</td>\n      <td>NaN</td>\n      <td>Scenario 2b - hub allocation</td>\n      <td>NaN</td>\n      <td>[hub]</td>\n      <td>NaN</td>\n      <td>Hub 1</td>\n      <td>Hub 1</td>\n      <td>Hub 1</td>\n      <td>Hub 1</td>\n      <td>Hub 1</td>\n      <td>Hub 1</td>\n      <td>Hub 1</td>\n      <td>Hub 1</td>\n      <td>Hub 1</td>\n    </tr>\n    <tr>\n      <th>23</th>\n      <td>NaN</td>\n      <td>NaN</td>\n      <td>NaN</td>\n      <td>NaN</td>\n      <td>NaN</td>\n      <td>NaN</td>\n      <td>NaN</td>\n      <td>NaN</td>\n      <td>NaN</td>\n      <td>NaN</td>\n      <td>NaN</td>\n      <td>NaN</td>\n      <td>NaN</td>\n      <td>NaN</td>\n      <td>NaN</td>\n      <td>NaN</td>\n    </tr>\n    <tr>\n      <th>24</th>\n      <td>NaN</td>\n      <td>NaN</td>\n      <td>Depot capacity</td>\n      <td>NaN</td>\n      <td>NaN</td>\n      <td>NaN</td>\n      <td>NaN</td>\n      <td>Depot A</td>\n      <td>Depot B</td>\n      <td>Depot C</td>\n      <td>Depot D</td>\n      <td>Depot E</td>\n      <td>Depot F</td>\n      <td>Depot G</td>\n      <td>Depot H</td>\n      <td>Depot I</td>\n    </tr>\n    <tr>\n      <th>25</th>\n      <td>NaN</td>\n      <td>NaN</td>\n      <td>NaN</td>\n      <td>Total capacity of each depot</td>\n      <td>NaN</td>\n      <td>[# vehicles]</td>\n      <td>NaN</td>\n      <td>2700</td>\n      <td>400</td>\n      <td>100</td>\n      <td>400</td>\n      <td>100</td>\n      <td>400</td>\n      <td>600</td>\n      <td>700</td>\n      <td>900</td>\n    </tr>\n    <tr>\n      <th>26</th>\n      <td>NaN</td>\n      <td>NaN</td>\n      <td>NaN</td>\n      <td>NaN</td>\n      <td>NaN</td>\n      <td>NaN</td>\n      <td>NaN</td>\n      <td>NaN</td>\n      <td>NaN</td>\n      <td>NaN</td>\n      <td>NaN</td>\n      <td>NaN</td>\n      <td>NaN</td>\n      <td>NaN</td>\n      <td>NaN</td>\n      <td>NaN</td>\n    </tr>\n    <tr>\n      <th>27</th>\n      <td>NaN</td>\n      <td>NaN</td>\n      <td>NaN</td>\n      <td>NaN</td>\n      <td>NaN</td>\n      <td>NaN</td>\n      <td>NaN</td>\n      <td>NaN</td>\n      <td>NaN</td>\n      <td>NaN</td>\n      <td>NaN</td>\n      <td>NaN</td>\n      <td>NaN</td>\n      <td>NaN</td>\n      <td>NaN</td>\n      <td>NaN</td>\n    </tr>\n    <tr>\n      <th>28</th>\n      <td>1.02</td>\n      <td>NaN</td>\n      <td>Depot distances</td>\n      <td>NaN</td>\n      <td>NaN</td>\n      <td>NaN</td>\n      <td>NaN</td>\n      <td>NaN</td>\n      <td>NaN</td>\n      <td>NaN</td>\n      <td>NaN</td>\n      <td>NaN</td>\n      <td>NaN</td>\n      <td>NaN</td>\n      <td>NaN</td>\n      <td>NaN</td>\n    </tr>\n    <tr>\n      <th>29</th>\n      <td>NaN</td>\n      <td>NaN</td>\n      <td>NaN</td>\n      <td>NaN</td>\n      <td>NaN</td>\n      <td>NaN</td>\n      <td>NaN</td>\n      <td>NaN</td>\n      <td>NaN</td>\n      <td>NaN</td>\n      <td>NaN</td>\n      <td>NaN</td>\n      <td>NaN</td>\n      <td>NaN</td>\n      <td>NaN</td>\n      <td>NaN</td>\n    </tr>\n    <tr>\n      <th>30</th>\n      <td>NaN</td>\n      <td>NaN</td>\n      <td>Driving distance between each pair of depots (...</td>\n      <td>NaN</td>\n      <td>NaN</td>\n      <td>NaN</td>\n      <td>NaN</td>\n      <td>Depot A</td>\n      <td>Depot B</td>\n      <td>Depot C</td>\n      <td>Depot D</td>\n      <td>Depot E</td>\n      <td>Depot F</td>\n      <td>Depot G</td>\n      <td>Depot H</td>\n      <td>Depot I</td>\n    </tr>\n    <tr>\n      <th>31</th>\n      <td>NaN</td>\n      <td>NaN</td>\n      <td>NaN</td>\n      <td>NaN</td>\n      <td>Depot A</td>\n      <td>[miles]</td>\n      <td>NaN</td>\n      <td>NaN</td>\n      <td>NaN</td>\n      <td>NaN</td>\n      <td>NaN</td>\n      <td>NaN</td>\n      <td>NaN</td>\n      <td>NaN</td>\n      <td>NaN</td>\n      <td>NaN</td>\n    </tr>\n    <tr>\n      <th>32</th>\n      <td>NaN</td>\n      <td>NaN</td>\n      <td>NaN</td>\n      <td>NaN</td>\n      <td>Depot B</td>\n      <td>[miles]</td>\n      <td>NaN</td>\n      <td>482</td>\n      <td>NaN</td>\n      <td>NaN</td>\n      <td>NaN</td>\n      <td>NaN</td>\n      <td>NaN</td>\n      <td>NaN</td>\n      <td>NaN</td>\n      <td>NaN</td>\n    </tr>\n    <tr>\n      <th>33</th>\n      <td>NaN</td>\n      <td>NaN</td>\n      <td>NaN</td>\n      <td>NaN</td>\n      <td>Depot C</td>\n      <td>[miles]</td>\n      <td>NaN</td>\n      <td>417</td>\n      <td>381.49</td>\n      <td>NaN</td>\n      <td>NaN</td>\n      <td>NaN</td>\n      <td>NaN</td>\n      <td>NaN</td>\n      <td>NaN</td>\n      <td>NaN</td>\n    </tr>\n    <tr>\n      <th>34</th>\n      <td>NaN</td>\n      <td>NaN</td>\n      <td>NaN</td>\n      <td>NaN</td>\n      <td>Depot D</td>\n      <td>[miles]</td>\n      <td>NaN</td>\n      <td>297</td>\n      <td>681.69</td>\n      <td>340</td>\n      <td>NaN</td>\n      <td>NaN</td>\n      <td>NaN</td>\n      <td>NaN</td>\n      <td>NaN</td>\n      <td>NaN</td>\n    </tr>\n    <tr>\n      <th>35</th>\n      <td>NaN</td>\n      <td>NaN</td>\n      <td>NaN</td>\n      <td>NaN</td>\n      <td>Depot E</td>\n      <td>[miles]</td>\n      <td>NaN</td>\n      <td>576</td>\n      <td>1096.43</td>\n      <td>790.23</td>\n      <td>362.22</td>\n      <td>NaN</td>\n      <td>NaN</td>\n      <td>NaN</td>\n      <td>NaN</td>\n      <td>NaN</td>\n    </tr>\n    <tr>\n      <th>36</th>\n      <td>NaN</td>\n      <td>NaN</td>\n      <td>NaN</td>\n      <td>NaN</td>\n      <td>Depot F</td>\n      <td>[miles]</td>\n      <td>NaN</td>\n      <td>285</td>\n      <td>853.92</td>\n      <td>683.4</td>\n      <td>330</td>\n      <td>290</td>\n      <td>NaN</td>\n      <td>NaN</td>\n      <td>NaN</td>\n      <td>NaN</td>\n    </tr>\n    <tr>\n      <th>37</th>\n      <td>NaN</td>\n      <td>NaN</td>\n      <td>NaN</td>\n      <td>NaN</td>\n      <td>Depot G</td>\n      <td>[miles]</td>\n      <td>NaN</td>\n      <td>613</td>\n      <td>1150.65</td>\n      <td>1095.05</td>\n      <td>759.71</td>\n      <td>577</td>\n      <td>341</td>\n      <td>NaN</td>\n      <td>NaN</td>\n      <td>NaN</td>\n    </tr>\n    <tr>\n      <th>38</th>\n      <td>NaN</td>\n      <td>NaN</td>\n      <td>NaN</td>\n      <td>NaN</td>\n      <td>Depot H</td>\n      <td>[miles]</td>\n      <td>NaN</td>\n      <td>521</td>\n      <td>791.91</td>\n      <td>976.13</td>\n      <td>882.81</td>\n      <td>993.16</td>\n      <td>620</td>\n      <td>557.82</td>\n      <td>NaN</td>\n      <td>NaN</td>\n    </tr>\n    <tr>\n      <th>39</th>\n      <td>NaN</td>\n      <td>NaN</td>\n      <td>NaN</td>\n      <td>NaN</td>\n      <td>Depot I</td>\n      <td>[miles]</td>\n      <td>NaN</td>\n      <td>529.43</td>\n      <td>477.25</td>\n      <td>819.7</td>\n      <td>908.42</td>\n      <td>1133.92</td>\n      <td>804.87</td>\n      <td>913.33</td>\n      <td>319.66</td>\n      <td>NaN</td>\n    </tr>\n    <tr>\n      <th>40</th>\n      <td>NaN</td>\n      <td>NaN</td>\n      <td>NaN</td>\n      <td>NaN</td>\n      <td>NaN</td>\n      <td>NaN</td>\n      <td>NaN</td>\n      <td>NaN</td>\n      <td>NaN</td>\n      <td>NaN</td>\n      <td>NaN</td>\n      <td>NaN</td>\n      <td>NaN</td>\n      <td>NaN</td>\n      <td>NaN</td>\n      <td>NaN</td>\n    </tr>\n    <tr>\n      <th>41</th>\n      <td>NaN</td>\n      <td>NaN</td>\n      <td>NaN</td>\n      <td>NaN</td>\n      <td>NaN</td>\n      <td>NaN</td>\n      <td>NaN</td>\n      <td>NaN</td>\n      <td>NaN</td>\n      <td>NaN</td>\n      <td>NaN</td>\n      <td>NaN</td>\n      <td>NaN</td>\n      <td>NaN</td>\n      <td>NaN</td>\n      <td>NaN</td>\n    </tr>\n    <tr>\n      <th>42</th>\n      <td>1.03</td>\n      <td>NaN</td>\n      <td>Other asssumptions</td>\n      <td>NaN</td>\n      <td>NaN</td>\n      <td>NaN</td>\n      <td>NaN</td>\n      <td>NaN</td>\n      <td>NaN</td>\n      <td>NaN</td>\n      <td>NaN</td>\n      <td>NaN</td>\n      <td>NaN</td>\n      <td>NaN</td>\n      <td>NaN</td>\n      <td>NaN</td>\n    </tr>\n    <tr>\n      <th>43</th>\n      <td>NaN</td>\n      <td>NaN</td>\n      <td>NaN</td>\n      <td>NaN</td>\n      <td>NaN</td>\n      <td>NaN</td>\n      <td>NaN</td>\n      <td>NaN</td>\n      <td>NaN</td>\n      <td>NaN</td>\n      <td>NaN</td>\n      <td>NaN</td>\n      <td>NaN</td>\n      <td>NaN</td>\n      <td>NaN</td>\n      <td>NaN</td>\n    </tr>\n    <tr>\n      <th>44</th>\n      <td>NaN</td>\n      <td>NaN</td>\n      <td>Other revenue and cost assumptions</td>\n      <td>NaN</td>\n      <td>NaN</td>\n      <td>NaN</td>\n      <td>NaN</td>\n      <td>NaN</td>\n      <td>NaN</td>\n      <td>NaN</td>\n      <td>NaN</td>\n      <td>NaN</td>\n      <td>NaN</td>\n      <td>NaN</td>\n      <td>NaN</td>\n      <td>NaN</td>\n    </tr>\n    <tr>\n      <th>45</th>\n      <td>NaN</td>\n      <td>NaN</td>\n      <td>NaN</td>\n      <td>Revenue per vehicle</td>\n      <td>NaN</td>\n      <td>[$ per vehicle]</td>\n      <td>NaN</td>\n      <td>2000</td>\n      <td>NaN</td>\n      <td>NaN</td>\n      <td>NaN</td>\n      <td>NaN</td>\n      <td>NaN</td>\n      <td>NaN</td>\n      <td>NaN</td>\n      <td>NaN</td>\n    </tr>\n    <tr>\n      <th>46</th>\n      <td>NaN</td>\n      <td>NaN</td>\n      <td>NaN</td>\n      <td>Penalty for unserviced vehicle</td>\n      <td>NaN</td>\n      <td>[$ per vehicle]</td>\n      <td>NaN</td>\n      <td>-500</td>\n      <td>NaN</td>\n      <td>NaN</td>\n      <td>NaN</td>\n      <td>NaN</td>\n      <td>NaN</td>\n      <td>NaN</td>\n      <td>NaN</td>\n      <td>NaN</td>\n    </tr>\n    <tr>\n      <th>47</th>\n      <td>NaN</td>\n      <td>NaN</td>\n      <td>NaN</td>\n      <td>Transport costs</td>\n      <td>NaN</td>\n      <td>[$ per mile]</td>\n      <td>NaN</td>\n      <td>1.4</td>\n      <td>NaN</td>\n      <td>NaN</td>\n      <td>NaN</td>\n      <td>NaN</td>\n      <td>NaN</td>\n      <td>NaN</td>\n      <td>NaN</td>\n      <td>NaN</td>\n    </tr>\n    <tr>\n      <th>48</th>\n      <td>NaN</td>\n      <td>NaN</td>\n      <td>NaN</td>\n      <td>NaN</td>\n      <td>NaN</td>\n      <td>NaN</td>\n      <td>NaN</td>\n      <td>NaN</td>\n      <td>NaN</td>\n      <td>NaN</td>\n      <td>NaN</td>\n      <td>NaN</td>\n      <td>NaN</td>\n      <td>NaN</td>\n      <td>NaN</td>\n      <td>NaN</td>\n    </tr>\n    <tr>\n      <th>49</th>\n      <td>NaN</td>\n      <td>NaN</td>\n      <td>NaN</td>\n      <td>NaN</td>\n      <td>NaN</td>\n      <td>NaN</td>\n      <td>NaN</td>\n      <td>NaN</td>\n      <td>NaN</td>\n      <td>NaN</td>\n      <td>NaN</td>\n      <td>NaN</td>\n      <td>NaN</td>\n      <td>NaN</td>\n      <td>NaN</td>\n      <td>NaN</td>\n    </tr>\n    <tr>\n      <th>50</th>\n      <td>NaN</td>\n      <td>NaN</td>\n      <td>End Sheet</td>\n      <td>NaN</td>\n      <td>NaN</td>\n      <td>NaN</td>\n      <td>NaN</td>\n      <td>NaN</td>\n      <td>NaN</td>\n      <td>NaN</td>\n      <td>NaN</td>\n      <td>NaN</td>\n      <td>NaN</td>\n      <td>NaN</td>\n      <td>NaN</td>\n      <td>NaN</td>\n    </tr>\n  </tbody>\n</table>\n</div>"
     },
     "execution_count": 6,
     "metadata": {},
     "output_type": "execute_result"
    }
   ],
   "source": [
    "data"
   ],
   "metadata": {
    "collapsed": false,
    "ExecuteTime": {
     "end_time": "2024-06-24T23:00:36.736289Z",
     "start_time": "2024-06-24T23:00:36.707567Z"
    }
   },
   "id": "760b49e18a3ceea",
   "execution_count": 6
  },
  {
   "cell_type": "code",
   "outputs": [],
   "source": [
    "distance = [data['Unnamed: 7'][32:40].values.tolist(), data['Unnamed: 8'][32:40].values.tolist(),data['Unnamed: 9'][32:40].values.tolist(),data['Unnamed: 10'][32:40].values.tolist(),data['Unnamed: 11'][32:40].values.tolist(),data['Unnamed: 12'][32:40].values.tolist(),data['Unnamed: 13'][32:40].values.tolist(),data['Unnamed: 14'][32:40].values.tolist(),]"
   ],
   "metadata": {
    "collapsed": false,
    "ExecuteTime": {
     "end_time": "2024-06-24T23:04:36.507862Z",
     "start_time": "2024-06-24T23:04:36.502354Z"
    }
   },
   "id": "c79a125edd1e4de1",
   "execution_count": 19
  },
  {
   "cell_type": "code",
   "outputs": [
    {
     "data": {
      "text/plain": "[[482, 417, 297, 576, 285, 613, 521, 529.43],\n [nan, 381.49, 681.69, 1096.43, 853.92, 1150.65, 791.91, 477.25],\n [nan, nan, 340, 790.23, 683.4, 1095.05, 976.13, 819.7],\n [nan, nan, nan, 362.22, 330, 759.71, 882.81, 908.42],\n [nan, nan, nan, nan, 290, 577, 993.16, 1133.92],\n [nan, nan, nan, nan, nan, 341, 620, 804.87],\n [nan, nan, nan, nan, nan, nan, 557.82, 913.33],\n [nan, nan, nan, nan, nan, nan, nan, 319.66]]"
     },
     "execution_count": 20,
     "metadata": {},
     "output_type": "execute_result"
    }
   ],
   "source": [
    "distance"
   ],
   "metadata": {
    "collapsed": false,
    "ExecuteTime": {
     "end_time": "2024-06-24T23:04:36.924855Z",
     "start_time": "2024-06-24T23:04:36.917505Z"
    }
   },
   "id": "5b0167122a09d6bd",
   "execution_count": 20
  },
  {
   "cell_type": "code",
   "outputs": [],
   "source": [
    "distance_ = []\n",
    "for dis in distance:\n",
    "    distance_.append([d if d is not math.nan else 0 for d in dis])"
   ],
   "metadata": {
    "collapsed": false,
    "ExecuteTime": {
     "end_time": "2024-06-24T23:08:52.723076Z",
     "start_time": "2024-06-24T23:08:52.717542Z"
    }
   },
   "id": "579efd14d31dfe9",
   "execution_count": 33
  },
  {
   "cell_type": "code",
   "outputs": [
    {
     "data": {
      "text/plain": "[[482, 417, 297, 576, 285, 613, 521, 529.43],\n [nan, 381.49, 681.69, 1096.43, 853.92, 1150.65, 791.91, 477.25],\n [nan, nan, 340, 790.23, 683.4, 1095.05, 976.13, 819.7],\n [nan, nan, nan, 362.22, 330, 759.71, 882.81, 908.42],\n [nan, nan, nan, nan, 290, 577, 993.16, 1133.92],\n [nan, nan, nan, nan, nan, 341, 620, 804.87],\n [nan, nan, nan, nan, nan, nan, 557.82, 913.33],\n [nan, nan, nan, nan, nan, nan, nan, 319.66]]"
     },
     "execution_count": 34,
     "metadata": {},
     "output_type": "execute_result"
    }
   ],
   "source": [
    "distance_"
   ],
   "metadata": {
    "collapsed": false,
    "ExecuteTime": {
     "end_time": "2024-06-24T23:08:53.175956Z",
     "start_time": "2024-06-24T23:08:53.172053Z"
    }
   },
   "id": "7d1602ff7cfa03ac",
   "execution_count": 34
  },
  {
   "cell_type": "code",
   "outputs": [
    {
     "name": "stdout",
     "output_type": "stream",
     "text": [
      "28\n"
     ]
    }
   ],
   "source": [
    "res = 0\n",
    "for dis in distance:\n",
    "    for d in dis:\n",
    "        # print(d)\n",
    "        if 2000 - 1.4*d*2 > -500 :\n",
    "            res += 1\n",
    "print(res)"
   ],
   "metadata": {
    "collapsed": false,
    "ExecuteTime": {
     "end_time": "2024-06-24T23:18:26.984803Z",
     "start_time": "2024-06-24T23:18:26.923504Z"
    }
   },
   "id": "bbb982ad64f80494",
   "execution_count": 45
  },
  {
   "cell_type": "code",
   "outputs": [
    {
     "data": {
      "text/plain": "357.14285714285717"
     },
     "execution_count": 36,
     "metadata": {},
     "output_type": "execute_result"
    }
   ],
   "source": [
    "2500 / 1.4"
   ],
   "metadata": {
    "collapsed": false,
    "ExecuteTime": {
     "end_time": "2024-06-24T23:10:31.422194Z",
     "start_time": "2024-06-24T23:10:31.416022Z"
    }
   },
   "id": "cd34b0ad4d86a0d4",
   "execution_count": 36
  },
  {
   "cell_type": "code",
   "outputs": [],
   "source": [
    "## Q26 C"
   ],
   "metadata": {
    "collapsed": false,
    "ExecuteTime": {
     "end_time": "2024-06-24T23:18:41.296144Z",
     "start_time": "2024-06-24T23:18:41.289619Z"
    }
   },
   "id": "5dc2b5524f55838d",
   "execution_count": 46
  },
  {
   "cell_type": "code",
   "outputs": [
    {
     "data": {
      "text/plain": "218862.0"
     },
     "execution_count": 49,
     "metadata": {},
     "output_type": "execute_result"
    }
   ],
   "source": [
    "## Q27 I\n",
    "144 * 482 * 1.4 *2 + 21 * 1.4 * 417 *2"
   ],
   "metadata": {
    "collapsed": false,
    "ExecuteTime": {
     "end_time": "2024-06-24T23:27:45.437515Z",
     "start_time": "2024-06-24T23:27:45.433513Z"
    }
   },
   "id": "e254c9c982dcb949",
   "execution_count": 49
  },
  {
   "cell_type": "code",
   "outputs": [
    {
     "data": {
      "text/plain": "28000"
     },
     "execution_count": 50,
     "metadata": {},
     "output_type": "execute_result"
    }
   ],
   "source": [
    "## Q28 B\n",
    "56 * 500"
   ],
   "metadata": {
    "collapsed": false,
    "ExecuteTime": {
     "end_time": "2024-06-24T23:31:32.160357Z",
     "start_time": "2024-06-24T23:31:32.150191Z"
    }
   },
   "id": "253b6ee828f7b821",
   "execution_count": 50
  },
  {
   "cell_type": "code",
   "outputs": [
    {
     "data": {
      "text/plain": "4028492.284"
     },
     "execution_count": 52,
     "metadata": {},
     "output_type": "execute_result"
    }
   ],
   "source": [
    "## Q 29 238 -121 = 117 e\n",
    "2000*501 + 579*2000 + 1138*2000-319.66*2*1.4*121 - 117 * 1.4 *2*913.33"
   ],
   "metadata": {
    "collapsed": false,
    "ExecuteTime": {
     "end_time": "2024-06-24T23:36:31.337022Z",
     "start_time": "2024-06-24T23:36:31.332289Z"
    }
   },
   "id": "abbd1b657fad268f",
   "execution_count": 52
  },
  {
   "cell_type": "code",
   "outputs": [
    {
     "data": {
      "text/plain": "299527.2"
     },
     "execution_count": 55,
     "metadata": {},
     "output_type": "execute_result"
    }
   ],
   "source": [
    "## Q 30 97- 153 d\n",
    "144 * 482 * 1.4 *2 + 21 * 1.4 * 417 *2 + 97 * 1.4 * 297 *2"
   ],
   "metadata": {
    "collapsed": false,
    "ExecuteTime": {
     "end_time": "2024-06-24T23:45:51.363300Z",
     "start_time": "2024-06-24T23:45:51.302265Z"
    }
   },
   "id": "6e661a8cc69d2be1",
   "execution_count": 55
  },
  {
   "cell_type": "code",
   "outputs": [
    {
     "data": {
      "text/plain": "97"
     },
     "execution_count": 54,
     "metadata": {},
     "output_type": "execute_result"
    }
   ],
   "source": [
    "2700-2438-144-21"
   ],
   "metadata": {
    "collapsed": false,
    "ExecuteTime": {
     "end_time": "2024-06-24T23:45:14.511266Z",
     "start_time": "2024-06-24T23:45:14.485720Z"
    }
   },
   "id": "64a884116935f50d",
   "execution_count": 54
  },
  {
   "cell_type": "code",
   "outputs": [
    {
     "data": {
      "text/plain": "21"
     },
     "execution_count": 57,
     "metadata": {},
     "output_type": "execute_result"
    }
   ],
   "source": [
    "## Q 31 i\n",
    "103 + 300 + 501 + 579 + 1138 - (400 + 600 + 700 + 900)"
   ],
   "metadata": {
    "collapsed": false,
    "ExecuteTime": {
     "end_time": "2024-06-24T23:50:26.935731Z",
     "start_time": "2024-06-24T23:50:26.874895Z"
    }
   },
   "id": "e81703324a141770",
   "execution_count": 57
  },
  {
   "cell_type": "code",
   "outputs": [
    {
     "data": {
      "text/plain": "706985.424"
     },
     "execution_count": 58,
     "metadata": {},
     "output_type": "execute_result"
    }
   ],
   "source": [
    "(400 + 600 + 700 + 900) * 500 - 21*500 - 3 * 2.8 * 290 - 97*2.8*804.87 - 99*2.8*913.33 - 121 * 2.8 * 319.66"
   ],
   "metadata": {
    "collapsed": false,
    "ExecuteTime": {
     "end_time": "2024-06-24T23:54:57.430908Z",
     "start_time": "2024-06-24T23:54:57.405105Z"
    }
   },
   "id": "614658cf5437d1e0",
   "execution_count": 58
  },
  {
   "cell_type": "code",
   "outputs": [],
   "source": [
    "F 97 G 99 H 121"
   ],
   "metadata": {
    "collapsed": false
   },
   "id": "e483dc520446138e"
  },
  {
   "cell_type": "code",
   "outputs": [],
   "source": [
    " 32"
   ],
   "metadata": {
    "collapsed": false
   },
   "id": "aab57f2b5dee284"
  },
  {
   "cell_type": "code",
   "outputs": [],
   "source": [
    "cost = 119 * 482 *2.8 + 7 * 417 * 2.8 + 33 * 2.8 *557.82 + 165*500 + 187 * 500"
   ],
   "metadata": {
    "collapsed": false,
    "ExecuteTime": {
     "end_time": "2024-06-24T23:59:29.713915Z",
     "start_time": "2024-06-24T23:59:29.698368Z"
    }
   },
   "id": "b50e61bc806e870b",
   "execution_count": 59
  },
  {
   "cell_type": "code",
   "outputs": [
    {
     "data": {
      "text/plain": "10855681.832"
     },
     "execution_count": 60,
     "metadata": {},
     "output_type": "execute_result"
    }
   ],
   "source": [
    "(2099 + 519 + 107 + 333 + 88 + 280 + 600 + 700 + 900) * 2000 -cost\n",
    "## Q33 F"
   ],
   "metadata": {
    "collapsed": false,
    "ExecuteTime": {
     "end_time": "2024-06-25T00:00:13.470841Z",
     "start_time": "2024-06-25T00:00:13.453112Z"
    }
   },
   "id": "a8a886ef567e6a7d",
   "execution_count": 60
  },
  {
   "cell_type": "code",
   "outputs": [],
   "source": [
    "## Q34 \n",
    "# 满地 B C  H I\n",
    "# A 2700 2099+119+198 +187 D 333+7 E 88 F 280 G 567\n",
    "cost_a = 119 * 482 *2.8 + 7 * 417 * 2.8 + 33 * 2.8 *557.82\n",
    "cost_b = (482 * 119+ 340*7 + 198 * 521 + 187 * 529.43)*2.8"
   ],
   "metadata": {
    "collapsed": false,
    "ExecuteTime": {
     "end_time": "2024-06-25T00:10:50.277431Z",
     "start_time": "2024-06-25T00:10:50.211720Z"
    }
   },
   "id": "e8515be0fff69a62",
   "execution_count": 62
  },
  {
   "cell_type": "code",
   "outputs": [
    {
     "data": {
      "text/plain": "-513000.1799999999"
     },
     "execution_count": 63,
     "metadata": {},
     "output_type": "execute_result"
    }
   ],
   "source": [
    "cost_a - cost_b"
   ],
   "metadata": {
    "collapsed": false,
    "ExecuteTime": {
     "end_time": "2024-06-25T00:10:50.884540Z",
     "start_time": "2024-06-25T00:10:50.842902Z"
    }
   },
   "id": "1e03f9a07ed9dc7",
   "execution_count": 63
  },
  {
   "cell_type": "code",
   "outputs": [],
   "source": [],
   "metadata": {
    "collapsed": false
   },
   "id": "443b1c67bf8658ef"
  }
 ],
 "metadata": {
  "kernelspec": {
   "display_name": "Python 3",
   "language": "python",
   "name": "python3"
  },
  "language_info": {
   "codemirror_mode": {
    "name": "ipython",
    "version": 2
   },
   "file_extension": ".py",
   "mimetype": "text/x-python",
   "name": "python",
   "nbconvert_exporter": "python",
   "pygments_lexer": "ipython2",
   "version": "2.7.6"
  }
 },
 "nbformat": 4,
 "nbformat_minor": 5
}
