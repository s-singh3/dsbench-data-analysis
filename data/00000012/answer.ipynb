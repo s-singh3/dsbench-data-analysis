{
 "cells": [
  {
   "cell_type": "code",
   "execution_count": 1,
   "id": "initial_id",
   "metadata": {
    "collapsed": true,
    "ExecuteTime": {
     "end_time": "2024-06-25T23:54:56.963130Z",
     "start_time": "2024-06-25T23:54:56.477039Z"
    }
   },
   "outputs": [],
   "source": [
    "import pandas as pd\n",
    "import math"
   ]
  },
  {
   "cell_type": "code",
   "outputs": [
    {
     "data": {
      "text/plain": "9000000"
     },
     "execution_count": 5,
     "metadata": {},
     "output_type": "execute_result"
    }
   ],
   "source": [
    "10000000 - 500000 - 500000 "
   ],
   "metadata": {
    "collapsed": false,
    "ExecuteTime": {
     "end_time": "2024-06-26T00:00:34.299726Z",
     "start_time": "2024-06-26T00:00:34.293393Z"
    }
   },
   "id": "51ac2c42ef51fea1",
   "execution_count": 5
  },
  {
   "cell_type": "code",
   "outputs": [
    {
     "data": {
      "text/plain": "9239607.843137255"
     },
     "execution_count": 16,
     "metadata": {},
     "output_type": "execute_result"
    }
   ],
   "source": [
    "10000000 - 1000000/1.02 + 500000 * 0.02 * 2 + 10000000*0.07"
   ],
   "metadata": {
    "collapsed": false,
    "ExecuteTime": {
     "end_time": "2024-06-26T00:20:12.360355Z",
     "start_time": "2024-06-26T00:20:12.354421Z"
    }
   },
   "id": "d1b39e8dff9a2088",
   "execution_count": 16
  },
  {
   "cell_type": "code",
   "outputs": [
    {
     "data": {
      "text/plain": "1110000.0"
     },
     "execution_count": 8,
     "metadata": {},
     "output_type": "execute_result"
    }
   ],
   "source": [
    "d c  b e f g h j k d\n",
    "1/12"
   ],
   "metadata": {
    "collapsed": false,
    "ExecuteTime": {
     "end_time": "2024-06-26T00:01:51.374577Z",
     "start_time": "2024-06-26T00:01:51.367103Z"
    }
   },
   "id": "1375aaaafd04f4b9",
   "execution_count": 8
  },
  {
   "cell_type": "code",
   "outputs": [
    {
     "data": {
      "text/plain": "20876.112251882274"
     },
     "execution_count": 21,
     "metadata": {},
     "output_type": "execute_result"
    }
   ],
   "source": [
    "500000 * 366 / (365 + 366+365+365+365+366+365+365+365+366+365+365+365+366+365+365+365+366+365+365+365+366+365+365)"
   ],
   "metadata": {
    "collapsed": false,
    "ExecuteTime": {
     "end_time": "2024-06-26T00:27:47.648736Z",
     "start_time": "2024-06-26T00:27:47.639255Z"
    }
   },
   "id": "4330c103c43ccb9a",
   "execution_count": 21
  },
  {
   "cell_type": "code",
   "outputs": [
    {
     "data": {
      "text/plain": "1206000.0"
     },
     "execution_count": 23,
     "metadata": {},
     "output_type": "execute_result"
    }
   ],
   "source": [
    "10000000 * 0.06 + (10000000 - 500000 + 10000000 * 0.06) * 0.06\n",
    "val = 0\n",
    "for i in range(20):\n",
    "    val += (10000000 + 100000) - 500000  \n",
    "    (10000000 - 500000 + 10000000 * 0.06) * 0.06"
   ],
   "metadata": {
    "collapsed": false,
    "ExecuteTime": {
     "end_time": "2024-06-26T00:31:11.815323Z",
     "start_time": "2024-06-26T00:31:11.807806Z"
    }
   },
   "id": "4a5cf94f661c33c8",
   "execution_count": 23
  },
  {
   "cell_type": "code",
   "outputs": [],
   "source": [],
   "metadata": {
    "collapsed": false
   },
   "id": "1f100b995e42aa1b"
  }
 ],
 "metadata": {
  "kernelspec": {
   "display_name": "Python 3",
   "language": "python",
   "name": "python3"
  },
  "language_info": {
   "codemirror_mode": {
    "name": "ipython",
    "version": 2
   },
   "file_extension": ".py",
   "mimetype": "text/x-python",
   "name": "python",
   "nbconvert_exporter": "python",
   "pygments_lexer": "ipython2",
   "version": "2.7.6"
  }
 },
 "nbformat": 4,
 "nbformat_minor": 5
}
