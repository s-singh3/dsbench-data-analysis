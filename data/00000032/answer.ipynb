{
 "cells": [
  {
   "cell_type": "code",
   "execution_count": 1,
   "id": "initial_id",
   "metadata": {
    "collapsed": true,
    "ExecuteTime": {
     "end_time": "2024-06-25T00:24:42.222163Z",
     "start_time": "2024-06-25T00:24:41.776847Z"
    }
   },
   "outputs": [],
   "source": [
    "import pandas as pd"
   ]
  },
  {
   "cell_type": "code",
   "outputs": [
    {
     "name": "stderr",
     "output_type": "stream",
     "text": [
      "/opt/anaconda3/envs/dsbench/lib/python3.8/site-packages/openpyxl/worksheet/_reader.py:329: UserWarning: Unknown extension is not supported and will be removed\n",
      "  warn(msg)\n"
     ]
    }
   ],
   "source": [
    "data = pd.read_excel(\"/Users/tencentintern/PycharmProjects/DSBench/modeloff/data/00000032/MO14-Round-1-Dealing-With-Data-Workbook.xlsx\", sheet_name=\"Usage\", header=None)"
   ],
   "metadata": {
    "collapsed": false,
    "ExecuteTime": {
     "end_time": "2024-06-25T00:27:00.503316Z",
     "start_time": "2024-06-25T00:27:00.199237Z"
    }
   },
   "id": "6e664a89ad0756d6",
   "execution_count": 4
  },
  {
   "cell_type": "code",
   "outputs": [
    {
     "data": {
      "text/plain": "Index([0], dtype='int64')"
     },
     "execution_count": 8,
     "metadata": {},
     "output_type": "execute_result"
    }
   ],
   "source": [
    "data.columns"
   ],
   "metadata": {
    "collapsed": false,
    "ExecuteTime": {
     "end_time": "2024-06-25T00:27:29.920374Z",
     "start_time": "2024-06-25T00:27:29.915847Z"
    }
   },
   "id": "9f2526a5f502fc3a",
   "execution_count": 8
  },
  {
   "cell_type": "code",
   "outputs": [],
   "source": [
    "usages = [us.replace('kwh','').strip().split(' ')[-1].split('___')[-1].split('__')[-1].split('_')[-1] for us in data[0]]\n",
    "usages = [float(item) for item in usages]"
   ],
   "metadata": {
    "collapsed": false,
    "ExecuteTime": {
     "end_time": "2024-06-25T00:34:06.937640Z",
     "start_time": "2024-06-25T00:34:06.932884Z"
    }
   },
   "id": "fcb1dbaf9091e5d2",
   "execution_count": 22
  },
  {
   "cell_type": "code",
   "outputs": [
    {
     "data": {
      "text/plain": "[15,\n 5,\n 20,\n 18,\n 1,\n 5,\n 12,\n 7,\n 8,\n 16,\n 16,\n 1,\n 0,\n 20,\n 3,\n 23,\n 19,\n 1,\n 20,\n 12,\n 11,\n 9,\n 13,\n 11,\n 22,\n 10,\n 12,\n 13,\n 23,\n 0,\n 0,\n 0,\n 16,\n 6,\n 22,\n 2,\n 22,\n 10,\n 16,\n 4,\n 20,\n 0,\n 1,\n 23,\n 12,\n 8,\n 18,\n 22,\n 8,\n 14,\n 6,\n 13,\n 21,\n 15,\n 21,\n 17,\n 13,\n 13,\n 23,\n 12,\n 23,\n 21,\n 3,\n 18,\n 2,\n 14,\n 23,\n 16,\n 3,\n 9,\n 0,\n 0,\n 4,\n 19,\n 18,\n 3,\n 11,\n 0,\n 23,\n 15,\n 18,\n 1,\n 23,\n 6,\n 20,\n 22,\n 10,\n 15,\n 16,\n 12,\n 3,\n 13,\n 1,\n 12,\n 18,\n 8,\n 1,\n 9,\n 2,\n 3,\n 18,\n 9,\n 4,\n 13,\n 8,\n 6,\n 3,\n 3,\n 11,\n 20,\n 14,\n 14,\n 5,\n 11,\n 5,\n 9,\n 16,\n 14,\n 19,\n 0,\n 5,\n 8,\n 2,\n 9,\n 11,\n 9,\n 14,\n 12,\n 10,\n 13,\n 3,\n 6,\n 4,\n 6,\n 13,\n 23,\n 19,\n 12,\n 22,\n 10,\n 6,\n 3,\n 5,\n 0,\n 21,\n 11,\n 19,\n 1,\n 0,\n 10,\n 19,\n 0,\n 2,\n 8,\n 11,\n 19,\n 20,\n 9,\n 14,\n 7,\n 12,\n 19,\n 16,\n 22,\n 7,\n 14,\n 14,\n 14,\n 13,\n 1,\n 3,\n 4,\n 16,\n 4,\n 7,\n 17,\n 8,\n 15,\n 2,\n 16,\n 13,\n 3,\n 18,\n 17,\n 9,\n 8,\n 14,\n 12,\n 21,\n 0,\n 19,\n 20,\n 22,\n 0,\n 4,\n 23,\n 7,\n 22,\n 8,\n 6,\n 3,\n 16,\n 18,\n 8,\n 10,\n 2,\n 18,\n 9,\n 5,\n 5,\n 1,\n 11,\n 17,\n 19,\n 3,\n 21,\n 14,\n 19,\n 9,\n 18,\n 6,\n 9,\n 4,\n 22,\n 9,\n 2,\n 14,\n 7,\n 8,\n 15,\n 12,\n 7,\n 18,\n 20,\n 5,\n 8,\n 16,\n 19,\n 3,\n 18,\n 0,\n 3,\n 9,\n 1,\n 4,\n 13,\n 9,\n 18,\n 12,\n 6,\n 7,\n 23,\n 9,\n 8,\n 12,\n 2,\n 20,\n 14,\n 8,\n 0,\n 21,\n 11,\n 8,\n 20,\n 7,\n 20,\n 1,\n 18,\n 13,\n 21,\n 15,\n 22,\n 14,\n 11,\n 10,\n 16,\n 2,\n 13,\n 0,\n 1,\n 2,\n 5,\n 11,\n 9,\n 5,\n 10,\n 14,\n 14,\n 10,\n 9,\n 17,\n 9,\n 10,\n 23,\n 2,\n 8,\n 23,\n 9,\n 18,\n 19,\n 4,\n 11,\n 9,\n 14,\n 11,\n 2,\n 11,\n 3,\n 8,\n 16,\n 11,\n 19,\n 15,\n 19,\n 19,\n 19,\n 9,\n 0,\n 22,\n 20,\n 8,\n 4,\n 7,\n 2,\n 7,\n 23,\n 1,\n 15,\n 20,\n 20,\n 21,\n 20,\n 22,\n 21,\n 13,\n 17,\n 18,\n 12,\n 12,\n 7,\n 20,\n 8,\n 0,\n 0,\n 14,\n 11,\n 18,\n 2,\n 14,\n 7,\n 20,\n 5,\n 22,\n 5,\n 11,\n 19,\n 13,\n 17,\n 15,\n 6,\n 11,\n 16,\n 10,\n 2,\n 22,\n 16,\n 21,\n 8,\n 10,\n 12,\n 1,\n 6,\n 4,\n 5,\n 5,\n 14,\n 4,\n 5,\n 7,\n 6,\n 13,\n 0,\n 15,\n 6,\n 10,\n 19,\n 23,\n 5,\n 14,\n 14,\n 4,\n 21,\n 0,\n 9,\n 17,\n 9,\n 8,\n 5,\n 23,\n 18,\n 0,\n 23,\n 15,\n 19,\n 23,\n 6,\n 14,\n 4,\n 10,\n 10,\n 21,\n 13,\n 9,\n 2,\n 10,\n 10,\n 3,\n 20,\n 17,\n 20,\n 11,\n 11,\n 3,\n 13,\n 20,\n 13,\n 17,\n 5,\n 2,\n 21,\n 13,\n 8,\n 21,\n 2,\n 19,\n 17,\n 4,\n 8,\n 8,\n 1,\n 2,\n 19,\n 0,\n 13,\n 19,\n 18,\n 8,\n 7,\n 10,\n 4,\n 17,\n 11,\n 3,\n 14,\n 20,\n 9,\n 23,\n 4,\n 18,\n 3,\n 15,\n 16,\n 10,\n 1,\n 3,\n 6,\n 7,\n 1,\n 12,\n 18,\n 11,\n 18,\n 5,\n 8,\n 17,\n 15,\n 10,\n 15,\n 18,\n 13,\n 4,\n 3,\n 6,\n 8,\n 4,\n 5,\n 20,\n 11,\n 6,\n 19,\n 12,\n 16,\n 19,\n 15,\n 12,\n 4,\n 21,\n 21,\n 16,\n 13,\n 16,\n 8,\n 1,\n 6,\n 13,\n 5,\n 8,\n 19,\n 18,\n 22,\n 1,\n 19,\n 9,\n 17,\n 9,\n 10,\n 15,\n 15,\n 6,\n 11,\n 17,\n 5,\n 20,\n 18,\n 16,\n 13,\n 5,\n 8,\n 8,\n 13,\n 22,\n 13,\n 2,\n 0,\n 2,\n 12,\n 0,\n 3,\n 15,\n 9,\n 23,\n 12,\n 22,\n 8,\n 3,\n 22,\n 22,\n 0,\n 4,\n 4,\n 20,\n 23,\n 14,\n 19,\n 4,\n 14,\n 1,\n 19,\n 11,\n 18,\n 14,\n 10,\n 15,\n 10,\n 12,\n 16,\n 8,\n 5,\n 20,\n 5,\n 5,\n 6,\n 23,\n 17,\n 19,\n 1,\n 20,\n 21,\n 12,\n 6,\n 22,\n 22,\n 22,\n 14,\n 2,\n 4,\n 8,\n 21,\n 21,\n 8,\n 1,\n 9,\n 5,\n 16,\n 2,\n 8,\n 22,\n 9,\n 4,\n 4,\n 21,\n 13,\n 18,\n 12,\n 12,\n 13,\n 14,\n 19,\n 15,\n 5,\n 22,\n 12,\n 14,\n 9,\n 3,\n 14,\n 4,\n 10,\n 12,\n 20,\n 9,\n 17,\n 22,\n 5,\n 14,\n 10,\n 8,\n 13,\n 21,\n 13,\n 5,\n 16,\n 19,\n 10,\n 15,\n 15,\n 11,\n 20,\n 4,\n 23,\n 19,\n 22,\n 16,\n 15,\n 1,\n 9,\n 7,\n 4,\n 14,\n 18,\n 5,\n 3,\n 16,\n 6,\n 7,\n 7,\n 0,\n 16,\n 20,\n 3,\n 19,\n 14,\n 0,\n 16,\n 4,\n 12,\n 4,\n 2,\n 3,\n 6,\n 18,\n 8,\n 13,\n 19,\n 5,\n 2,\n 23,\n 7,\n 18,\n 5,\n 17,\n 19,\n 11,\n 8,\n 10,\n 19,\n 3,\n 0,\n 13,\n 13,\n 9,\n 6,\n 16,\n 2,\n 4,\n 1,\n 10,\n 21,\n 14,\n 4,\n 3,\n 10,\n 1,\n 3,\n 7,\n 5,\n 6,\n 2,\n 6,\n 0,\n 7,\n 9,\n 6,\n 12,\n 2,\n 19,\n 2,\n 23,\n 20,\n 7,\n 1,\n 14,\n 23,\n 1,\n 20,\n 21,\n 8,\n 17,\n 7,\n 17,\n 16,\n 21,\n 21,\n 0,\n 10,\n 9,\n 12,\n 23,\n 20,\n 10,\n 23,\n 11,\n 18,\n 17,\n 6,\n 23,\n 10,\n 8,\n 17,\n 16,\n 18,\n 8,\n 16,\n 16,\n 7,\n 12,\n 14,\n 17,\n 12,\n 2,\n 3,\n 14,\n 4,\n 13,\n 22,\n 20,\n 6,\n 15,\n 14,\n 11,\n 20,\n 17,\n 18,\n 22,\n 11,\n 12,\n 21,\n 9,\n 4,\n 18,\n 4,\n 3,\n 21,\n 0,\n 21,\n 9,\n 12,\n 16,\n 14,\n 7,\n 5,\n 16,\n 14,\n 1,\n 21,\n 10,\n 19,\n 17,\n 9,\n 8,\n 21,\n 19,\n 13,\n 10,\n 20,\n 21,\n 13,\n 6,\n 21,\n 20,\n 12,\n 1,\n 13,\n 20,\n 3,\n 22,\n 22,\n 7,\n 19,\n 16,\n 11,\n 1,\n 5,\n 10,\n 7,\n 2,\n 3,\n 1,\n 12,\n 18,\n 10,\n 7,\n 5,\n 18,\n 22,\n 16,\n 12,\n 18,\n 23,\n 16,\n 22,\n 11,\n 13,\n 15,\n 3,\n 2,\n 2,\n 9,\n 10,\n 15,\n 11,\n 0,\n 19,\n 12,\n 4,\n 9,\n 21,\n 12,\n 12,\n 5,\n 10,\n 16,\n 1,\n 16,\n 14,\n 0,\n 15,\n 7,\n 6,\n 9,\n 14,\n 4,\n 4,\n 9,\n 22,\n 11,\n 7,\n 6,\n 2,\n 11,\n 17,\n 21,\n 11,\n 20,\n 11,\n 14,\n 0,\n 19,\n 15,\n 7,\n 18,\n 8,\n 1,\n 18,\n 11,\n 5,\n 7,\n 14,\n 16,\n 18,\n 13,\n 10,\n 12,\n 9,\n 14,\n 1,\n 0,\n 14,\n 14,\n 1,\n 22,\n 5,\n 4,\n 16,\n 9,\n 14,\n 20,\n 16,\n 13,\n 14,\n 18,\n 20,\n 7,\n 20,\n 15,\n 23,\n 15,\n 12,\n 9,\n 20,\n 10,\n 5,\n 6,\n 21,\n 7,\n 23,\n 6,\n 18,\n 6,\n 0,\n 12,\n 1,\n 2,\n 9,\n 4,\n 18,\n 20,\n 17,\n 19,\n 0,\n 3,\n 17,\n 18,\n 17,\n 16,\n 13,\n 8,\n 3,\n 10,\n 10,\n 5,\n 23,\n 6,\n 0,\n 19,\n 15,\n 19,\n 17,\n 3,\n 20,\n 23,\n 21,\n 13,\n 13,\n 18,\n 5,\n 16,\n 11,\n 3,\n 11,\n 8,\n 12,\n 18,\n 14,\n 4,\n 15,\n 18,\n 1,\n 5,\n 7,\n 9,\n 12,\n 15,\n 15,\n 7,\n 4,\n 21,\n 20,\n 11,\n 1,\n ...]"
     },
     "execution_count": 57,
     "metadata": {},
     "output_type": "execute_result"
    }
   ],
   "source": [
    "times =  [us.replace('kwh','').replace('___', ' ').replace('__', ' ').replace('_', ' ').strip().split()[:-1] for us in data[0]]\n",
    "# times\n",
    "# Function to convert 12-hour format to 24-hour format\n",
    "def convert_to_24hr(time_12hr):\n",
    "    # Check if the time is AM or PM\n",
    "    if 'am' in time_12hr.lower():\n",
    "        hour = int(time_12hr[:-2])\n",
    "        return hour if hour != 12 else 0  # Midnight case\n",
    "    else:\n",
    "        hour = int(time_12hr[:-2])\n",
    "        return hour + 12 if hour != 12 else 12  # Noon case\n",
    "\n",
    "\n",
    "\n",
    "days = [d[-1].replace(\"th\", '').replace(\"rd\", '').replace(\"nd\", '').replace(\"st\", '') for d in times]\n",
    "hours = [d[0] if 'am' in d[0].lower() or  'pm' in d[0].lower() else ''.join([d[0], d[1]])  for d in times]\n",
    "hours = [convert_to_24hr(d) for d in hours]\n",
    "\n",
    "hours"
   ],
   "metadata": {
    "collapsed": false,
    "ExecuteTime": {
     "end_time": "2024-06-25T02:46:29.946859Z",
     "start_time": "2024-06-25T02:46:29.909942Z"
    }
   },
   "id": "3dc54674cd310e15",
   "execution_count": 57
  },
  {
   "cell_type": "code",
   "outputs": [],
   "source": [
    "dicts = {\"days\": days, \"hours\": hours, \"usages\": usages}\n",
    "data_time = pd.DataFrame.from_dict(dicts)"
   ],
   "metadata": {
    "collapsed": false,
    "ExecuteTime": {
     "end_time": "2024-06-25T02:47:48.881974Z",
     "start_time": "2024-06-25T02:47:48.870807Z"
    }
   },
   "id": "7245baa1927ea9df",
   "execution_count": 58
  },
  {
   "cell_type": "code",
   "outputs": [
    {
     "data": {
      "text/plain": "             days  hours  usages\n0     24-Mar-2014     15   0.384\n1     15-Aug-2014      5   1.201\n2     20-Mar-2014     20   1.523\n3     23-Apr-2014     18   0.424\n4     19-Dec-2014      1   0.209\n...           ...    ...     ...\n8755  07-Nov-2014      1   0.084\n8756  20-May-2014      6   1.027\n8757   8-Apr-2014      2   0.052\n8758  27-Jan-2014     21   1.428\n8759  25-Aug-2014     12   0.528\n\n[8760 rows x 3 columns]",
      "text/html": "<div>\n<style scoped>\n    .dataframe tbody tr th:only-of-type {\n        vertical-align: middle;\n    }\n\n    .dataframe tbody tr th {\n        vertical-align: top;\n    }\n\n    .dataframe thead th {\n        text-align: right;\n    }\n</style>\n<table border=\"1\" class=\"dataframe\">\n  <thead>\n    <tr style=\"text-align: right;\">\n      <th></th>\n      <th>days</th>\n      <th>hours</th>\n      <th>usages</th>\n    </tr>\n  </thead>\n  <tbody>\n    <tr>\n      <th>0</th>\n      <td>24-Mar-2014</td>\n      <td>15</td>\n      <td>0.384</td>\n    </tr>\n    <tr>\n      <th>1</th>\n      <td>15-Aug-2014</td>\n      <td>5</td>\n      <td>1.201</td>\n    </tr>\n    <tr>\n      <th>2</th>\n      <td>20-Mar-2014</td>\n      <td>20</td>\n      <td>1.523</td>\n    </tr>\n    <tr>\n      <th>3</th>\n      <td>23-Apr-2014</td>\n      <td>18</td>\n      <td>0.424</td>\n    </tr>\n    <tr>\n      <th>4</th>\n      <td>19-Dec-2014</td>\n      <td>1</td>\n      <td>0.209</td>\n    </tr>\n    <tr>\n      <th>...</th>\n      <td>...</td>\n      <td>...</td>\n      <td>...</td>\n    </tr>\n    <tr>\n      <th>8755</th>\n      <td>07-Nov-2014</td>\n      <td>1</td>\n      <td>0.084</td>\n    </tr>\n    <tr>\n      <th>8756</th>\n      <td>20-May-2014</td>\n      <td>6</td>\n      <td>1.027</td>\n    </tr>\n    <tr>\n      <th>8757</th>\n      <td>8-Apr-2014</td>\n      <td>2</td>\n      <td>0.052</td>\n    </tr>\n    <tr>\n      <th>8758</th>\n      <td>27-Jan-2014</td>\n      <td>21</td>\n      <td>1.428</td>\n    </tr>\n    <tr>\n      <th>8759</th>\n      <td>25-Aug-2014</td>\n      <td>12</td>\n      <td>0.528</td>\n    </tr>\n  </tbody>\n</table>\n<p>8760 rows × 3 columns</p>\n</div>"
     },
     "execution_count": 59,
     "metadata": {},
     "output_type": "execute_result"
    }
   ],
   "source": [
    "data_time"
   ],
   "metadata": {
    "collapsed": false,
    "ExecuteTime": {
     "end_time": "2024-06-25T02:47:52.924560Z",
     "start_time": "2024-06-25T02:47:52.916505Z"
    }
   },
   "id": "1f85b9ad3f8eb6e2",
   "execution_count": 59
  },
  {
   "cell_type": "code",
   "outputs": [
    {
     "data": {
      "text/plain": "[0.384,\n 1.201,\n 1.523,\n 0.424,\n 0.209,\n 1.228,\n 1.296,\n 0.437,\n 0.523,\n 2.052,\n 0.509,\n 0.547,\n 0.845,\n 0.557,\n 0.283,\n 0.344,\n 2.948,\n 0.378,\n 0.963,\n 1.469,\n 1.017,\n 0.626,\n 0.547,\n 0.578,\n 0.392,\n 0.514,\n 0.147,\n 0.542,\n 0.89,\n 0.546,\n 0.1,\n 1.67,\n 0.269,\n 0.626,\n 0.203,\n 0.178,\n 0.231,\n 0.308,\n 0.33,\n 0.385,\n 1.67,\n 0.54,\n 0.15,\n 0.558,\n 0.552,\n 0.988,\n 2.912,\n 0.246,\n 0.272,\n 0.403,\n 0.245,\n 0.874,\n 0.672,\n 0.84,\n 0.326,\n 1.53,\n 0.432,\n 0.814,\n 0.618,\n 0.594,\n 0.264,\n 0.314,\n 0.185,\n 0.731,\n 0.4,\n 0.986,\n 0.464,\n 0.848,\n 0.228,\n 0.799,\n 0.245,\n 0.333,\n 0.384,\n 1.008,\n 0.624,\n 0.394,\n 0.289,\n 0.266,\n 0.612,\n 0.151,\n 1.165,\n 0.376,\n 1.164,\n 1.066,\n 2.304,\n 0.55,\n 0.655,\n 0.842,\n 0.998,\n 0.583,\n 0.38,\n 0.25,\n 0.22,\n 0.416,\n 2.462,\n 0.835,\n 0.576,\n 0.324,\n 0.348,\n 0.155,\n 0.445,\n 0.763,\n 0.23,\n 0.285,\n 0.192,\n 0.998,\n 0.209,\n 0.157,\n 0.578,\n 0.418,\n 0.59,\n 0.504,\n 2.574,\n 0.351,\n 0.924,\n 0.37,\n 0.144,\n 0.576,\n 0.562,\n 0.194,\n 1.386,\n 2.558,\n 0.158,\n 0.209,\n 0.252,\n 0.174,\n 0.728,\n 0.416,\n 0.431,\n 0.294,\n 0.122,\n 0.367,\n 0.154,\n 0.797,\n 0.223,\n 0.372,\n 0.778,\n 0.702,\n 0.412,\n 0.166,\n 1.166,\n 0.162,\n 0.601,\n 0.267,\n 0.785,\n 0.446,\n 4.277,\n 0.226,\n 0.396,\n 0.413,\n 4.277,\n 0.172,\n 0.152,\n 0.461,\n 0.93,\n 4.925,\n 0.538,\n 0.3,\n 2.189,\n 0.556,\n 0.372,\n 3.564,\n 0.269,\n 1.035,\n 2.909,\n 0.4,\n 0.672,\n 0.488,\n 0.317,\n 0.436,\n 0.806,\n 0.176,\n 0.288,\n 0.324,\n 2.354,\n 2.73,\n 0.24,\n 0.286,\n 0.204,\n 0.756,\n 0.304,\n 0.437,\n 3.494,\n 1.187,\n 0.864,\n 2.083,\n 0.514,\n 0.94,\n 0.113,\n 0.655,\n 0.689,\n 0.524,\n 0.288,\n 0.346,\n 0.061,\n 0.648,\n 0.216,\n 0.368,\n 0.108,\n 3.168,\n 0.32,\n 0.523,\n 0.662,\n 0.864,\n 1.133,\n 0.684,\n 3.492,\n 0.173,\n 0.212,\n 0.618,\n 0.233,\n 1.1,\n 1.009,\n 1.474,\n 0.155,\n 1.069,\n 0.307,\n 4.068,\n 0.109,\n 2.041,\n 2.225,\n 0.082,\n 0.186,\n 0.207,\n 1.49,\n 0.15,\n 1.824,\n 0.799,\n 2.574,\n 0.842,\n 0.348,\n 0.95,\n 1.21,\n 2.56,\n 0.149,\n 0.418,\n 0.121,\n 1.197,\n 0.084,\n 0.687,\n 0.36,\n 0.24,\n 0.437,\n 0.149,\n 0.283,\n 0.23,\n 0.637,\n 1.478,\n 0.432,\n 2.441,\n 1.44,\n 1.188,\n 0.4,\n 0.262,\n 0.147,\n 0.264,\n 0.986,\n 0.862,\n 0.349,\n 0.432,\n 0.311,\n 0.169,\n 0.912,\n 0.576,\n 0.542,\n 2.095,\n 0.255,\n 1.267,\n 0.583,\n 0.308,\n 0.176,\n 1.07,\n 1.92,\n 1.14,\n 0.677,\n 0.557,\n 0.211,\n 0.288,\n 0.283,\n 0.494,\n 0.444,\n 2.178,\n 0.403,\n 2.506,\n 1.379,\n 0.493,\n 0.712,\n 1.152,\n 0.466,\n 0.743,\n 0.874,\n 0.369,\n 1.037,\n 0.388,\n 0.098,\n 0.95,\n 0.546,\n 0.778,\n 2.948,\n 0.705,\n 0.486,\n 0.147,\n 0.552,\n 0.466,\n 0.634,\n 0.176,\n 1.11,\n 0.196,\n 0.449,\n 0.148,\n 0.792,\n 1.44,\n 1.156,\n 1.071,\n 1.184,\n 2.178,\n 0.238,\n 1.901,\n 0.212,\n 1.408,\n 0.112,\n 0.071,\n 1.8,\n 0.36,\n 0.47,\n 0.618,\n 0.058,\n 1.066,\n 1.44,\n 2.851,\n 0.528,\n 0.864,\n 0.452,\n 0.425,\n 0.437,\n 0.905,\n 3.797,\n 0.284,\n 0.346,\n 2.052,\n 4.531,\n 0.339,\n 0.189,\n 0.367,\n 0.47,\n 0.63,\n 1.224,\n 0.499,\n 0.387,\n 0.907,\n 1.216,\n 1.201,\n 0.399,\n 2.534,\n 0.54,\n 1.424,\n 0.358,\n 0.674,\n 0.605,\n 1.181,\n 0.98,\n 0.26,\n 0.662,\n 0.107,\n 0.612,\n 0.314,\n 0.301,\n 0.362,\n 0.523,\n 0.376,\n 0.509,\n 3.11,\n 0.178,\n 0.594,\n 0.363,\n 2.15,\n 0.162,\n 0.816,\n 0.432,\n 0.364,\n 0.285,\n 0.176,\n 0.456,\n 0.288,\n 0.274,\n 4.248,\n 0.96,\n 0.62,\n 0.826,\n 0.291,\n 0.142,\n 0.893,\n 0.092,\n 0.228,\n 1.879,\n 0.454,\n 0.85,\n 0.284,\n 1.356,\n 0.725,\n 0.374,\n 0.218,\n 2.16,\n 4.277,\n 1.404,\n 0.874,\n 0.096,\n 0.147,\n 0.619,\n 0.307,\n 0.433,\n 0.72,\n 0.636,\n 0.174,\n 0.193,\n 0.295,\n 0.451,\n 1.084,\n 2.036,\n 1.882,\n 0.353,\n 0.357,\n 0.139,\n 0.672,\n 0.867,\n 1.57,\n 0.998,\n 0.288,\n 0.582,\n 1.102,\n 0.235,\n 0.427,\n 0.49,\n 0.19,\n 2.484,\n 1.326,\n 0.446,\n 0.392,\n 2.457,\n 0.198,\n 0.242,\n 0.648,\n 0.749,\n 0.32,\n 1.109,\n 0.479,\n 0.138,\n 1.253,\n 0.103,\n 0.432,\n 0.284,\n 0.173,\n 0.086,\n 0.874,\n 1.813,\n 0.364,\n 0.141,\n 0.557,\n 4.838,\n 0.176,\n 0.278,\n 2.03,\n 0.614,\n 0.122,\n 0.286,\n 1.046,\n 1.214,\n 0.558,\n 0.336,\n 0.349,\n 0.47,\n 0.535,\n 0.411,\n 0.648,\n 1.134,\n 0.277,\n 0.72,\n 0.248,\n 4.277,\n 0.835,\n 0.403,\n 0.09,\n 0.48,\n 3.401,\n 0.666,\n 1.428,\n 1.166,\n 0.34,\n 2.472,\n 1.159,\n 0.17,\n 1.539,\n 2.059,\n 0.77,\n 0.34,\n 0.239,\n 0.785,\n 0.292,\n 0.394,\n 0.096,\n 0.301,\n 0.48,\n 0.147,\n 0.924,\n 0.936,\n 0.15,\n 2.668,\n 2.203,\n 0.974,\n 0.239,\n 0.342,\n 4.45,\n 0.708,\n 1.42,\n 1.53,\n 0.245,\n 0.459,\n 0.792,\n 3.053,\n 1.392,\n 3.151,\n 0.818,\n 0.979,\n 0.599,\n 0.59,\n 0.518,\n 0.739,\n 0.484,\n 0.302,\n 0.13,\n 0.51,\n 0.112,\n 0.252,\n 0.432,\n 0.152,\n 0.388,\n 0.599,\n 0.202,\n 1.766,\n 0.286,\n 1.032,\n 1.071,\n 0.552,\n 0.2,\n 0.383,\n 0.236,\n 0.642,\n 0.708,\n 0.542,\n 0.077,\n 1.395,\n 0.84,\n 0.257,\n 1.879,\n 0.389,\n 0.352,\n 0.407,\n 0.948,\n 0.644,\n 0.952,\n 0.73,\n 1.274,\n 1.148,\n 0.381,\n 1.627,\n 2.57,\n 0.893,\n 1.663,\n 1.094,\n 1.077,\n 0.281,\n 1.32,\n 0.72,\n 1.944,\n 0.907,\n 0.101,\n 3.955,\n 0.713,\n 0.336,\n 1.555,\n 0.954,\n 0.137,\n 0.291,\n 0.941,\n 0.057,\n 0.252,\n 1.094,\n 0.323,\n 0.333,\n 1.373,\n 0.25,\n 0.25,\n 1.399,\n 0.634,\n 0.059,\n 0.262,\n 0.51,\n 0.286,\n 0.213,\n 0.124,\n 1.152,\n 0.115,\n 0.68,\n 1.32,\n 0.159,\n 0.096,\n 0.427,\n 0.481,\n 0.533,\n 0.074,\n 0.494,\n 0.255,\n 0.384,\n 0.182,\n 0.632,\n 0.257,\n 0.146,\n 0.704,\n 0.828,\n 3.232,\n 0.373,\n 1.607,\n 0.8,\n 0.228,\n 0.599,\n 0.365,\n 1.037,\n 0.151,\n 1.428,\n 0.34,\n 0.264,\n 0.269,\n 2.57,\n 0.252,\n 0.381,\n 0.481,\n 0.93,\n 1.67,\n 0.123,\n 0.404,\n 2.039,\n 0.983,\n 0.146,\n 0.189,\n 0.346,\n 0.107,\n 2.592,\n 0.078,\n 0.2,\n 0.403,\n 0.583,\n 0.123,\n 0.886,\n 0.346,\n 0.918,\n 3.168,\n 0.364,\n 0.59,\n 2.88,\n 0.327,\n 1.382,\n 0.576,\n 0.614,\n 0.212,\n 0.116,\n 0.554,\n 0.132,\n 0.254,\n 0.049,\n 2.472,\n 3.596,\n 0.185,\n 0.48,\n 1.238,\n 1.056,\n 0.134,\n 1.09,\n 1.079,\n 1.378,\n 0.801,\n 0.648,\n 1.242,\n 0.57,\n 1.244,\n 0.778,\n 1.714,\n 0.23,\n 0.857,\n 0.378,\n 0.792,\n 0.504,\n 0.966,\n 0.262,\n 0.144,\n 0.259,\n 0.857,\n 0.48,\n 0.124,\n 0.339,\n 0.048,\n 0.583,\n 0.358,\n 0.17,\n 0.208,\n 1.539,\n 1.003,\n 0.806,\n 0.189,\n 0.768,\n 0.078,\n 0.85,\n 0.534,\n 0.432,\n 0.23,\n 0.456,\n 0.481,\n 0.153,\n 0.801,\n 2.88,\n 1.134,\n 0.424,\n 0.378,\n 0.96,\n 0.185,\n 1.44,\n 0.148,\n 0.277,\n 2.73,\n 3.37,\n 0.406,\n 0.106,\n 0.485,\n 0.271,\n 0.696,\n 0.294,\n 0.117,\n 1.1,\n 0.273,\n 1.997,\n 1.188,\n 0.81,\n 0.403,\n 1.932,\n 1.187,\n 0.353,\n 0.384,\n 0.142,\n 0.819,\n 2.87,\n 0.494,\n 1.747,\n 0.785,\n 0.538,\n 0.132,\n 0.58,\n 0.282,\n 0.576,\n 0.998,\n 0.15,\n 0.12,\n 0.288,\n 0.808,\n 0.053,\n 0.835,\n 1.442,\n 2.131,\n 0.544,\n 0.481,\n 0.484,\n 0.332,\n 0.883,\n 1.02,\n 1.224,\n 0.648,\n 0.196,\n 0.498,\n 0.157,\n 0.204,\n 0.08,\n 3.058,\n 0.191,\n 0.142,\n 0.85,\n 0.36,\n 0.828,\n 0.552,\n 0.698,\n 0.132,\n 0.32,\n 1.494,\n 0.242,\n 1.145,\n 0.102,\n 0.136,\n 0.308,\n 0.298,\n 1.026,\n 0.734,\n 0.214,\n 0.542,\n 0.518,\n 1.598,\n 0.103,\n 0.114,\n 1.357,\n 0.605,\n 0.941,\n 0.324,\n 1.116,\n 2.592,\n 1.123,\n 0.164,\n 0.342,\n 0.572,\n 0.421,\n 0.9,\n 0.476,\n 0.486,\n 2.419,\n 0.132,\n 0.345,\n 0.144,\n 2.482,\n 1.018,\n 0.816,\n 0.158,\n 0.418,\n 0.233,\n 0.616,\n 3.662,\n 0.166,\n 0.356,\n 1.012,\n 3.461,\n 0.336,\n 0.108,\n 0.446,\n 1.008,\n 1.035,\n 0.494,\n 1.63,\n 0.179,\n 0.302,\n 1.04,\n 0.057,\n 0.138,\n 0.403,\n 0.1,\n 0.206,\n 0.314,\n 0.315,\n 0.299,\n 1.555,\n 0.655,\n 0.328,\n 0.535,\n 0.972,\n 0.638,\n 0.8,\n 0.189,\n 0.304,\n 0.749,\n 0.485,\n 1.717,\n 0.294,\n 0.257,\n 0.355,\n 1.274,\n 2.678,\n 0.295,\n 0.199,\n 0.432,\n 0.24,\n 0.097,\n 1.392,\n 0.368,\n 1.555,\n 1.254,\n 0.49,\n 1.068,\n 1.559,\n 0.148,\n 0.286,\n 1.685,\n 0.303,\n 0.662,\n 2.17,\n 1.881,\n 0.96,\n 1.944,\n 1.098,\n 0.227,\n 0.514,\n 2.016,\n 1.428,\n 0.4,\n 0.991,\n 0.418,\n 1.685,\n 2.548,\n 0.648,\n 0.297,\n 0.662,\n 0.324,\n 0.316,\n 0.36,\n 0.278,\n 0.198,\n 0.824,\n 0.119,\n 1.2,\n 0.3,\n 0.388,\n 0.749,\n 0.634,\n 1.238,\n 1.101,\n 0.792,\n 0.502,\n 0.95,\n 2.052,\n 4.416,\n 0.828,\n 1.344,\n 0.317,\n 0.288,\n 1.133,\n 0.378,\n 0.396,\n 1.085,\n 0.365,\n 1.148,\n 2.856,\n 0.466,\n 2.142,\n 1.21,\n 0.991,\n 1.322,\n 0.252,\n 0.577,\n 0.618,\n 0.36,\n 0.15,\n 1.831,\n 0.31,\n 1.058,\n 3.492,\n 2.293,\n 1.282,\n 0.502,\n 0.307,\n 0.946,\n 3.091,\n 1.083,\n 0.572,\n 0.509,\n 0.358,\n 0.147,\n 1.224,\n 1.382,\n 0.632,\n 1.116,\n 0.773,\n 0.556,\n 1.512,\n 0.162,\n 2.592,\n 1.771,\n 0.189,\n 2.938,\n 0.523,\n 0.95,\n 0.271,\n 0.197,\n 1.445,\n 1.125,\n 0.189,\n 1.428,\n 0.161,\n 0.158,\n 0.547,\n 0.326,\n 3.73,\n 0.864,\n 0.157,\n 0.47,\n 2.311,\n 0.11,\n 0.185,\n 0.605,\n 0.286,\n 0.364,\n 0.828,\n 1.409,\n 1.895,\n 0.191,\n 0.335,\n 1.187,\n 0.416,\n 0.103,\n ...]"
     },
     "execution_count": 23,
     "metadata": {},
     "output_type": "execute_result"
    }
   ],
   "source": [
    "usages"
   ],
   "metadata": {
    "collapsed": false,
    "ExecuteTime": {
     "end_time": "2024-06-25T00:34:07.210839Z",
     "start_time": "2024-06-25T00:34:07.201709Z"
    }
   },
   "id": "21fcaf0ee2ed92fe",
   "execution_count": 23
  },
  {
   "cell_type": "code",
   "outputs": [
    {
     "name": "stdout",
     "output_type": "stream",
     "text": [
      "0.7818779680365244\n"
     ]
    }
   ],
   "source": [
    "print(sum(usages)/len(usages))"
   ],
   "metadata": {
    "collapsed": false,
    "ExecuteTime": {
     "end_time": "2024-06-25T00:34:25.745680Z",
     "start_time": "2024-06-25T00:34:25.739421Z"
    }
   },
   "id": "662d83f4e27f65dc",
   "execution_count": 24
  },
  {
   "cell_type": "code",
   "outputs": [],
   "source": [
    "## Question 1 b"
   ],
   "metadata": {
    "collapsed": false,
    "ExecuteTime": {
     "end_time": "2024-06-25T00:34:46.212256Z",
     "start_time": "2024-06-25T00:34:46.205628Z"
    }
   },
   "id": "c0948874140b20e8",
   "execution_count": 25
  },
  {
   "cell_type": "code",
   "outputs": [
    {
     "name": "stdout",
     "output_type": "stream",
     "text": [
      "0.8329151785714302\n"
     ]
    }
   ],
   "source": [
    "## Q2 d\n",
    "feb_vale = []\n",
    "for id, value in enumerate(data[0]):\n",
    "    if \"feb\" in value.lower():\n",
    "        feb_vale.append(usages[id])\n",
    "print(sum(feb_vale)/len(feb_vale))"
   ],
   "metadata": {
    "collapsed": false,
    "ExecuteTime": {
     "end_time": "2024-06-25T00:37:17.288049Z",
     "start_time": "2024-06-25T00:37:17.275053Z"
    }
   },
   "id": "c3e4fb0436510ce2",
   "execution_count": 26
  },
  {
   "cell_type": "code",
   "outputs": [
    {
     "name": "stdout",
     "output_type": "stream",
     "text": [
      "8760\n",
      "8760\n"
     ]
    }
   ],
   "source": [
    "print(len(usages))\n",
    "print(len(data[0]))"
   ],
   "metadata": {
    "collapsed": false,
    "ExecuteTime": {
     "end_time": "2024-06-25T00:41:48.702399Z",
     "start_time": "2024-06-25T00:41:48.697245Z"
    }
   },
   "id": "fdae8dc03866926c",
   "execution_count": 28
  },
  {
   "cell_type": "code",
   "outputs": [
    {
     "name": "stdout",
     "output_type": "stream",
     "text": [
      "0           3 PM  Mon 24th-Mar-2014___0.384 kwh  \n",
      "1                  5AM  15-Aug-2014___1.201  kwh \n",
      "2            __8PM Thu 20-Mar-2014____1.523 kwh  \n",
      "3                 6PM  23rd-Apr-2014___0.424  kwh\n",
      "4       _1AM  Friday 19th-Dec-2014___0.209  kwh  \n",
      "                          ...                    \n",
      "8755           _1AM  Fri 07th-Nov-2014_0.084 kwh \n",
      "8756                  _6AM 20-May-2014__1.027 kwh\n",
      "8757     __2 AM  Tuesday 8th-Apr-2014___0.052 kwh\n",
      "8758              9 PM 27th-Jan-2014_1.428  kwh  \n",
      "8759            _12 PM 25th-Aug-2014_0.528  kwh  \n",
      "Name: 0, Length: 8760, dtype: object\n"
     ]
    }
   ],
   "source": [
    "print(data[0])"
   ],
   "metadata": {
    "collapsed": false,
    "ExecuteTime": {
     "end_time": "2024-06-25T00:44:17.171043Z",
     "start_time": "2024-06-25T00:44:17.167230Z"
    }
   },
   "id": "6b1d446ab83055b5",
   "execution_count": 31
  },
  {
   "cell_type": "code",
   "outputs": [
    {
     "name": "stdout",
     "output_type": "stream",
     "text": [
      "8263        1 AM   28th-Aug-2014__0.228  kwh \n",
      "2766       1 AM   30th-Sep-2014____0.125kwh  \n",
      "326       1 AM   Mon 28-Apr-2014____0.058kwh \n",
      "5584          1 AM  19th-Oct-2014_0.153  kwh \n",
      "3814         1 AM  20-Apr-2014____0.086 kwh  \n",
      "                        ...                  \n",
      "54                __9PM 31-May-2014_0.326 kwh\n",
      "3671      __9PM Fri 4-Jul-2014___1.104  kwh  \n",
      "808       __9PM Sun 26th-Jan-2014___1.116 kwh\n",
      "3679     __9PM Wed 24-Dec-2014___0.673  kwh  \n",
      "1456    __9PM Wednesday 29-Oct-2014__0.40kwh \n",
      "Name: 0, Length: 8760, dtype: object\n"
     ]
    }
   ],
   "source": [
    "print(data[0].sort_values())"
   ],
   "metadata": {
    "collapsed": false,
    "ExecuteTime": {
     "end_time": "2024-06-25T00:44:55.393Z",
     "start_time": "2024-06-25T00:44:55.384530Z"
    }
   },
   "id": "2f108e8f92fd521b",
   "execution_count": 33
  },
  {
   "cell_type": "code",
   "outputs": [
    {
     "name": "stdout",
     "output_type": "stream",
     "text": [
      "8263        1 AM   28th-Aug-2014__0.228  kwh \n",
      "2766       1 AM   30th-Sep-2014____0.125kwh  \n",
      "326       1 AM   Mon 28-Apr-2014____0.058kwh \n",
      "5584          1 AM  19th-Oct-2014_0.153  kwh \n",
      "3814         1 AM  20-Apr-2014____0.086 kwh  \n",
      "                        ...                  \n",
      "54                __9PM 31-May-2014_0.326 kwh\n",
      "3671      __9PM Fri 4-Jul-2014___1.104  kwh  \n",
      "808       __9PM Sun 26th-Jan-2014___1.116 kwh\n",
      "3679     __9PM Wed 24-Dec-2014___0.673  kwh  \n",
      "1456    __9PM Wednesday 29-Oct-2014__0.40kwh \n",
      "Name: 0, Length: 8760, dtype: object\n",
      "0.7405227629513347\n",
      "0.7088591117917311\n",
      "0.7557595541401279\n",
      "0.7852262090483629\n",
      "0.7374485407066065\n",
      "0.8919824840764341\n",
      "0.8895797101449271\n"
     ]
    }
   ],
   "source": [
    "## Q3 a\n",
    "mon = []\n",
    "tue = []\n",
    "wed = []\n",
    "thr = []\n",
    "fri = []\n",
    "sat = []\n",
    "sun = []\n",
    "for id, value in enumerate(data[0]):\n",
    "    if \"mon\" in value.lower():\n",
    "        mon.append(usages[id])\n",
    "    if \"tue\" in value.lower():\n",
    "        tue.append(usages[id])\n",
    "    \n",
    "    if \"wed\" in value.lower():\n",
    "        wed.append(usages[id])\n",
    "        \n",
    "    if \"thu\" in value.lower():\n",
    "        thr.append(usages[id])\n",
    "    if \"fri\" in value.lower():\n",
    "        fri.append(usages[id])\n",
    "    if \"sun\" in value.lower():\n",
    "        sun.append(usages[id])\n",
    "    if \"sat\" in value.lower():\n",
    "        sat.append(usages[id])\n",
    "    \n",
    "print(sum(mon)/len(mon))\n",
    "print(sum(tue)/len(tue))\n",
    "print(sum(wed)/len(wed))\n",
    "print(sum(thr)/len(thr))\n",
    "print(sum(fri)/len(fri))\n",
    "print(sum(sat)/len(sat))\n",
    "print(sum(sun)/len(sun))"
   ],
   "metadata": {
    "collapsed": false,
    "ExecuteTime": {
     "end_time": "2024-06-25T00:44:36.244317Z",
     "start_time": "2024-06-25T00:44:36.199096Z"
    }
   },
   "id": "691bcdec2468b38",
   "execution_count": 32
  },
  {
   "cell_type": "code",
   "outputs": [
    {
     "data": {
      "text/plain": "           days  hours  usages\n0    2014-03-24     15   0.384\n1    2014-08-15      5   1.201\n2    2014-03-20     20   1.523\n3    2014-04-23     18   0.424\n4    2014-12-19      1   0.209\n...         ...    ...     ...\n8755 2014-11-07      1   0.084\n8756 2014-05-20      6   1.027\n8757 2014-04-08      2   0.052\n8758 2014-01-27     21   1.428\n8759 2014-08-25     12   0.528\n\n[8760 rows x 3 columns]",
      "text/html": "<div>\n<style scoped>\n    .dataframe tbody tr th:only-of-type {\n        vertical-align: middle;\n    }\n\n    .dataframe tbody tr th {\n        vertical-align: top;\n    }\n\n    .dataframe thead th {\n        text-align: right;\n    }\n</style>\n<table border=\"1\" class=\"dataframe\">\n  <thead>\n    <tr style=\"text-align: right;\">\n      <th></th>\n      <th>days</th>\n      <th>hours</th>\n      <th>usages</th>\n    </tr>\n  </thead>\n  <tbody>\n    <tr>\n      <th>0</th>\n      <td>2014-03-24</td>\n      <td>15</td>\n      <td>0.384</td>\n    </tr>\n    <tr>\n      <th>1</th>\n      <td>2014-08-15</td>\n      <td>5</td>\n      <td>1.201</td>\n    </tr>\n    <tr>\n      <th>2</th>\n      <td>2014-03-20</td>\n      <td>20</td>\n      <td>1.523</td>\n    </tr>\n    <tr>\n      <th>3</th>\n      <td>2014-04-23</td>\n      <td>18</td>\n      <td>0.424</td>\n    </tr>\n    <tr>\n      <th>4</th>\n      <td>2014-12-19</td>\n      <td>1</td>\n      <td>0.209</td>\n    </tr>\n    <tr>\n      <th>...</th>\n      <td>...</td>\n      <td>...</td>\n      <td>...</td>\n    </tr>\n    <tr>\n      <th>8755</th>\n      <td>2014-11-07</td>\n      <td>1</td>\n      <td>0.084</td>\n    </tr>\n    <tr>\n      <th>8756</th>\n      <td>2014-05-20</td>\n      <td>6</td>\n      <td>1.027</td>\n    </tr>\n    <tr>\n      <th>8757</th>\n      <td>2014-04-08</td>\n      <td>2</td>\n      <td>0.052</td>\n    </tr>\n    <tr>\n      <th>8758</th>\n      <td>2014-01-27</td>\n      <td>21</td>\n      <td>1.428</td>\n    </tr>\n    <tr>\n      <th>8759</th>\n      <td>2014-08-25</td>\n      <td>12</td>\n      <td>0.528</td>\n    </tr>\n  </tbody>\n</table>\n<p>8760 rows × 3 columns</p>\n</div>"
     },
     "execution_count": 60,
     "metadata": {},
     "output_type": "execute_result"
    }
   ],
   "source": [
    "data_time['days'] = pd.to_datetime(data_time['days'])\n",
    "data_time\n"
   ],
   "metadata": {
    "collapsed": false,
    "ExecuteTime": {
     "end_time": "2024-06-25T02:49:48.272443Z",
     "start_time": "2024-06-25T02:49:48.259903Z"
    }
   },
   "id": "69b4c9cb68870e24",
   "execution_count": 60
  },
  {
   "cell_type": "code",
   "outputs": [
    {
     "data": {
      "text/plain": "           days  hours  usages\n8425 2014-01-01      0   0.684\n6316 2014-01-01      1   0.340\n5068 2014-01-01      2   0.332\n4106 2014-01-01      3   0.396\n3239 2014-01-01      4   0.388\n1815 2014-01-01      5   2.354\n1472 2014-01-01      6   2.304\n8132 2014-01-01      7   1.530\n6515 2014-01-01      8   0.656\n4694 2014-01-01      9   0.510\n5987 2014-01-01     10   0.952\n4591 2014-01-01     11   0.830\n858  2014-01-01     12   0.800\n6425 2014-01-01     13   0.784\n1035 2014-01-01     14   0.872\n6216 2014-01-01     15   0.720\n8657 2014-01-01     16   0.936\n8142 2014-01-01     17   2.548\n4837 2014-01-01     18   2.856\n3458 2014-01-01     19   4.248\n8745 2014-01-01     20   3.200\n1214 2014-01-01     21   1.404\n3523 2014-01-01     22   1.200\n6633 2014-01-01     23   1.130\n5487 2014-01-02      0   0.690\n1884 2014-01-02      1   0.472\n98   2014-01-02      2   0.348\n6468 2014-01-02      3   0.464\n3209 2014-01-02      4   0.456\n8575 2014-01-02      5   1.892",
      "text/html": "<div>\n<style scoped>\n    .dataframe tbody tr th:only-of-type {\n        vertical-align: middle;\n    }\n\n    .dataframe tbody tr th {\n        vertical-align: top;\n    }\n\n    .dataframe thead th {\n        text-align: right;\n    }\n</style>\n<table border=\"1\" class=\"dataframe\">\n  <thead>\n    <tr style=\"text-align: right;\">\n      <th></th>\n      <th>days</th>\n      <th>hours</th>\n      <th>usages</th>\n    </tr>\n  </thead>\n  <tbody>\n    <tr>\n      <th>8425</th>\n      <td>2014-01-01</td>\n      <td>0</td>\n      <td>0.684</td>\n    </tr>\n    <tr>\n      <th>6316</th>\n      <td>2014-01-01</td>\n      <td>1</td>\n      <td>0.340</td>\n    </tr>\n    <tr>\n      <th>5068</th>\n      <td>2014-01-01</td>\n      <td>2</td>\n      <td>0.332</td>\n    </tr>\n    <tr>\n      <th>4106</th>\n      <td>2014-01-01</td>\n      <td>3</td>\n      <td>0.396</td>\n    </tr>\n    <tr>\n      <th>3239</th>\n      <td>2014-01-01</td>\n      <td>4</td>\n      <td>0.388</td>\n    </tr>\n    <tr>\n      <th>1815</th>\n      <td>2014-01-01</td>\n      <td>5</td>\n      <td>2.354</td>\n    </tr>\n    <tr>\n      <th>1472</th>\n      <td>2014-01-01</td>\n      <td>6</td>\n      <td>2.304</td>\n    </tr>\n    <tr>\n      <th>8132</th>\n      <td>2014-01-01</td>\n      <td>7</td>\n      <td>1.530</td>\n    </tr>\n    <tr>\n      <th>6515</th>\n      <td>2014-01-01</td>\n      <td>8</td>\n      <td>0.656</td>\n    </tr>\n    <tr>\n      <th>4694</th>\n      <td>2014-01-01</td>\n      <td>9</td>\n      <td>0.510</td>\n    </tr>\n    <tr>\n      <th>5987</th>\n      <td>2014-01-01</td>\n      <td>10</td>\n      <td>0.952</td>\n    </tr>\n    <tr>\n      <th>4591</th>\n      <td>2014-01-01</td>\n      <td>11</td>\n      <td>0.830</td>\n    </tr>\n    <tr>\n      <th>858</th>\n      <td>2014-01-01</td>\n      <td>12</td>\n      <td>0.800</td>\n    </tr>\n    <tr>\n      <th>6425</th>\n      <td>2014-01-01</td>\n      <td>13</td>\n      <td>0.784</td>\n    </tr>\n    <tr>\n      <th>1035</th>\n      <td>2014-01-01</td>\n      <td>14</td>\n      <td>0.872</td>\n    </tr>\n    <tr>\n      <th>6216</th>\n      <td>2014-01-01</td>\n      <td>15</td>\n      <td>0.720</td>\n    </tr>\n    <tr>\n      <th>8657</th>\n      <td>2014-01-01</td>\n      <td>16</td>\n      <td>0.936</td>\n    </tr>\n    <tr>\n      <th>8142</th>\n      <td>2014-01-01</td>\n      <td>17</td>\n      <td>2.548</td>\n    </tr>\n    <tr>\n      <th>4837</th>\n      <td>2014-01-01</td>\n      <td>18</td>\n      <td>2.856</td>\n    </tr>\n    <tr>\n      <th>3458</th>\n      <td>2014-01-01</td>\n      <td>19</td>\n      <td>4.248</td>\n    </tr>\n    <tr>\n      <th>8745</th>\n      <td>2014-01-01</td>\n      <td>20</td>\n      <td>3.200</td>\n    </tr>\n    <tr>\n      <th>1214</th>\n      <td>2014-01-01</td>\n      <td>21</td>\n      <td>1.404</td>\n    </tr>\n    <tr>\n      <th>3523</th>\n      <td>2014-01-01</td>\n      <td>22</td>\n      <td>1.200</td>\n    </tr>\n    <tr>\n      <th>6633</th>\n      <td>2014-01-01</td>\n      <td>23</td>\n      <td>1.130</td>\n    </tr>\n    <tr>\n      <th>5487</th>\n      <td>2014-01-02</td>\n      <td>0</td>\n      <td>0.690</td>\n    </tr>\n    <tr>\n      <th>1884</th>\n      <td>2014-01-02</td>\n      <td>1</td>\n      <td>0.472</td>\n    </tr>\n    <tr>\n      <th>98</th>\n      <td>2014-01-02</td>\n      <td>2</td>\n      <td>0.348</td>\n    </tr>\n    <tr>\n      <th>6468</th>\n      <td>2014-01-02</td>\n      <td>3</td>\n      <td>0.464</td>\n    </tr>\n    <tr>\n      <th>3209</th>\n      <td>2014-01-02</td>\n      <td>4</td>\n      <td>0.456</td>\n    </tr>\n    <tr>\n      <th>8575</th>\n      <td>2014-01-02</td>\n      <td>5</td>\n      <td>1.892</td>\n    </tr>\n  </tbody>\n</table>\n</div>"
     },
     "execution_count": 62,
     "metadata": {},
     "output_type": "execute_result"
    }
   ],
   "source": [
    "df_sorted = data_time.sort_values(by=['days', 'hours'])\n",
    "df_sorted[:30]"
   ],
   "metadata": {
    "collapsed": false,
    "ExecuteTime": {
     "end_time": "2024-06-25T02:50:23.685642Z",
     "start_time": "2024-06-25T02:50:23.653075Z"
    }
   },
   "id": "34af1b4f6421db7f",
   "execution_count": 62
  },
  {
   "cell_type": "code",
   "outputs": [
    {
     "name": "stdout",
     "output_type": "stream",
     "text": [
      "17.237000000000002\n"
     ]
    }
   ],
   "source": [
    "amouts = []\n",
    "for i in range(0, len(df_sorted['usages'])-3):\n",
    "    amouts.append(sum(df_sorted['usages'][i:i+4]))\n",
    "print(max(amouts))"
   ],
   "metadata": {
    "collapsed": false,
    "ExecuteTime": {
     "end_time": "2024-06-25T02:52:07.230373Z",
     "start_time": "2024-06-25T02:52:05.952068Z"
    }
   },
   "id": "2a021b4d72a83d43",
   "execution_count": 63
  },
  {
   "cell_type": "code",
   "outputs": [],
   "source": [
    "##q4 a"
   ],
   "metadata": {
    "collapsed": false
   },
   "id": "f2071a4d94b32ed2"
  },
  {
   "cell_type": "code",
   "outputs": [
    {
     "data": {
      "text/plain": "days\n2014-01    1042.660\n2014-02     559.719\n2014-03     420.748\n2014-04     151.242\n2014-05     417.157\n2014-06     904.247\n2014-07    1255.524\n2014-08     633.390\n2014-09     349.686\n2014-10     313.719\n2014-11     232.420\n2014-12     568.739\nFreq: M, Name: usages, dtype: float64"
     },
     "execution_count": 68,
     "metadata": {},
     "output_type": "execute_result"
    }
   ],
   "source": [
    "monthly_usages_sum = df_sorted.groupby(df_sorted['days'].dt.to_period(\"M\"))['usages'].sum()\n",
    "len(monthly_usages_sum)\n",
    "monthly_usages_sum"
   ],
   "metadata": {
    "collapsed": false,
    "ExecuteTime": {
     "end_time": "2024-06-25T02:57:41.740869Z",
     "start_time": "2024-06-25T02:57:41.731644Z"
    }
   },
   "id": "8cfa8251fcfe51b6",
   "execution_count": 68
  },
  {
   "cell_type": "code",
   "outputs": [
    {
     "data": {
      "text/plain": "1042.66"
     },
     "execution_count": 73,
     "metadata": {},
     "output_type": "execute_result"
    }
   ],
   "source": [
    "monthly_usages_sum[0]"
   ],
   "metadata": {
    "collapsed": false,
    "ExecuteTime": {
     "end_time": "2024-06-25T02:58:59.189604Z",
     "start_time": "2024-06-25T02:58:59.105439Z"
    }
   },
   "id": "3dca6ae4c0c00d1e",
   "execution_count": 73
  },
  {
   "cell_type": "code",
   "outputs": [
    {
     "data": {
      "text/plain": "1421.82096"
     },
     "execution_count": 74,
     "metadata": {},
     "output_type": "execute_result"
    }
   ],
   "source": [
    "(0.2*monthly_usages_sum[0] + 0.19 * monthly_usages_sum[1] + 0.17 * monthly_usages_sum[2] + 0.18 * monthly_usages_sum[3] + 0.22 * monthly_usages_sum[4] + 0.27 * monthly_usages_sum[5] + 0.24 * monthly_usages_sum[6] + 0.19 * monthly_usages_sum[7] + 0.18 * monthly_usages_sum[8] + 0.15 * monthly_usages_sum[9] + 0.14 * monthly_usages_sum[10] + 0.19 * monthly_usages_sum[11])"
   ],
   "metadata": {
    "collapsed": false,
    "ExecuteTime": {
     "end_time": "2024-06-25T02:59:16.926069Z",
     "start_time": "2024-06-25T02:59:16.920051Z"
    }
   },
   "id": "b2e94482f64cc3bc",
   "execution_count": 74
  },
  {
   "cell_type": "code",
   "outputs": [],
   "source": [
    "### Q5 b"
   ],
   "metadata": {
    "collapsed": false
   },
   "id": "d82ac23fbbfd7e39"
  },
  {
   "cell_type": "code",
   "outputs": [
    {
     "data": {
      "text/plain": "(1369.36063,\n            days  hours  usages  price_per_kWh  total_cost\n 8425 2014-01-01      0   0.684           0.10     0.06840\n 6316 2014-01-01      1   0.340           0.10     0.03400\n 5068 2014-01-01      2   0.332           0.10     0.03320\n 4106 2014-01-01      3   0.396           0.10     0.03960\n 3239 2014-01-01      4   0.388           0.15     0.05820\n ...         ...    ...     ...            ...         ...\n 7408 2014-12-31     19   1.940           0.24     0.46560\n 7959 2014-12-31     20   1.901           0.12     0.22812\n 7703 2014-12-31     21   0.766           0.11     0.08426\n 1860 2014-12-31     22   0.633           0.10     0.06330\n 3865 2014-12-31     23   0.600           0.10     0.06000\n \n [8760 rows x 5 columns])"
     },
     "execution_count": 75,
     "metadata": {},
     "output_type": "execute_result"
    }
   ],
   "source": [
    "hourly_prices = {\n",
    "    0: 0.10, 1: 0.10, 2: 0.10, 3: 0.10, 4: 0.15, 5: 0.20,\n",
    "    6: 0.24, 7: 0.24, 8: 0.26, 9: 0.20, 10: 0.20, 11: 0.26,\n",
    "    12: 0.26, 13: 0.20, 14: 0.24, 15: 0.18, 16: 0.15, 17: 0.30,\n",
    "    18: 0.24, 19: 0.24, 20: 0.12, 21: 0.11, 22: 0.10, 23: 0.10\n",
    "}\n",
    "# Adding a new column to the dataframe for the hourly price by mapping the 'hours' to the price dictionary\n",
    "df_sorted['price_per_kWh'] = df_sorted['hours'].map(hourly_prices)\n",
    "\n",
    "# Calculating the total cost for each row\n",
    "df_sorted['total_cost'] = df_sorted['usages'] * df_sorted['price_per_kWh']\n",
    "\n",
    "# Total cost across all entries\n",
    "total_cost = df_sorted['total_cost'].sum()\n",
    "total_cost, df_sorted"
   ],
   "metadata": {
    "collapsed": false,
    "ExecuteTime": {
     "end_time": "2024-06-25T03:02:06.982668Z",
     "start_time": "2024-06-25T03:02:06.964415Z"
    }
   },
   "id": "c5133e235a0d78fc",
   "execution_count": 75
  },
  {
   "cell_type": "code",
   "outputs": [],
   "source": [
    "#Q6 a"
   ],
   "metadata": {
    "collapsed": false,
    "ExecuteTime": {
     "end_time": "2024-06-25T03:02:27.609510Z",
     "start_time": "2024-06-25T03:02:27.593237Z"
    }
   },
   "id": "babbdfcc56979c1d",
   "execution_count": 76
  },
  {
   "cell_type": "code",
   "outputs": [
    {
     "data": {
      "text/plain": "1438.34271"
     },
     "execution_count": 77,
     "metadata": {},
     "output_type": "execute_result"
    }
   ],
   "source": [
    "data_time['usages'].sum()*0.21"
   ],
   "metadata": {
    "collapsed": false,
    "ExecuteTime": {
     "end_time": "2024-06-25T03:03:20.783563Z",
     "start_time": "2024-06-25T03:03:20.766010Z"
    }
   },
   "id": "2f43e36d9fc4bbd1",
   "execution_count": 77
  },
  {
   "cell_type": "code",
   "outputs": [],
   "source": [
    "###q7 c"
   ],
   "metadata": {
    "collapsed": false
   },
   "id": "5f6f227275cc8b4a"
  }
 ],
 "metadata": {
  "kernelspec": {
   "display_name": "Python 3",
   "language": "python",
   "name": "python3"
  },
  "language_info": {
   "codemirror_mode": {
    "name": "ipython",
    "version": 2
   },
   "file_extension": ".py",
   "mimetype": "text/x-python",
   "name": "python",
   "nbconvert_exporter": "python",
   "pygments_lexer": "ipython2",
   "version": "2.7.6"
  }
 },
 "nbformat": 4,
 "nbformat_minor": 5
}
