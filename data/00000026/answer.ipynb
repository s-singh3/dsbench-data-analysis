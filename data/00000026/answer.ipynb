{
 "cells": [
  {
   "cell_type": "code",
   "execution_count": 3,
   "id": "initial_id",
   "metadata": {
    "collapsed": true,
    "ExecuteTime": {
     "end_time": "2024-06-24T21:55:50.601333Z",
     "start_time": "2024-06-24T21:55:50.594813Z"
    }
   },
   "outputs": [
    {
     "name": "stdout",
     "output_type": "stream",
     "text": [
      "11786471.34208\n"
     ]
    }
   ],
   "source": [
    "#question 1 b\n",
    "a = 1*(1+0.048)*(1+0.048)*(1+0.048)*(1+0.048)* 2*2500000\n",
    "b = 1*(1+0.048)*(1+0.048)*(1+0.048)* 2*2500000\n",
    "print(a + b)"
   ]
  },
  {
   "cell_type": "code",
   "outputs": [],
   "source": [
    "import math"
   ],
   "metadata": {
    "collapsed": false,
    "ExecuteTime": {
     "end_time": "2024-06-24T21:59:47.348521Z",
     "start_time": "2024-06-24T21:59:47.342856Z"
    }
   },
   "id": "8639532608f24017",
   "execution_count": 4
  },
  {
   "cell_type": "code",
   "outputs": [
    {
     "name": "stdout",
     "output_type": "stream",
     "text": [
      "620475.2082056368\n"
     ]
    }
   ],
   "source": [
    "#question 2 d\n",
    "q2 = math.pow(1+0.048, 9)*2500000 + math.pow(1+0.025, 9) * 1750000 + 750000 * math.pow(1+0.02, 9) \n",
    "print(q2 * 0.09)"
   ],
   "metadata": {
    "collapsed": false,
    "ExecuteTime": {
     "end_time": "2024-06-24T22:06:41.897931Z",
     "start_time": "2024-06-24T22:06:41.884212Z"
    }
   },
   "id": "fc881763a95178c",
   "execution_count": 6
  },
  {
   "cell_type": "code",
   "outputs": [
    {
     "name": "stdout",
     "output_type": "stream",
     "text": [
      "738921126.9156089\n",
      "723921126.9156089\n"
     ]
    }
   ],
   "source": [
    "#question 3 f\n",
    "labor = 0\n",
    "material = 0\n",
    "other = 0\n",
    "profitm = 0\n",
    "for i in range(2016, 2030):\n",
    "    labor += 2500000*math.pow(1+0.048, (i-2016)) * 2 + 2500000*math.pow(1+0.048, (i-2016+1)) *2\n",
    "    material += 1750000*math.pow(1+0.025, (i-2016)) * 4\n",
    "    other += 750000*math.pow(1+0.02, (i-2016)) * 2 + 750000*math.pow(1+0.02,  (i-2016+1)) * 2\n",
    "profitm += 0.09 + (labor + material + other)\n",
    "\n",
    "print(labor+material+other+profitm+10000000+5000000)\n",
    "print(labor+material+other+profitm)\n"
   ],
   "metadata": {
    "collapsed": false,
    "ExecuteTime": {
     "end_time": "2024-06-24T22:18:11.761458Z",
     "start_time": "2024-06-24T22:18:11.755896Z"
    }
   },
   "id": "4e8d697f868a8bad",
   "execution_count": 9
  },
  {
   "cell_type": "code",
   "outputs": [
    {
     "name": "stdout",
     "output_type": "stream",
     "text": [
      "145703875.51431328\n",
      "-5633540.09684108\n"
     ]
    }
   ],
   "source": [
    "## question 4 c\n",
    "bp1 = 9000000\n",
    "bp2 = 0\n",
    "all = 50000\n",
    "bp1_sum = 0\n",
    "for i in range(2016, 2030):\n",
    "    bp1_sum += bp1 * 0.25 * math.pow(1+0.022, (i-2016))*4 \n",
    "print(bp1_sum)\n",
    "print((5000000-bp1_sum) / (0.25 * math.pow(1+0.04, (i-2016))*4*15))"
   ],
   "metadata": {
    "collapsed": false,
    "ExecuteTime": {
     "end_time": "2024-06-24T22:28:57.887612Z",
     "start_time": "2024-06-24T22:28:57.881979Z"
    }
   },
   "id": "5174e9cd06ab91d2",
   "execution_count": 11
  },
  {
   "cell_type": "code",
   "outputs": [],
   "source": [
    "## question 5 d\n"
   ],
   "metadata": {
    "collapsed": false
   },
   "id": "1352a9af36edd06f"
  },
  {
   "cell_type": "code",
   "outputs": [],
   "source": [
    "## question 6 b c a e g e\n"
   ],
   "metadata": {
    "collapsed": false
   },
   "id": "41e027eca01db8e"
  }
 ],
 "metadata": {
  "kernelspec": {
   "display_name": "Python 3",
   "language": "python",
   "name": "python3"
  },
  "language_info": {
   "codemirror_mode": {
    "name": "ipython",
    "version": 2
   },
   "file_extension": ".py",
   "mimetype": "text/x-python",
   "name": "python",
   "nbconvert_exporter": "python",
   "pygments_lexer": "ipython2",
   "version": "2.7.6"
  }
 },
 "nbformat": 4,
 "nbformat_minor": 5
}
